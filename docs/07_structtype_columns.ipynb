{
 "cells": [
  {
   "attachments": {},
   "cell_type": "markdown",
   "metadata": {},
   "source": [
    "# Adding StructType columns\n",
    "\n",
    "You can use the following syntax to add `StructType` columns."
   ]
  },
  {
   "cell_type": "code",
   "execution_count": 1,
   "metadata": {},
   "outputs": [
    {
     "name": "stderr",
     "output_type": "stream",
     "text": [
      "Setting default log level to \"WARN\".\n",
      "To adjust logging level use sc.setLogLevel(newLevel). For SparkR, use setLogLevel(newLevel).\n"
     ]
    },
    {
     "name": "stdout",
     "output_type": "stream",
     "text": [
      "23/03/23 11:00:37 WARN NativeCodeLoader: Unable to load native-hadoop library for your platform... using builtin-java classes where applicable\n",
      "23/03/23 11:00:37 WARN Utils: Service 'SparkUI' could not bind on port 4040. Attempting port 4041.\n"
     ]
    }
   ],
   "source": [
    "from pyspark.sql import SparkSession\n",
    "spark = SparkSession.Builder().getOrCreate()"
   ]
  },
  {
   "cell_type": "code",
   "execution_count": 2,
   "metadata": {},
   "outputs": [
    {
     "name": "stderr",
     "output_type": "stream",
     "text": [
      "[Stage 0:>                                                          (0 + 1) / 1]\r"
     ]
    },
    {
     "name": "stdout",
     "output_type": "stream",
     "text": [
      "+------+\n",
      "|values|\n",
      "+------+\n",
      "|{1, 2}|\n",
      "|{2, 3}|\n",
      "|{3, 4}|\n",
      "+------+\n",
      "\n"
     ]
    },
    {
     "name": "stderr",
     "output_type": "stream",
     "text": [
      "                                                                                \r"
     ]
    }
   ],
   "source": [
    "from typedspark import Schema, Column, StructType, transform_to_schema, structtype_column, create_partially_filled_dataset\n",
    "from pyspark.sql.types import IntegerType\n",
    "\n",
    "class Input(Schema):\n",
    "    a: Column[IntegerType]\n",
    "    b: Column[IntegerType]\n",
    "\n",
    "class Values(Schema):\n",
    "    a: Column[IntegerType]\n",
    "    b: Column[IntegerType]\n",
    "\n",
    "class Output(Schema):\n",
    "    values: Column[StructType[Values]]\n",
    "\n",
    "df = create_partially_filled_dataset(\n",
    "    spark, \n",
    "    Input, \n",
    "    {\n",
    "        Input.a: [1, 2, 3], \n",
    "        Input.b: [2, 3, 4],\n",
    "    }\n",
    ")\n",
    "\n",
    "transform_to_schema(\n",
    "    df,\n",
    "    Output,\n",
    "    {\n",
    "        Output.values: structtype_column(\n",
    "            Values,\n",
    "            {\n",
    "                Values.a: Input.a,\n",
    "                Values.b: Input.b,\n",
    "            }\n",
    "        )\n",
    "    }\n",
    ").show()"
   ]
  },
  {
   "attachments": {},
   "cell_type": "markdown",
   "metadata": {},
   "source": [
    "Just like in `transform_to_schema()`, the `transformations` dictionary in `structtype_column(..., transformations)` requires columns with unique names as keys."
   ]
  },
  {
   "cell_type": "code",
   "execution_count": 3,
   "metadata": {},
   "outputs": [
    {
     "name": "stdout",
     "output_type": "stream",
     "text": [
      "23/03/23 11:00:40 WARN Column: Constructing trivially true equals predicate, ''a = 'a'. Perhaps you need to use aliases.\n",
      "Cannot convert column into bool: please use '&' for 'and', '|' for 'or', '~' for 'not' when building DataFrame boolean expressions.\n"
     ]
    }
   ],
   "source": [
    "try:\n",
    "    transform_to_schema(\n",
    "        df,\n",
    "        Output,\n",
    "        {\n",
    "            Output.values: structtype_column(\n",
    "                Values,\n",
    "                {\n",
    "                    Values.a: Input.a + 2,\n",
    "                    Values.a: Values.a * 3,\n",
    "                    Values.b: Input.b,\n",
    "                }\n",
    "            )\n",
    "        }\n",
    "    )\n",
    "except ValueError as e:\n",
    "    print(e)"
   ]
  },
  {
   "attachments": {},
   "cell_type": "markdown",
   "metadata": {},
   "source": [
    "Instead, combine these into a single line:"
   ]
  },
  {
   "cell_type": "code",
   "execution_count": 5,
   "metadata": {},
   "outputs": [
    {
     "name": "stdout",
     "output_type": "stream",
     "text": [
      "+-------+\n",
      "| values|\n",
      "+-------+\n",
      "| {9, 2}|\n",
      "|{12, 3}|\n",
      "|{15, 4}|\n",
      "+-------+\n",
      "\n"
     ]
    }
   ],
   "source": [
    "transform_to_schema(\n",
    "    df,\n",
    "    Output,\n",
    "    {\n",
    "        Output.values: structtype_column(\n",
    "            Values,\n",
    "            {\n",
    "                Values.a: (Input.a + 2) * 3,\n",
    "                Values.b: Input.b,\n",
    "            }\n",
    "        )\n",
    "    }\n",
    ").show()\n"
   ]
  },
  {
   "cell_type": "code",
   "execution_count": null,
   "metadata": {},
   "outputs": [],
   "source": []
  }
 ],
 "metadata": {
  "kernelspec": {
   "display_name": "typedspark",
   "language": "python",
   "name": "python3"
  },
  "language_info": {
   "codemirror_mode": {
    "name": "ipython",
    "version": 3
   },
   "file_extension": ".py",
   "mimetype": "text/x-python",
   "name": "python",
   "nbconvert_exporter": "python",
   "pygments_lexer": "ipython3",
   "version": "3.9.16"
  },
  "orig_nbformat": 4
 },
 "nbformat": 4,
 "nbformat_minor": 2
}

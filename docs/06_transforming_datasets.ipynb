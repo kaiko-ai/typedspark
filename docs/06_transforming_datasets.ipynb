{
 "cells": [
  {
   "attachments": {},
   "cell_type": "markdown",
   "metadata": {},
   "source": [
    "# Transforming a DataSet to another schema\n",
    "\n",
    "We often come across the following pattern:"
   ]
  },
  {
   "cell_type": "code",
   "execution_count": 2,
   "metadata": {},
   "outputs": [],
   "source": [
    "from pyspark.sql.types import IntegerType\n",
    "from typedspark import Column, Schema, DataSet\n",
    "\n",
    "class A(Schema):\n",
    "    a: Column[IntegerType]\n",
    "    b: Column[IntegerType]\n",
    "    c: Column[IntegerType]\n",
    "    d: Column[IntegerType]\n",
    "    e: Column[IntegerType]\n",
    "\n",
    "class B(Schema):\n",
    "    f: Column[IntegerType]\n",
    "    g: Column[IntegerType]\n",
    "    h: Column[IntegerType]\n",
    "    i: Column[IntegerType]\n",
    "    j: Column[IntegerType]\n",
    "\n",
    "class AB(Schema):\n",
    "    a: Column[IntegerType]\n",
    "    b: Column[IntegerType]\n",
    "    i: Column[IntegerType]\n",
    "    j: Column[IntegerType]\n",
    "\n",
    "def foo(df_a: DataSet[A], df_b: DataSet[B]) -> DataSet[AB]:\n",
    "    return DataSet[AB](\n",
    "        df_a.join(df_b, A.a == B.f)\n",
    "        .withColumn(AB.a.str, A.a + 3)\n",
    "        .withColumn(AB.b.str, A.b + 7)\n",
    "        .withColumn(AB.i.str, B.i - 5)\n",
    "        .withColumn(AB.j.str, B.j + 1)\n",
    "        .select(*AB.all_column_names())\n",
    "    )"
   ]
  },
  {
   "attachments": {},
   "cell_type": "markdown",
   "metadata": {},
   "source": [
    "We can make that quite a bit more condensed:"
   ]
  },
  {
   "cell_type": "code",
   "execution_count": 3,
   "metadata": {},
   "outputs": [],
   "source": [
    "from typedspark import transform_to_schema\n",
    "\n",
    "def foo(df_a: DataSet[A], df_b: DataSet[B]) -> DataSet[AB]:\n",
    "    return transform_to_schema(\n",
    "        df_a.join(df_b, A.a == B.f),\n",
    "        AB,\n",
    "        {\n",
    "            AB.a: A.a + 3,\n",
    "            AB.b: A.b + 7,\n",
    "            AB.i: B.i - 5,\n",
    "            AB.j: B.j + 1,\n",
    "        }\n",
    "    )"
   ]
  },
  {
   "attachments": {},
   "cell_type": "markdown",
   "metadata": {},
   "source": [
    "This function can also be used to just select the subset of columns used in the schema, simply omit the third argument."
   ]
  },
  {
   "cell_type": "code",
   "execution_count": 4,
   "metadata": {},
   "outputs": [],
   "source": [
    "class A(Schema):\n",
    "    a: Column[IntegerType]\n",
    "    b: Column[IntegerType]\n",
    "    c: Column[IntegerType]\n",
    "    d: Column[IntegerType]\n",
    "    e: Column[IntegerType]\n",
    "\n",
    "class B(Schema):\n",
    "    a: Column[IntegerType]\n",
    "    b: Column[IntegerType]\n",
    "\n",
    "def foo(df: DataSet[A]) -> DataSet[B]:\n",
    "    return transform_to_schema(df, B)"
   ]
  },
  {
   "attachments": {},
   "cell_type": "markdown",
   "metadata": {},
   "source": [
    "The `transformations` dictionary in `transform_to_schema(..., transformations)` requires columns with unique names as keys. The following pattern will throw an exception."
   ]
  },
  {
   "cell_type": "code",
   "execution_count": 5,
   "metadata": {},
   "outputs": [],
   "source": [
    "from pyspark.sql import SparkSession\n",
    "spark = SparkSession.Builder().getOrCreate()"
   ]
  },
  {
   "cell_type": "code",
   "execution_count": 12,
   "metadata": {},
   "outputs": [
    {
     "name": "stdout",
     "output_type": "stream",
     "text": [
      "23/03/23 10:51:45 WARN Column: Constructing trivially true equals predicate, ''a = 'a'. Perhaps you need to use aliases.\n",
      "Cannot convert column into bool: please use '&' for 'and', '|' for 'or', '~' for 'not' when building DataFrame boolean expressions.\n"
     ]
    }
   ],
   "source": [
    "from typedspark import create_partially_filled_dataset\n",
    "\n",
    "df = create_partially_filled_dataset(spark, A, {A.a: [1, 2, 3]})\n",
    "\n",
    "try:\n",
    "    transform_to_schema(\n",
    "        df,\n",
    "        B,\n",
    "        {\n",
    "            B.a: A.a + 3,\n",
    "            B.a: B.a * 2,\n",
    "        }\n",
    "    )\n",
    "except ValueError as e:\n",
    "    print(e)"
   ]
  },
  {
   "attachments": {},
   "cell_type": "markdown",
   "metadata": {},
   "source": [
    "Instead, use one line per column"
   ]
  },
  {
   "cell_type": "code",
   "execution_count": 11,
   "metadata": {},
   "outputs": [
    {
     "name": "stdout",
     "output_type": "stream",
     "text": [
      "+---+----+\n",
      "|  a|   b|\n",
      "+---+----+\n",
      "|  8|null|\n",
      "| 10|null|\n",
      "| 12|null|\n",
      "+---+----+\n",
      "\n"
     ]
    }
   ],
   "source": [
    "transform_to_schema(\n",
    "    df,\n",
    "    B,\n",
    "    {\n",
    "        B.a: (A.a + 3) * 2,\n",
    "    }\n",
    ").show()"
   ]
  },
  {
   "cell_type": "markdown",
   "metadata": {},
   "source": []
  }
 ],
 "metadata": {
  "kernelspec": {
   "display_name": "typedspark",
   "language": "python",
   "name": "python3"
  },
  "language_info": {
   "codemirror_mode": {
    "name": "ipython",
    "version": 3
   },
   "file_extension": ".py",
   "mimetype": "text/x-python",
   "name": "python",
   "nbconvert_exporter": "python",
   "pygments_lexer": "ipython3",
   "version": "3.9.16"
  },
  "orig_nbformat": 4
 },
 "nbformat": 4,
 "nbformat_minor": 2
}

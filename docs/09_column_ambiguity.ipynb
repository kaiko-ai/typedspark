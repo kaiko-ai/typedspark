{
 "cells": [
  {
   "attachments": {},
   "cell_type": "markdown",
   "metadata": {},
   "source": [
    "# Dealing wth column ambiguity\n",
    "\n",
    "Sometimes columns can be ambiguous, for example:"
   ]
  },
  {
   "cell_type": "code",
   "execution_count": 17,
   "metadata": {},
   "outputs": [],
   "source": [
    "from pyspark.sql import SparkSession\n",
    "spark = SparkSession.Builder().getOrCreate()"
   ]
  },
  {
   "cell_type": "code",
   "execution_count": 18,
   "metadata": {},
   "outputs": [
    {
     "name": "stdout",
     "output_type": "stream",
     "text": [
      "23/03/23 11:47:15 WARN Column: Constructing trivially true equals predicate, ''id = 'id'. Perhaps you need to use aliases.\n",
      "Reference 'id' is ambiguous, could be: id, id.\n"
     ]
    }
   ],
   "source": [
    "from typedspark import Column, Schema, create_partially_filled_dataset\n",
    "from pyspark.sql.types import IntegerType, StringType\n",
    "from pyspark.sql.utils import AnalysisException\n",
    "\n",
    "class Person(Schema):\n",
    "    id: Column[IntegerType]\n",
    "    name: Column[StringType]\n",
    "    age: Column[IntegerType]\n",
    "\n",
    "class Job(Schema):\n",
    "    id: Column[IntegerType]\n",
    "    salary: Column[IntegerType]\n",
    "\n",
    "df_a = create_partially_filled_dataset(spark, Person, {Person.id: [1, 2, 3]})\n",
    "df_b = create_partially_filled_dataset(spark, Job, {Job.id: [1, 2, 3]})\n",
    "\n",
    "try:\n",
    "    df_a.join(df_b, Person.id == Job.id)\n",
    "except AnalysisException as e:\n",
    "    print(e)"
   ]
  },
  {
   "attachments": {},
   "cell_type": "markdown",
   "metadata": {},
   "source": [
    "The above resulted in a `AnalysisException`, because Spark can't figure out whether `id` belongs to `df_a` or `df_b`. To deal with this, you need to register your `Schema` to the `DataSet`."
   ]
  },
  {
   "cell_type": "code",
   "execution_count": 19,
   "metadata": {},
   "outputs": [
    {
     "name": "stdout",
     "output_type": "stream",
     "text": [
      "+---+----+----+---+------+\n",
      "| id|name| age| id|salary|\n",
      "+---+----+----+---+------+\n",
      "|  1|null|null|  1|  null|\n",
      "|  2|null|null|  2|  null|\n",
      "|  3|null|null|  3|  null|\n",
      "+---+----+----+---+------+\n",
      "\n"
     ]
    }
   ],
   "source": [
    "from typedspark import register_schema_to_dataset\n",
    "\n",
    "person = register_schema_to_dataset(df_a, Person)\n",
    "job = register_schema_to_dataset(df_b, Job)\n",
    "(\n",
    "    df_a\n",
    "    .join(df_b, person.id == job.id)\n",
    "    .show()\n",
    ")"
   ]
  },
  {
   "attachments": {},
   "cell_type": "markdown",
   "metadata": {},
   "source": [
    "It is often a good idea to drop the ambiguous column, for example:"
   ]
  },
  {
   "cell_type": "code",
   "execution_count": 20,
   "metadata": {},
   "outputs": [
    {
     "name": "stdout",
     "output_type": "stream",
     "text": [
      "+---+------+----+----+\n",
      "| id|salary|name| age|\n",
      "+---+------+----+----+\n",
      "|  1|  null|null|null|\n",
      "|  2|  null|null|null|\n",
      "|  3|  null|null|null|\n",
      "+---+------+----+----+\n",
      "\n"
     ]
    }
   ],
   "source": [
    "from typedspark import transform_to_schema\n",
    "\n",
    "class PersonWithJob(Person, Job):\n",
    "    pass\n",
    "\n",
    "(\n",
    "    transform_to_schema(\n",
    "        df_a\n",
    "        .join(df_b, person.id == job.id)\n",
    "        .drop(job.id),\n",
    "        PersonWithJob\n",
    "    )\n",
    "    .show()\n",
    ")"
   ]
  },
  {
   "cell_type": "code",
   "execution_count": null,
   "metadata": {},
   "outputs": [],
   "source": []
  }
 ],
 "metadata": {
  "kernelspec": {
   "display_name": "typedspark",
   "language": "python",
   "name": "python3"
  },
  "language_info": {
   "codemirror_mode": {
    "name": "ipython",
    "version": 3
   },
   "file_extension": ".py",
   "mimetype": "text/x-python",
   "name": "python",
   "nbconvert_exporter": "python",
   "pygments_lexer": "ipython3",
   "version": "3.9.16"
  },
  "orig_nbformat": 4
 },
 "nbformat": 4,
 "nbformat_minor": 2
}

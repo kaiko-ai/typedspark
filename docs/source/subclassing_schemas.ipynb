{
 "cells": [
  {
   "attachments": {},
   "cell_type": "markdown",
   "id": "76ffac97",
   "metadata": {
    "papermill": {
     "duration": 0.008204,
     "end_time": "2023-04-17T15:10:55.040242",
     "exception": false,
     "start_time": "2023-04-17T15:10:55.032038",
     "status": "completed"
    },
    "tags": []
   },
   "source": [
    "# Subclassing schemas\n",
    "Subclassing schemas is a useful pattern for pipelines where every next function adds a few columns."
   ]
  },
  {
   "cell_type": "code",
   "execution_count": 1,
   "id": "7725965f",
   "metadata": {
    "execution": {
     "iopub.execute_input": "2023-04-17T15:10:55.056320Z",
     "iopub.status.busy": "2023-04-17T15:10:55.055797Z",
     "iopub.status.idle": "2023-04-17T15:10:55.164721Z",
     "shell.execute_reply": "2023-04-17T15:10:55.163756Z"
    },
    "papermill": {
     "duration": 0.123131,
     "end_time": "2023-04-17T15:10:55.167776",
     "exception": false,
     "start_time": "2023-04-17T15:10:55.044645",
     "status": "completed"
    },
    "tags": []
   },
   "outputs": [],
   "source": [
    "from typedspark import Column, Schema, DataSet\n",
    "from pyspark.sql.types import LongType, StringType\n",
    "from pyspark.sql.functions import lit\n",
    "\n",
    "class Person(Schema):\n",
    "    id: Column[LongType]\n",
    "    name: Column[StringType]\n",
    "\n",
    "class PersonWithAge(Person):\n",
    "    age: Column[LongType]\n",
    "\n",
    "def foo(df: DataSet[Person]) -> DataSet[PersonWithAge]:\n",
    "    return DataSet[PersonWithAge](\n",
    "        df.withColumn(PersonWithAge.age, lit(42))\n",
    "    )"
   ]
  },
  {
   "attachments": {},
   "cell_type": "markdown",
   "id": "cc265385",
   "metadata": {
    "papermill": {
     "duration": 0.000947,
     "end_time": "2023-04-17T15:10:55.171536",
     "exception": false,
     "start_time": "2023-04-17T15:10:55.170589",
     "status": "completed"
    },
    "tags": []
   },
   "source": [
    "Similarly, you can use this pattern when merging (or joining or concatenating) two datasets together."
   ]
  },
  {
   "cell_type": "code",
   "execution_count": 2,
   "id": "c0d6b6a6",
   "metadata": {
    "execution": {
     "iopub.execute_input": "2023-04-17T15:10:55.174794Z",
     "iopub.status.busy": "2023-04-17T15:10:55.174429Z",
     "iopub.status.idle": "2023-04-17T15:10:55.181192Z",
     "shell.execute_reply": "2023-04-17T15:10:55.180318Z"
    },
    "papermill": {
     "duration": 0.012081,
     "end_time": "2023-04-17T15:10:55.184426",
     "exception": false,
     "start_time": "2023-04-17T15:10:55.172345",
     "status": "completed"
    },
    "tags": []
   },
   "outputs": [],
   "source": [
    "class PersonA(Schema):\n",
    "    id: Column[LongType]\n",
    "    name: Column[StringType]\n",
    "\n",
    "class PersonB(Schema):\n",
    "    id: Column[LongType]\n",
    "    age: Column\n",
    "\n",
    "class PersonAB(PersonA, PersonB):\n",
    "    pass\n",
    "\n",
    "def foo(df_a: DataSet[PersonA], df_b: DataSet[PersonB]) -> DataSet[PersonAB]:\n",
    "    return DataSet[PersonAB](\n",
    "        df_a.join(df_b, PersonAB.id)\n",
    "    )"
   ]
  },
  {
   "cell_type": "markdown",
   "id": "b24f0e09",
   "metadata": {
    "papermill": {
     "duration": 0.004025,
     "end_time": "2023-04-17T15:10:55.190604",
     "exception": false,
     "start_time": "2023-04-17T15:10:55.186579",
     "status": "completed"
    },
    "tags": []
   },
   "source": []
  }
 ],
 "metadata": {
  "kernelspec": {
   "display_name": "typedspark",
   "language": "python",
   "name": "python3"
  },
  "language_info": {
   "codemirror_mode": {
    "name": "ipython",
    "version": 3
   },
   "file_extension": ".py",
   "mimetype": "text/x-python",
   "name": "python",
   "nbconvert_exporter": "python",
   "pygments_lexer": "ipython3",
   "version": "3.11.2"
  },
  "papermill": {
   "default_parameters": {},
   "duration": 1.275324,
   "end_time": "2023-04-17T15:10:55.414433",
   "environment_variables": {},
   "exception": null,
   "input_path": "docs/source/subclassing_schemas.ipynb",
   "output_path": "docs/source/subclassing_schemas.ipynb",
   "parameters": {},
   "start_time": "2023-04-17T15:10:54.139109",
   "version": "2.4.0"
  }
 },
 "nbformat": 4,
 "nbformat_minor": 5
}
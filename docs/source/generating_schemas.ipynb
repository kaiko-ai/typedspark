{
 "cells": [
  {
   "attachments": {},
   "cell_type": "markdown",
   "id": "a006aaea",
   "metadata": {
    "papermill": {
     "duration": 0.017882,
     "end_time": "2023-04-20T12:59:07.708359",
     "exception": false,
     "start_time": "2023-04-20T12:59:07.690477",
     "status": "completed"
    },
    "tags": []
   },
   "source": [
    "# Dynamically generate Schemas from existing tables\n",
    "You can dynamically load a `DataSet` and its corresponding `Schema` from an existing table. To illustrate this, let us first make a temporary table that we can load later."
   ]
  },
  {
   "cell_type": "code",
   "execution_count": 1,
   "id": "5442cec0",
   "metadata": {
    "execution": {
     "iopub.execute_input": "2023-04-20T12:59:07.721845Z",
     "iopub.status.busy": "2023-04-20T12:59:07.721474Z",
     "iopub.status.idle": "2023-04-20T12:59:14.500214Z",
     "shell.execute_reply": "2023-04-20T12:59:14.499863Z"
    },
    "papermill": {
     "duration": 6.787453,
     "end_time": "2023-04-20T12:59:14.501494",
     "exception": false,
     "start_time": "2023-04-20T12:59:07.714041",
     "status": "completed"
    },
    "tags": []
   },
   "outputs": [
    {
     "name": "stderr",
     "output_type": "stream",
     "text": [
      "Setting default log level to \"WARN\".\n",
      "To adjust logging level use sc.setLogLevel(newLevel). For SparkR, use setLogLevel(newLevel).\n"
     ]
    },
    {
     "name": "stderr",
     "output_type": "stream",
     "text": [
      "23/04/20 14:59:13 WARN NativeCodeLoader: Unable to load native-hadoop library for your platform... using builtin-java classes where applicable\n"
     ]
    }
   ],
   "source": [
    "from pyspark.sql import SparkSession\n",
    "spark = SparkSession.Builder().config(\"spark.ui.showConsoleProgress\", \"false\").getOrCreate()\n",
    "spark.sparkContext.setLogLevel(\"ERROR\")"
   ]
  },
  {
   "cell_type": "code",
   "execution_count": 2,
   "id": "0df943fb",
   "metadata": {
    "execution": {
     "iopub.execute_input": "2023-04-20T12:59:14.505343Z",
     "iopub.status.busy": "2023-04-20T12:59:14.505179Z",
     "iopub.status.idle": "2023-04-20T12:59:16.126475Z",
     "shell.execute_reply": "2023-04-20T12:59:16.126071Z"
    },
    "papermill": {
     "duration": 1.624414,
     "end_time": "2023-04-20T12:59:16.127658",
     "exception": false,
     "start_time": "2023-04-20T12:59:14.503244",
     "status": "completed"
    },
    "tags": []
   },
   "outputs": [],
   "source": [
    "import pandas as pd\n",
    "\n",
    "(\n",
    "    spark.createDataFrame(\n",
    "        pd.DataFrame(\n",
    "            dict(\n",
    "                name=[\"Jack\", \"John\", \"Jane\"],\n",
    "                age=[20, 30, 40],\n",
    "            )\n",
    "        )\n",
    "    )\n",
    "    .createOrReplaceTempView(\"person_table\")\n",
    ")\n"
   ]
  },
  {
   "attachments": {},
   "cell_type": "markdown",
   "id": "10524400",
   "metadata": {
    "papermill": {
     "duration": 0.001347,
     "end_time": "2023-04-20T12:59:16.130676",
     "exception": false,
     "start_time": "2023-04-20T12:59:16.129329",
     "status": "completed"
    },
    "tags": []
   },
   "source": [
    "We can now load these data using `load_table()`. Note that the `Schema` is inferred: it doesn't need to have been serialized using `typedspark`."
   ]
  },
  {
   "cell_type": "code",
   "execution_count": 3,
   "id": "b6c659c6",
   "metadata": {
    "execution": {
     "iopub.execute_input": "2023-04-20T12:59:16.133856Z",
     "iopub.status.busy": "2023-04-20T12:59:16.133665Z",
     "iopub.status.idle": "2023-04-20T12:59:16.158905Z",
     "shell.execute_reply": "2023-04-20T12:59:16.158415Z"
    },
    "papermill": {
     "duration": 0.028301,
     "end_time": "2023-04-20T12:59:16.160132",
     "exception": false,
     "start_time": "2023-04-20T12:59:16.131831",
     "status": "completed"
    },
    "tags": []
   },
   "outputs": [],
   "source": [
    "from typedspark import load_table\n",
    "\n",
    "df, Person = load_table(spark, \"person_table\")"
   ]
  },
  {
   "attachments": {},
   "cell_type": "markdown",
   "id": "51e4792d",
   "metadata": {
    "papermill": {
     "duration": 0.001267,
     "end_time": "2023-04-20T12:59:16.162961",
     "exception": false,
     "start_time": "2023-04-20T12:59:16.161694",
     "status": "completed"
    },
    "tags": []
   },
   "source": [
    "From here, it's trivial to generate the `Schema` for this table."
   ]
  },
  {
   "cell_type": "code",
   "execution_count": 4,
   "id": "defb2a82",
   "metadata": {
    "execution": {
     "iopub.execute_input": "2023-04-20T12:59:16.165999Z",
     "iopub.status.busy": "2023-04-20T12:59:16.165876Z",
     "iopub.status.idle": "2023-04-20T12:59:16.169322Z",
     "shell.execute_reply": "2023-04-20T12:59:16.169078Z"
    },
    "papermill": {
     "duration": 0.005977,
     "end_time": "2023-04-20T12:59:16.170186",
     "exception": false,
     "start_time": "2023-04-20T12:59:16.164209",
     "status": "completed"
    },
    "tags": []
   },
   "outputs": [
    {
     "data": {
      "text/plain": [
       "\n",
       "from pyspark.sql.types import LongType, StringType\n",
       "\n",
       "from typedspark import Column, Schema\n",
       "\n",
       "\n",
       "class DynamicallyLoadedSchema(Schema):\n",
       "    name: Column[StringType]\n",
       "    age: Column[LongType]"
      ]
     },
     "execution_count": 4,
     "metadata": {},
     "output_type": "execute_result"
    }
   ],
   "source": [
    "Person"
   ]
  },
  {
   "attachments": {},
   "cell_type": "markdown",
   "id": "bdaf1423",
   "metadata": {
    "papermill": {
     "duration": 0.001643,
     "end_time": "2023-04-20T12:59:16.173368",
     "exception": false,
     "start_time": "2023-04-20T12:59:16.171725",
     "status": "completed"
    },
    "tags": []
   },
   "source": [
    "To also generate documentation, run:"
   ]
  },
  {
   "cell_type": "code",
   "execution_count": 5,
   "id": "7305a079",
   "metadata": {
    "execution": {
     "iopub.execute_input": "2023-04-20T12:59:16.176868Z",
     "iopub.status.busy": "2023-04-20T12:59:16.176729Z",
     "iopub.status.idle": "2023-04-20T12:59:16.178858Z",
     "shell.execute_reply": "2023-04-20T12:59:16.178508Z"
    },
    "papermill": {
     "duration": 0.004892,
     "end_time": "2023-04-20T12:59:16.179696",
     "exception": false,
     "start_time": "2023-04-20T12:59:16.174804",
     "status": "completed"
    },
    "tags": []
   },
   "outputs": [
    {
     "name": "stdout",
     "output_type": "stream",
     "text": [
      "from typing import Annotated\n",
      "\n",
      "from pyspark.sql.types import LongType, StringType\n",
      "\n",
      "from typedspark import Column, ColumnMeta, Schema\n",
      "\n",
      "\n",
      "class Person(Schema):\n",
      "    \"\"\"Add documentation here.\"\"\"\n",
      "\n",
      "    name: Annotated[Column[StringType], ColumnMeta(comment=\"\")]\n",
      "    age: Annotated[Column[LongType], ColumnMeta(comment=\"\")]\n",
      "\n"
     ]
    }
   ],
   "source": [
    "Person.print_schema(schema_name=\"Person\", include_documentation=True)"
   ]
  },
  {
   "attachments": {},
   "cell_type": "markdown",
   "id": "0f6ef71c",
   "metadata": {
    "papermill": {
     "duration": 0.0013,
     "end_time": "2023-04-20T12:59:16.182513",
     "exception": false,
     "start_time": "2023-04-20T12:59:16.181213",
     "status": "completed"
    },
    "tags": []
   },
   "source": [
    "You can now use `df` and `Person` just like you would in your IDE. On Databricks, this also comes with an additional advantage: auto-complete on column names. No more looking at `df.columns` every minute to remember the column names!"
   ]
  },
  {
   "cell_type": "code",
   "execution_count": 6,
   "id": "9ef250c6",
   "metadata": {
    "execution": {
     "iopub.execute_input": "2023-04-20T12:59:16.186006Z",
     "iopub.status.busy": "2023-04-20T12:59:16.185795Z",
     "iopub.status.idle": "2023-04-20T12:59:17.299298Z",
     "shell.execute_reply": "2023-04-20T12:59:17.298991Z"
    },
    "papermill": {
     "duration": 1.116358,
     "end_time": "2023-04-20T12:59:17.300237",
     "exception": false,
     "start_time": "2023-04-20T12:59:16.183879",
     "status": "completed"
    },
    "tags": []
   },
   "outputs": [
    {
     "name": "stdout",
     "output_type": "stream",
     "text": [
      "+----+---+\n",
      "|name|age|\n",
      "+----+---+\n",
      "|John| 30|\n",
      "|Jane| 40|\n",
      "+----+---+\n",
      "\n"
     ]
    }
   ],
   "source": [
    "(\n",
    "    df\n",
    "    .filter(Person.age > 25)\n",
    "    .show()\n",
    ")"
   ]
  },
  {
   "attachments": {},
   "cell_type": "markdown",
   "id": "15c03521",
   "metadata": {
    "papermill": {
     "duration": 0.00154,
     "end_time": "2023-04-20T12:59:17.304389",
     "exception": false,
     "start_time": "2023-04-20T12:59:17.302849",
     "status": "completed"
    },
    "tags": []
   },
   "source": [
    "Of note, `load_table()` automatically runs `register_schema_to_dataset()` on the resulting `DataSet` and `Schema`, hence resolving potential column disambiguities."
   ]
  },
  {
   "cell_type": "markdown",
   "id": "18ea295c",
   "metadata": {
    "papermill": {
     "duration": 0.001454,
     "end_time": "2023-04-20T12:59:17.307457",
     "exception": false,
     "start_time": "2023-04-20T12:59:17.306003",
     "status": "completed"
    },
    "tags": []
   },
   "source": []
  }
 ],
 "metadata": {
  "kernelspec": {
   "display_name": "typedspark",
   "language": "python",
   "name": "python3"
  },
  "language_info": {
   "codemirror_mode": {
    "name": "ipython",
    "version": 3
   },
   "file_extension": ".py",
   "mimetype": "text/x-python",
   "name": "python",
   "nbconvert_exporter": "python",
   "pygments_lexer": "ipython3",
   "version": "3.11.2"
  },
  "papermill": {
   "default_parameters": {},
   "duration": 11.248666,
   "end_time": "2023-04-20T12:59:18.030610",
   "environment_variables": {},
   "exception": null,
   "input_path": "docs/source/generating_schemas.ipynb",
   "output_path": "docs/source/generating_schemas.ipynb",
   "parameters": {},
   "start_time": "2023-04-20T12:59:06.781944",
   "version": "2.4.0"
  }
 },
 "nbformat": 4,
 "nbformat_minor": 5
}
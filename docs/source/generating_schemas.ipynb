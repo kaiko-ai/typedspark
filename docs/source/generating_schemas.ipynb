{
 "cells": [
  {
   "attachments": {},
   "cell_type": "markdown",
   "id": "a006aaea",
   "metadata": {
    "papermill": {
     "duration": 0.010988,
     "end_time": "2023-04-17T15:10:31.138624",
     "exception": false,
     "start_time": "2023-04-17T15:10:31.127636",
     "status": "completed"
    },
    "tags": []
   },
   "source": [
    "# Dynamically generate Schemas from existing tables\n",
    "You can dynamically load a `DataSet` and its corresponding `Schema` from an existing table. To illustrate this, let us first make a temporary table that we can load later."
   ]
  },
  {
   "cell_type": "code",
   "execution_count": null,
   "id": "5442cec0",
   "metadata": {
    "execution": {
     "iopub.execute_input": "2023-04-17T15:10:31.150215Z",
     "iopub.status.busy": "2023-04-17T15:10:31.149922Z",
     "iopub.status.idle": "2023-04-17T15:10:37.773814Z",
     "shell.execute_reply": "2023-04-17T15:10:37.773524Z"
    },
    "papermill": {
     "duration": 6.630642,
     "end_time": "2023-04-17T15:10:37.774826",
     "exception": false,
     "start_time": "2023-04-17T15:10:31.144184",
     "status": "completed"
    },
    "tags": []
   },
   "outputs": [],
   "source": [
    "from pyspark.sql import SparkSession\n",
    "spark = SparkSession.Builder().config(\"spark.ui.showConsoleProgress\", \"false\").getOrCreate()\n",
    "spark.sparkContext.setLogLevel(\"ERROR\")"
   ]
  },
  {
   "cell_type": "code",
   "execution_count": 2,
   "id": "0df943fb",
   "metadata": {
    "execution": {
     "iopub.execute_input": "2023-04-17T15:10:37.778330Z",
     "iopub.status.busy": "2023-04-17T15:10:37.778190Z",
     "iopub.status.idle": "2023-04-17T15:10:39.192150Z",
     "shell.execute_reply": "2023-04-17T15:10:39.191864Z"
    },
    "papermill": {
     "duration": 1.416756,
     "end_time": "2023-04-17T15:10:39.193201",
     "exception": false,
     "start_time": "2023-04-17T15:10:37.776445",
     "status": "completed"
    },
    "tags": []
   },
   "outputs": [],
   "source": [
    "import pandas as pd\n",
    "\n",
    "(\n",
    "    spark.createDataFrame(\n",
    "        pd.DataFrame(\n",
    "            dict(\n",
    "                name=[\"Jack\", \"John\", \"Jane\"],\n",
    "                age=[20, 30, 40],\n",
    "            )\n",
    "        )\n",
    "    )\n",
    "    .createOrReplaceTempView(\"person_table\")\n",
    ")\n"
   ]
  },
  {
   "attachments": {},
   "cell_type": "markdown",
   "id": "10524400",
   "metadata": {
    "papermill": {
     "duration": 0.001261,
     "end_time": "2023-04-17T15:10:39.196030",
     "exception": false,
     "start_time": "2023-04-17T15:10:39.194769",
     "status": "completed"
    },
    "tags": []
   },
   "source": [
    "We can now load these data using `load_table()`. Note that the `Schema` is inferred: it doesn't need to have been serialized using `typedspark`."
   ]
  },
  {
   "cell_type": "code",
   "execution_count": 3,
   "id": "b6c659c6",
   "metadata": {
    "execution": {
     "iopub.execute_input": "2023-04-17T15:10:39.198856Z",
     "iopub.status.busy": "2023-04-17T15:10:39.198706Z",
     "iopub.status.idle": "2023-04-17T15:10:39.219440Z",
     "shell.execute_reply": "2023-04-17T15:10:39.219140Z"
    },
    "papermill": {
     "duration": 0.023301,
     "end_time": "2023-04-17T15:10:39.220427",
     "exception": false,
     "start_time": "2023-04-17T15:10:39.197126",
     "status": "completed"
    },
    "tags": []
   },
   "outputs": [],
   "source": [
    "from typedspark import load_table\n",
    "\n",
    "df, Person = load_table(spark, \"person_table\")"
   ]
  },
  {
   "attachments": {},
   "cell_type": "markdown",
   "id": "51e4792d",
   "metadata": {
    "papermill": {
     "duration": 0.001123,
     "end_time": "2023-04-17T15:10:39.222868",
     "exception": false,
     "start_time": "2023-04-17T15:10:39.221745",
     "status": "completed"
    },
    "tags": []
   },
   "source": [
    "From here, it's trivial to generate the `Schema` for this table."
   ]
  },
  {
   "cell_type": "code",
   "execution_count": 4,
   "id": "defb2a82",
   "metadata": {
    "execution": {
     "iopub.execute_input": "2023-04-17T15:10:39.225583Z",
     "iopub.status.busy": "2023-04-17T15:10:39.225484Z",
     "iopub.status.idle": "2023-04-17T15:10:39.228689Z",
     "shell.execute_reply": "2023-04-17T15:10:39.228469Z"
    },
    "papermill": {
     "duration": 0.005523,
     "end_time": "2023-04-17T15:10:39.229520",
     "exception": false,
     "start_time": "2023-04-17T15:10:39.223997",
     "status": "completed"
    },
    "tags": []
   },
   "outputs": [
    {
     "data": {
      "text/plain": [
       "\n",
       "from pyspark.sql.types import LongType, StringType\n",
       "\n",
       "from typedspark import Column, Schema\n",
       "\n",
       "\n",
       "class DynamicallyLoadedSchema(Schema):\n",
       "    name: Column[StringType]\n",
       "    age: Column[LongType]"
      ]
     },
     "execution_count": 4,
     "metadata": {},
     "output_type": "execute_result"
    }
   ],
   "source": [
    "Person"
   ]
  },
  {
   "attachments": {},
   "cell_type": "markdown",
   "id": "bdaf1423",
   "metadata": {
    "papermill": {
     "duration": 0.001152,
     "end_time": "2023-04-17T15:10:39.231965",
     "exception": false,
     "start_time": "2023-04-17T15:10:39.230813",
     "status": "completed"
    },
    "tags": []
   },
   "source": [
    "To also generate documentation, run:"
   ]
  },
  {
   "cell_type": "code",
   "execution_count": 5,
   "id": "7305a079",
   "metadata": {
    "execution": {
     "iopub.execute_input": "2023-04-17T15:10:39.234781Z",
     "iopub.status.busy": "2023-04-17T15:10:39.234693Z",
     "iopub.status.idle": "2023-04-17T15:10:39.236563Z",
     "shell.execute_reply": "2023-04-17T15:10:39.236315Z"
    },
    "papermill": {
     "duration": 0.004208,
     "end_time": "2023-04-17T15:10:39.237314",
     "exception": false,
     "start_time": "2023-04-17T15:10:39.233106",
     "status": "completed"
    },
    "tags": []
   },
   "outputs": [
    {
     "name": "stdout",
     "output_type": "stream",
     "text": [
      "from typing import Annotated\n",
      "\n",
      "from pyspark.sql.types import LongType, StringType\n",
      "\n",
      "from typedspark import Column, ColumnMeta, Schema\n",
      "\n",
      "\n",
      "class Person(Schema):\n",
      "    \"\"\"Add documentation here.\"\"\"\n",
      "\n",
      "    name: Annotated[Column[StringType], ColumnMeta(comment=\"\")]\n",
      "    age: Annotated[Column[LongType], ColumnMeta(comment=\"\")]\n",
      "\n"
     ]
    }
   ],
   "source": [
    "Person.print_schema(schema_name=\"Person\", include_documentation=True)"
   ]
  },
  {
   "attachments": {},
   "cell_type": "markdown",
   "id": "0f6ef71c",
   "metadata": {
    "papermill": {
     "duration": 0.001196,
     "end_time": "2023-04-17T15:10:39.239791",
     "exception": false,
     "start_time": "2023-04-17T15:10:39.238595",
     "status": "completed"
    },
    "tags": []
   },
   "source": [
    "You can now use `df` and `Person` just like you would in your IDE. On Databricks, this also comes with an additional advantage: auto-complete on column names. No more looking at `df.columns` every minute to remember the column names!"
   ]
  },
  {
   "cell_type": "code",
   "execution_count": 6,
   "id": "9ef250c6",
   "metadata": {
    "execution": {
     "iopub.execute_input": "2023-04-17T15:10:39.242600Z",
     "iopub.status.busy": "2023-04-17T15:10:39.242511Z",
     "iopub.status.idle": "2023-04-17T15:10:40.233079Z",
     "shell.execute_reply": "2023-04-17T15:10:40.232779Z"
    },
    "papermill": {
     "duration": 0.993031,
     "end_time": "2023-04-17T15:10:40.234023",
     "exception": false,
     "start_time": "2023-04-17T15:10:39.240992",
     "status": "completed"
    },
    "tags": []
   },
   "outputs": [
    {
     "name": "stdout",
     "output_type": "stream",
     "text": [
      "+----+---+\n",
      "|name|age|\n",
      "+----+---+\n",
      "|John| 30|\n",
      "|Jane| 40|\n",
      "+----+---+\n",
      "\n"
     ]
    }
   ],
   "source": [
    "(\n",
    "    df\n",
    "    .filter(Person.age > 25)\n",
    "    .show()\n",
    ")"
   ]
  },
  {
   "attachments": {},
   "cell_type": "markdown",
   "id": "15c03521",
   "metadata": {
    "papermill": {
     "duration": 0.001269,
     "end_time": "2023-04-17T15:10:40.237650",
     "exception": false,
     "start_time": "2023-04-17T15:10:40.236381",
     "status": "completed"
    },
    "tags": []
   },
   "source": [
    "Of note, `load_table()` automatically runs `register_schema_to_dataset()` on the resulting `DataSet` and `Schema`, hence resolving potential column disambiguities."
   ]
  },
  {
   "cell_type": "markdown",
   "id": "18ea295c",
   "metadata": {
    "papermill": {
     "duration": 0.00117,
     "end_time": "2023-04-17T15:10:40.240013",
     "exception": false,
     "start_time": "2023-04-17T15:10:40.238843",
     "status": "completed"
    },
    "tags": []
   },
   "source": []
  }
 ],
 "metadata": {
  "kernelspec": {
   "display_name": "typedspark",
   "language": "python",
   "name": "python3"
  },
  "language_info": {
   "codemirror_mode": {
    "name": "ipython",
    "version": 3
   },
   "file_extension": ".py",
   "mimetype": "text/x-python",
   "name": "python",
   "nbconvert_exporter": "python",
   "pygments_lexer": "ipython3",
   "version": "3.11.2"
  },
  "papermill": {
   "default_parameters": {},
   "duration": 10.75381,
   "end_time": "2023-04-17T15:10:40.982024",
   "environment_variables": {},
   "exception": null,
   "input_path": "docs/source/generating_schemas.ipynb",
   "output_path": "docs/source/generating_schemas.ipynb",
   "parameters": {},
   "start_time": "2023-04-17T15:10:30.228214",
   "version": "2.4.0"
  }
 },
 "nbformat": 4,
 "nbformat_minor": 5
}

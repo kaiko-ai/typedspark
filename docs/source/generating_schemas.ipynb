{
 "cells": [
  {
   "attachments": {},
   "cell_type": "markdown",
   "id": "a006aaea",
   "metadata": {
    "papermill": {
     "duration": 0.014696,
     "end_time": "2023-04-13T15:20:41.640535",
     "exception": false,
     "start_time": "2023-04-13T15:20:41.625839",
     "status": "completed"
    },
    "tags": []
   },
   "source": [
    "# Dynamically generate Schemas from existing tables\n",
    "You can dynamically load a `DataSet` and its corresponding `Schema` from an existing table. To illustrate this, let us first make a temporary table that we can load later."
   ]
  },
  {
   "cell_type": "code",
   "execution_count": null,
   "id": "5442cec0",
   "metadata": {
    "execution": {
     "iopub.execute_input": "2023-04-13T15:20:41.658754Z",
     "iopub.status.busy": "2023-04-13T15:20:41.658234Z",
     "iopub.status.idle": "2023-04-13T15:20:48.316928Z",
     "shell.execute_reply": "2023-04-13T15:20:48.316589Z"
    },
    "papermill": {
     "duration": 6.666446,
     "end_time": "2023-04-13T15:20:48.318150",
     "exception": false,
     "start_time": "2023-04-13T15:20:41.651704",
     "status": "completed"
    },
    "tags": []
   },
   "outputs": [],
   "source": [
    "import warnings\n",
    "from pyspark.sql import SparkSession \n",
    "warnings.filterwarnings('ignore')\n",
    "spark = SparkSession.Builder().getOrCreate()\n",
    "spark.sparkContext.setLogLevel(\"ERROR\")"
   ]
  },
  {
   "cell_type": "code",
   "execution_count": 2,
   "id": "0df943fb",
   "metadata": {
    "execution": {
     "iopub.execute_input": "2023-04-13T15:20:48.322094Z",
     "iopub.status.busy": "2023-04-13T15:20:48.321878Z",
     "iopub.status.idle": "2023-04-13T15:20:49.751762Z",
     "shell.execute_reply": "2023-04-13T15:20:49.751453Z"
    },
    "papermill": {
     "duration": 1.433118,
     "end_time": "2023-04-13T15:20:49.752974",
     "exception": false,
     "start_time": "2023-04-13T15:20:48.319856",
     "status": "completed"
    },
    "tags": []
   },
   "outputs": [],
   "source": [
    "import pandas as pd\n",
    "\n",
    "(\n",
    "    spark.createDataFrame(\n",
    "        pd.DataFrame(\n",
    "            dict(\n",
    "                name=[\"Jack\", \"John\", \"Jane\"],\n",
    "                age=[20, 30, 40],\n",
    "            )\n",
    "        )\n",
    "    )\n",
    "    .createOrReplaceTempView(\"person_table\")\n",
    ")\n"
   ]
  },
  {
   "attachments": {},
   "cell_type": "markdown",
   "id": "10524400",
   "metadata": {
    "papermill": {
     "duration": 0.001263,
     "end_time": "2023-04-13T15:20:49.755847",
     "exception": false,
     "start_time": "2023-04-13T15:20:49.754584",
     "status": "completed"
    },
    "tags": []
   },
   "source": [
    "We can now load these data using `load_table()`. Note that the `Schema` is inferred: it doesn't need to have been serialized using `typedspark`."
   ]
  },
  {
   "cell_type": "code",
   "execution_count": 3,
   "id": "b6c659c6",
   "metadata": {
    "execution": {
     "iopub.execute_input": "2023-04-13T15:20:49.759282Z",
     "iopub.status.busy": "2023-04-13T15:20:49.759142Z",
     "iopub.status.idle": "2023-04-13T15:20:49.786301Z",
     "shell.execute_reply": "2023-04-13T15:20:49.785978Z"
    },
    "papermill": {
     "duration": 0.030522,
     "end_time": "2023-04-13T15:20:49.787598",
     "exception": false,
     "start_time": "2023-04-13T15:20:49.757076",
     "status": "completed"
    },
    "tags": []
   },
   "outputs": [],
   "source": [
    "from typedspark import load_table\n",
    "\n",
    "df, Person = load_table(spark, \"person_table\")"
   ]
  },
  {
   "attachments": {},
   "cell_type": "markdown",
   "id": "51e4792d",
   "metadata": {
    "papermill": {
     "duration": 0.001247,
     "end_time": "2023-04-13T15:20:49.790461",
     "exception": false,
     "start_time": "2023-04-13T15:20:49.789214",
     "status": "completed"
    },
    "tags": []
   },
   "source": [
    "From here, it's trivial to generate the `Schema` for this table."
   ]
  },
  {
   "cell_type": "code",
   "execution_count": 4,
   "id": "defb2a82",
   "metadata": {
    "execution": {
     "iopub.execute_input": "2023-04-13T15:20:49.793621Z",
     "iopub.status.busy": "2023-04-13T15:20:49.793472Z",
     "iopub.status.idle": "2023-04-13T15:20:49.797196Z",
     "shell.execute_reply": "2023-04-13T15:20:49.796908Z"
    },
    "papermill": {
     "duration": 0.006438,
     "end_time": "2023-04-13T15:20:49.798123",
     "exception": false,
     "start_time": "2023-04-13T15:20:49.791685",
     "status": "completed"
    },
    "tags": []
   },
   "outputs": [
    {
     "data": {
      "text/plain": [
       "\n",
       "from pyspark.sql.types import LongType, StringType\n",
       "\n",
       "from typedspark import Column, Schema\n",
       "\n",
       "\n",
       "class DynamicallyLoadedSchema(Schema):\n",
       "    name: Column[StringType]\n",
       "    age: Column[LongType]"
      ]
     },
     "execution_count": 4,
     "metadata": {},
     "output_type": "execute_result"
    }
   ],
   "source": [
    "Person"
   ]
  },
  {
   "attachments": {},
   "cell_type": "markdown",
   "id": "bdaf1423",
   "metadata": {
    "papermill": {
     "duration": 0.001246,
     "end_time": "2023-04-13T15:20:49.801614",
     "exception": false,
     "start_time": "2023-04-13T15:20:49.800368",
     "status": "completed"
    },
    "tags": []
   },
   "source": [
    "To also generate documentation, run:"
   ]
  },
  {
   "cell_type": "code",
   "execution_count": 5,
   "id": "7305a079",
   "metadata": {
    "execution": {
     "iopub.execute_input": "2023-04-13T15:20:49.804670Z",
     "iopub.status.busy": "2023-04-13T15:20:49.804549Z",
     "iopub.status.idle": "2023-04-13T15:20:49.806487Z",
     "shell.execute_reply": "2023-04-13T15:20:49.806250Z"
    },
    "papermill": {
     "duration": 0.004531,
     "end_time": "2023-04-13T15:20:49.807390",
     "exception": false,
     "start_time": "2023-04-13T15:20:49.802859",
     "status": "completed"
    },
    "tags": []
   },
   "outputs": [
    {
     "name": "stdout",
     "output_type": "stream",
     "text": [
      "from typing import Annotated\n",
      "\n",
      "from pyspark.sql.types import LongType, StringType\n",
      "\n",
      "from typedspark import Column, ColumnMeta, Schema\n",
      "\n",
      "\n",
      "class Person(Schema):\n",
      "    \"\"\"Add documentation here.\"\"\"\n",
      "\n",
      "    name: Annotated[Column[StringType], ColumnMeta(comment=\"\")]\n",
      "    age: Annotated[Column[LongType], ColumnMeta(comment=\"\")]\n",
      "\n"
     ]
    }
   ],
   "source": [
    "Person.print_schema(schema_name=\"Person\", include_documentation=True)"
   ]
  },
  {
   "attachments": {},
   "cell_type": "markdown",
   "id": "0f6ef71c",
   "metadata": {
    "papermill": {
     "duration": 0.015975,
     "end_time": "2023-04-13T15:20:49.824716",
     "exception": false,
     "start_time": "2023-04-13T15:20:49.808741",
     "status": "completed"
    },
    "tags": []
   },
   "source": [
    "You can now use `df` and `Person` just like you would in your IDE. On Databricks, this also comes with an additional advantage: auto-complete on column names. No more looking at `df.columns` every minute to remember the column names!"
   ]
  },
  {
   "cell_type": "code",
   "execution_count": 6,
   "id": "9ef250c6",
   "metadata": {
    "execution": {
     "iopub.execute_input": "2023-04-13T15:20:49.828022Z",
     "iopub.status.busy": "2023-04-13T15:20:49.827873Z",
     "iopub.status.idle": "2023-04-13T15:20:50.634035Z",
     "shell.execute_reply": "2023-04-13T15:20:50.633524Z"
    },
    "papermill": {
     "duration": 0.809179,
     "end_time": "2023-04-13T15:20:50.635214",
     "exception": false,
     "start_time": "2023-04-13T15:20:49.826035",
     "status": "completed"
    },
    "tags": []
   },
   "outputs": [
    {
     "name": "stdout",
     "output_type": "stream",
     "text": [
      "+----+---+\n",
      "|name|age|\n",
      "+----+---+\n",
      "|John| 30|\n",
      "|Jane| 40|\n",
      "+----+---+\n",
      "\n"
     ]
    }
   ],
   "source": [
    "(\n",
    "    df\n",
    "    .filter(Person.age > 25)\n",
    "    .show()\n",
    ")"
   ]
  },
  {
   "attachments": {},
   "cell_type": "markdown",
   "id": "15c03521",
   "metadata": {
    "papermill": {
     "duration": 0.001675,
     "end_time": "2023-04-13T15:20:50.638776",
     "exception": false,
     "start_time": "2023-04-13T15:20:50.637101",
     "status": "completed"
    },
    "tags": []
   },
   "source": [
    "Of note, `load_table()` automatically runs `register_schema_to_dataset()` on the resulting `DataSet` and `Schema`, hence resolving potential column disambiguities."
   ]
  },
  {
   "cell_type": "markdown",
   "id": "18ea295c",
   "metadata": {
    "papermill": {
     "duration": 0.001702,
     "end_time": "2023-04-13T15:20:50.642114",
     "exception": false,
     "start_time": "2023-04-13T15:20:50.640412",
     "status": "completed"
    },
    "tags": []
   },
   "source": []
  }
 ],
 "metadata": {
  "kernelspec": {
   "display_name": "typedspark",
   "language": "python",
   "name": "python3"
  },
  "language_info": {
   "codemirror_mode": {
    "name": "ipython",
    "version": 3
   },
   "file_extension": ".py",
   "mimetype": "text/x-python",
   "name": "python",
   "nbconvert_exporter": "python",
   "pygments_lexer": "ipython3",
   "version": "3.9.16"
  },
  "papermill": {
   "default_parameters": {},
   "duration": 10.639983,
   "end_time": "2023-04-13T15:20:51.368193",
   "environment_variables": {},
   "exception": null,
   "input_path": "docs/source/generating_schemas.ipynb",
   "output_path": "docs/source/generating_schemas.ipynb",
   "parameters": {},
   "start_time": "2023-04-13T15:20:40.728210",
   "version": "2.4.0"
  }
 },
 "nbformat": 4,
 "nbformat_minor": 5
}

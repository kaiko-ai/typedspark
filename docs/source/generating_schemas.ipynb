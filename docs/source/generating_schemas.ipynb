{
 "cells": [
  {
   "attachments": {},
   "cell_type": "markdown",
   "id": "a006aaea",
   "metadata": {},
   "source": [
    "# Dynamically generate Schemas from existing tables\n",
    "You can dynamically load a `DataSet` and its corresponding `Schema` from an existing table. To illustrate this, let us first make a temporary table that we can load later."
   ]
  },
  {
   "cell_type": "code",
   "execution_count": 1,
   "id": "5442cec0",
   "metadata": {},
   "outputs": [],
   "source": [
    "from pyspark.sql import SparkSession\n",
    "\n",
    "spark = SparkSession.Builder().config(\"spark.ui.showConsoleProgress\", \"false\").getOrCreate()\n",
    "spark.sparkContext.setLogLevel(\"ERROR\")"
   ]
  },
  {
   "cell_type": "code",
   "execution_count": 2,
   "id": "0df943fb",
   "metadata": {},
   "outputs": [],
   "source": [
    "import pandas as pd\n",
    "\n",
    "(\n",
    "    spark.createDataFrame(\n",
    "        pd.DataFrame(\n",
    "            dict(\n",
    "                name=[\"Jack\", \"John\", \"Jane\"],\n",
    "                age=[20, 30, 40],\n",
    "            )\n",
    "        )\n",
    "    ).createOrReplaceTempView(\"person_table\")\n",
    ")"
   ]
  },
  {
   "attachments": {},
   "cell_type": "markdown",
   "id": "10524400",
   "metadata": {},
   "source": [
    "We can now load these data using `load_table()`. Note that the `Schema` is inferred: it doesn't need to have been serialized using `typedspark`."
   ]
  },
  {
   "cell_type": "code",
   "execution_count": 3,
   "id": "b6c659c6",
   "metadata": {},
   "outputs": [],
   "source": [
    "from typedspark import load_table\n",
    "\n",
    "df, Person = load_table(spark, \"person_table\")"
   ]
  },
  {
   "attachments": {},
   "cell_type": "markdown",
   "id": "51e4792d",
   "metadata": {},
   "source": [
    "From here, it's trivial to generate the `Schema` for this table."
   ]
  },
  {
   "cell_type": "code",
   "execution_count": 4,
   "id": "defb2a82",
   "metadata": {},
   "outputs": [
    {
     "data": {
      "text/plain": [
       "\n",
       "from pyspark.sql.types import LongType, StringType\n",
       "\n",
       "from typedspark import Column, Schema\n",
       "\n",
       "\n",
       "class DynamicallyLoadedSchema(Schema):\n",
       "    name: Column[StringType]\n",
       "    age: Column[LongType]"
      ]
     },
     "execution_count": 4,
     "metadata": {},
     "output_type": "execute_result"
    }
   ],
   "source": [
    "Person"
   ]
  },
  {
   "attachments": {},
   "cell_type": "markdown",
   "id": "5db11998",
   "metadata": {},
   "source": [
    "If you'd like to have the schema name properly displayed, you can use the optional `schema_name` argument."
   ]
  },
  {
   "cell_type": "code",
   "execution_count": 5,
   "id": "cd7b1ac7",
   "metadata": {},
   "outputs": [
    {
     "data": {
      "text/plain": [
       "\n",
       "from pyspark.sql.types import LongType, StringType\n",
       "\n",
       "from typedspark import Column, Schema\n",
       "\n",
       "\n",
       "class Person(Schema):\n",
       "    name: Column[StringType]\n",
       "    age: Column[LongType]"
      ]
     },
     "execution_count": 5,
     "metadata": {},
     "output_type": "execute_result"
    }
   ],
   "source": [
    "df, Person = load_table(spark, \"person_table\", schema_name=\"Person\")\n",
    "Person"
   ]
  },
  {
   "attachments": {},
   "cell_type": "markdown",
   "id": "bdaf1423",
   "metadata": {},
   "source": [
    "We can use this simply to get an overview of the schema, or to copy paste this schema into our repository, if we're migrating to existing tables to typedspark. In the latter case, we may also want to generate documentation."
   ]
  },
  {
   "cell_type": "code",
   "execution_count": 6,
   "id": "7305a079",
   "metadata": {},
   "outputs": [
    {
     "name": "stdout",
     "output_type": "stream",
     "text": [
      "from typing import Annotated\n",
      "\n",
      "from pyspark.sql.types import LongType, StringType\n",
      "\n",
      "from typedspark import Column, ColumnMeta, Schema\n",
      "\n",
      "\n",
      "class Person(Schema):\n",
      "    \"\"\"Add documentation here.\"\"\"\n",
      "\n",
      "    name: Annotated[Column[StringType], ColumnMeta(comment=\"\")]\n",
      "    age: Annotated[Column[LongType], ColumnMeta(comment=\"\")]\n",
      "\n"
     ]
    }
   ],
   "source": [
    "Person.print_schema(include_documentation=True)"
   ]
  },
  {
   "attachments": {},
   "cell_type": "markdown",
   "id": "0f6ef71c",
   "metadata": {},
   "source": [
    "You can of course use `df` and `Person` just like you would in your IDE."
   ]
  },
  {
   "cell_type": "code",
   "execution_count": 7,
   "id": "9ef250c6",
   "metadata": {},
   "outputs": [
    {
     "name": "stdout",
     "output_type": "stream",
     "text": [
      "+----+---+\n",
      "|name|age|\n",
      "+----+---+\n",
      "|John| 30|\n",
      "|Jane| 40|\n",
      "+----+---+\n",
      "\n"
     ]
    }
   ],
   "source": [
    "df.filter(Person.age > 25).show()"
   ]
  },
  {
   "attachments": {},
   "cell_type": "markdown",
   "id": "15c03521",
   "metadata": {},
   "source": [
    "Of note, `load_table()` automatically runs `register_schema_to_dataset()` on the resulting `DataSet` and `Schema`, hence resolving potential column disambiguities."
   ]
  },
  {
   "attachments": {},
   "cell_type": "markdown",
   "id": "18ea295c",
   "metadata": {},
   "source": []
  }
 ],
 "metadata": {
  "kernelspec": {
   "display_name": "typedspark",
   "language": "python",
   "name": "python3"
  },
  "language_info": {
   "codemirror_mode": {
    "name": "ipython",
    "version": 3
   },
   "file_extension": ".py",
   "mimetype": "text/x-python",
   "name": "python",
   "nbconvert_exporter": "python",
   "pygments_lexer": "ipython3",
   "version": "3.9.16"
  }
 },
 "nbformat": 4,
 "nbformat_minor": 5
}

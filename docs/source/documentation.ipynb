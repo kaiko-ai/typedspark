{
 "cells": [
  {
   "attachments": {},
   "cell_type": "markdown",
   "id": "4b8cb87a",
   "metadata": {
    "papermill": {
     "duration": 0.014318,
     "end_time": "2023-04-13T15:20:40.167416",
     "exception": false,
     "start_time": "2023-04-13T15:20:40.153098",
     "status": "completed"
    },
    "tags": []
   },
   "source": [
    "# Documentation of tables\n",
    "You can add documentation to schemas as follows:"
   ]
  },
  {
   "cell_type": "code",
   "execution_count": 1,
   "id": "d2e1e850",
   "metadata": {
    "execution": {
     "iopub.execute_input": "2023-04-13T15:20:40.174594Z",
     "iopub.status.busy": "2023-04-13T15:20:40.174194Z",
     "iopub.status.idle": "2023-04-13T15:20:40.272254Z",
     "shell.execute_reply": "2023-04-13T15:20:40.271327Z"
    },
    "papermill": {
     "duration": 0.107311,
     "end_time": "2023-04-13T15:20:40.276814",
     "exception": false,
     "start_time": "2023-04-13T15:20:40.169503",
     "status": "completed"
    },
    "tags": []
   },
   "outputs": [],
   "source": [
    "from typing import Annotated\n",
    "from pyspark.sql.types import DateType, StringType\n",
    "from typedspark import Column, ColumnMeta, Schema\n",
    "\n",
    "\n",
    "class Person(Schema):\n",
    "    \"\"\"Dimension table that contains information about a person.\"\"\"\n",
    "\n",
    "    person_id: Annotated[\n",
    "        Column[StringType],\n",
    "        ColumnMeta(comment=\"Unique person id\"),\n",
    "    ]\n",
    "    gender: Annotated[\n",
    "        Column[StringType], ColumnMeta(comment=\"Gender of the person\")\n",
    "    ]\n",
    "    birthdate: Annotated[\n",
    "        Column[DateType], ColumnMeta(comment=\"Date of birth of the person\")\n",
    "    ]\n",
    "    job_id: Annotated[\n",
    "        Column[StringType],\n",
    "        ColumnMeta(comment=\"Id of the job\")\n",
    "    ]"
   ]
  },
  {
   "attachments": {},
   "cell_type": "markdown",
   "id": "302ad462",
   "metadata": {
    "papermill": {
     "duration": 0.002055,
     "end_time": "2023-04-13T15:20:40.281557",
     "exception": false,
     "start_time": "2023-04-13T15:20:40.279502",
     "status": "completed"
    },
    "tags": []
   },
   "source": [
    "If you use Databricks and Delta Live Tables, you can make the documentation appear in the Databricks UI by using the following Delta Live Table definition:\n",
    "\n",
    "```python\n",
    "@dlt.table(**Person.get_dlt_kwargs())\n",
    "def table_definition() -> DataSet[Person]:\n",
    "    # your table definition here\n",
    "```\n"
   ]
  },
  {
   "cell_type": "markdown",
   "id": "17c2b1a6",
   "metadata": {
    "papermill": {
     "duration": 0.001448,
     "end_time": "2023-04-13T15:20:40.284162",
     "exception": false,
     "start_time": "2023-04-13T15:20:40.282714",
     "status": "completed"
    },
    "tags": []
   },
   "source": []
  }
 ],
 "metadata": {
  "kernelspec": {
   "display_name": "typedspark",
   "language": "python",
   "name": "python3"
  },
  "language_info": {
   "codemirror_mode": {
    "name": "ipython",
    "version": 3
   },
   "file_extension": ".py",
   "mimetype": "text/x-python",
   "name": "python",
   "nbconvert_exporter": "python",
   "pygments_lexer": "ipython3",
   "version": "3.9.16"
  },
  "papermill": {
   "default_parameters": {},
   "duration": 1.153841,
   "end_time": "2023-04-13T15:20:40.408310",
   "environment_variables": {},
   "exception": null,
   "input_path": "docs/source/documentation.ipynb",
   "output_path": "docs/source/documentation.ipynb",
   "parameters": {},
   "start_time": "2023-04-13T15:20:39.254469",
   "version": "2.4.0"
  }
 },
 "nbformat": 4,
 "nbformat_minor": 5
}
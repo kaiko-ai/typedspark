{
 "cells": [
  {
   "attachments": {},
   "cell_type": "markdown",
   "id": "a6b265df",
   "metadata": {
    "papermill": {
     "duration": 0.009949,
     "end_time": "2023-04-13T15:21:17.528465",
     "exception": false,
     "start_time": "2023-04-13T15:21:17.518516",
     "status": "completed"
    },
    "tags": []
   },
   "source": [
    "# Type checking\n",
    "## Runtime\n",
    "\n",
    "Every time a `DataSet` is initialized, it checks whether the schema matches the data."
   ]
  },
  {
   "cell_type": "code",
   "execution_count": null,
   "id": "24a21def",
   "metadata": {
    "execution": {
     "iopub.execute_input": "2023-04-13T15:21:17.542803Z",
     "iopub.status.busy": "2023-04-13T15:21:17.542521Z",
     "iopub.status.idle": "2023-04-13T15:21:24.158807Z",
     "shell.execute_reply": "2023-04-13T15:21:24.158395Z"
    },
    "papermill": {
     "duration": 6.625156,
     "end_time": "2023-04-13T15:21:24.160006",
     "exception": false,
     "start_time": "2023-04-13T15:21:17.534850",
     "status": "completed"
    },
    "tags": []
   },
   "outputs": [],
   "source": [
    "import warnings\n",
    "from pyspark.sql import SparkSession \n",
    "warnings.filterwarnings('ignore')\n",
    "spark = SparkSession.Builder().getOrCreate()\n",
    "spark.sparkContext.setLogLevel(\"ERROR\")"
   ]
  },
  {
   "cell_type": "code",
   "execution_count": 2,
   "id": "fd37a1d1",
   "metadata": {
    "execution": {
     "iopub.execute_input": "2023-04-13T15:21:24.163529Z",
     "iopub.status.busy": "2023-04-13T15:21:24.163285Z",
     "iopub.status.idle": "2023-04-13T15:21:26.327868Z",
     "shell.execute_reply": "2023-04-13T15:21:26.327543Z"
    },
    "papermill": {
     "duration": 2.167456,
     "end_time": "2023-04-13T15:21:26.328956",
     "exception": false,
     "start_time": "2023-04-13T15:21:24.161500",
     "status": "completed"
    },
    "tags": []
   },
   "outputs": [
    {
     "name": "stdout",
     "output_type": "stream",
     "text": [
      "+---+----+---+\n",
      "| id|name|age|\n",
      "+---+----+---+\n",
      "|  1|John| 20|\n",
      "|  2|Jane| 30|\n",
      "|  3|Jack| 40|\n",
      "+---+----+---+\n",
      "\n"
     ]
    }
   ],
   "source": [
    "import pandas as pd\n",
    "from typedspark import Column, DataSet, Schema\n",
    "from pyspark.sql.types import LongType, StringType\n",
    "\n",
    "class Person(Schema):\n",
    "    id: Column[LongType]\n",
    "    name: Column[StringType]\n",
    "    age: Column[LongType]\n",
    "\n",
    "df = spark.createDataFrame(\n",
    "    pd.DataFrame(\n",
    "        dict(\n",
    "            id=[1, 2, 3],\n",
    "            name=[\"John\", \"Jane\", \"Jack\"],\n",
    "            age=[20, 30, 40],\n",
    "        )\n",
    "    )\n",
    ")\n",
    "# no errors raised\n",
    "df = DataSet[Person](df)\n",
    "df.show()"
   ]
  },
  {
   "attachments": {},
   "cell_type": "markdown",
   "id": "c27a99fe",
   "metadata": {
    "papermill": {
     "duration": 0.001136,
     "end_time": "2023-04-13T15:21:26.331615",
     "exception": false,
     "start_time": "2023-04-13T15:21:26.330479",
     "status": "completed"
    },
    "tags": []
   },
   "source": [
    "As a convention, we ignore any columns that start with `__` during this check."
   ]
  },
  {
   "cell_type": "code",
   "execution_count": 3,
   "id": "b99e82f8",
   "metadata": {
    "execution": {
     "iopub.execute_input": "2023-04-13T15:21:26.334674Z",
     "iopub.status.busy": "2023-04-13T15:21:26.334526Z",
     "iopub.status.idle": "2023-04-13T15:21:26.484201Z",
     "shell.execute_reply": "2023-04-13T15:21:26.483829Z"
    },
    "papermill": {
     "duration": 0.152528,
     "end_time": "2023-04-13T15:21:26.485268",
     "exception": false,
     "start_time": "2023-04-13T15:21:26.332740",
     "status": "completed"
    },
    "tags": []
   },
   "outputs": [
    {
     "name": "stdout",
     "output_type": "stream",
     "text": [
      "+---+----+---+--------------+\n",
      "| id|name|age|__extra_column|\n",
      "+---+----+---+--------------+\n",
      "|  1|John| 20|             1|\n",
      "|  2|Jane| 30|             2|\n",
      "|  3|Jack| 40|             3|\n",
      "+---+----+---+--------------+\n",
      "\n"
     ]
    }
   ],
   "source": [
    "df = spark.createDataFrame(\n",
    "    pd.DataFrame(\n",
    "        dict(\n",
    "            id=[1, 2, 3],\n",
    "            name=[\"John\", \"Jane\", \"Jack\"],\n",
    "            age=[20, 30, 40],\n",
    "            __extra_column=[1, 2, 3]\n",
    "        )\n",
    "    )\n",
    ")\n",
    "# no errors raised because __extra_column is ignored during the check\n",
    "df = DataSet[Person](df)\n",
    "df.show()"
   ]
  },
  {
   "cell_type": "code",
   "execution_count": 4,
   "id": "baa96cfa",
   "metadata": {
    "execution": {
     "iopub.execute_input": "2023-04-13T15:21:26.488960Z",
     "iopub.status.busy": "2023-04-13T15:21:26.488819Z",
     "iopub.status.idle": "2023-04-13T15:21:26.507096Z",
     "shell.execute_reply": "2023-04-13T15:21:26.506772Z"
    },
    "papermill": {
     "duration": 0.02118,
     "end_time": "2023-04-13T15:21:26.508079",
     "exception": false,
     "start_time": "2023-04-13T15:21:26.486899",
     "status": "completed"
    },
    "tags": []
   },
   "outputs": [
    {
     "name": "stdout",
     "output_type": "stream",
     "text": [
      "Schema Person contains the following columns not present in data: {'age'}\n"
     ]
    }
   ],
   "source": [
    "df = spark.createDataFrame(\n",
    "    pd.DataFrame(\n",
    "        dict(\n",
    "            id=[1, 2, 3],\n",
    "            name=[\"John\", \"Jane\", \"Jack\"],\n",
    "        )\n",
    "    )\n",
    ")\n",
    "try:\n",
    "    DataSet[Person](df)\n",
    "except TypeError as e:\n",
    "    print(e)"
   ]
  },
  {
   "cell_type": "code",
   "execution_count": 5,
   "id": "71bfc3b9",
   "metadata": {
    "execution": {
     "iopub.execute_input": "2023-04-13T15:21:26.511294Z",
     "iopub.status.busy": "2023-04-13T15:21:26.511170Z",
     "iopub.status.idle": "2023-04-13T15:21:26.528147Z",
     "shell.execute_reply": "2023-04-13T15:21:26.527778Z"
    },
    "papermill": {
     "duration": 0.019712,
     "end_time": "2023-04-13T15:21:26.529228",
     "exception": false,
     "start_time": "2023-04-13T15:21:26.509516",
     "status": "completed"
    },
    "tags": []
   },
   "outputs": [
    {
     "name": "stdout",
     "output_type": "stream",
     "text": [
      "Data contains the following columns not present in schema Person: {'gender'}\n"
     ]
    }
   ],
   "source": [
    "df = spark.createDataFrame(\n",
    "    pd.DataFrame(\n",
    "        dict(\n",
    "            id=[1, 2, 3],\n",
    "            name=[\"John\", \"Jane\", \"Jack\"],\n",
    "            age=[20, 30, 40],\n",
    "            gender=[\"male\", \"female\", \"male\"],\n",
    "        )\n",
    "    )\n",
    ")\n",
    "try:\n",
    "    DataSet[Person](df)\n",
    "except TypeError as e:\n",
    "    print(e)"
   ]
  },
  {
   "attachments": {},
   "cell_type": "markdown",
   "id": "357c3f96",
   "metadata": {
    "papermill": {
     "duration": 0.001218,
     "end_time": "2023-04-13T15:21:26.531921",
     "exception": false,
     "start_time": "2023-04-13T15:21:26.530703",
     "status": "completed"
    },
    "tags": []
   },
   "source": [
    "Assuming your code is run regularly (e.g. through unit tests, scheduled pipelines, etc.), this means you can safely assume a `DataSet[Person]` object that you come across on the master branch indeed follows the indicated schema.\n",
    "\n",
    "## Linting\n",
    "Additionally, during coding, we can use linting (e.g. mypy, pyright) to check the schemas. For instance:"
   ]
  },
  {
   "cell_type": "code",
   "execution_count": 6,
   "id": "7e34671a",
   "metadata": {
    "execution": {
     "iopub.execute_input": "2023-04-13T15:21:26.535859Z",
     "iopub.status.busy": "2023-04-13T15:21:26.535715Z",
     "iopub.status.idle": "2023-04-13T15:21:26.665226Z",
     "shell.execute_reply": "2023-04-13T15:21:26.664883Z"
    },
    "papermill": {
     "duration": 0.133324,
     "end_time": "2023-04-13T15:21:26.666467",
     "exception": false,
     "start_time": "2023-04-13T15:21:26.533143",
     "status": "completed"
    },
    "tags": []
   },
   "outputs": [],
   "source": [
    "class Person(Schema):\n",
    "    id: Column[LongType]\n",
    "    name: Column[StringType]\n",
    "    age: Column[LongType]\n",
    "\n",
    "class Address(Schema):\n",
    "    street: Column[StringType]\n",
    "    number: Column[LongType]\n",
    "\n",
    "def birthday(df: DataSet[Person]) -> DataSet[Person]:\n",
    "    return DataSet[Person](\n",
    "        df.withColumn(Person.age.str, Person.age + 1)\n",
    "    )\n",
    "\n",
    "df_1 = DataSet[Person](\n",
    "    spark.createDataFrame(\n",
    "        pd.DataFrame(\n",
    "            dict(\n",
    "                id=[1, 2, 3],\n",
    "                name=[\"John\", \"Jane\", \"Jack\"],\n",
    "                age=[20, 30, 40],\n",
    "            )\n",
    "        )\n",
    "    )\n",
    ")\n",
    "# no linting error\n",
    "birthday(df_1)\n",
    "\n",
    "df_2 = DataSet[Address](\n",
    "    spark.createDataFrame(\n",
    "        pd.DataFrame(\n",
    "            dict(\n",
    "                street=[\"Lynton Walk\", \"Canada Square\", \"Chapelside Avenue\"],\n",
    "                number=[1, 2, 3],\n",
    "            )\n",
    "        )\n",
    "    )\n",
    ")\n",
    "try:\n",
    "    # linting error: expected DataSet[Person], observed DataSet[Address]\n",
    "    birthday(df_2)\n",
    "except:\n",
    "    pass\n",
    "\n",
    "df_3 = spark.createDataFrame(\n",
    "    pd.DataFrame(\n",
    "        dict(\n",
    "            id=[1, 2, 3],\n",
    "            name=[\"John\", \"Jane\", \"Jack\"],\n",
    "            age=[20, 30, 40],\n",
    "        )\n",
    "    )\n",
    ")\n",
    "try:\n",
    "    # linting error: expected DataSet[Person], observed DataFrame\n",
    "    birthday(df_3)\n",
    "except:\n",
    "    pass"
   ]
  },
  {
   "attachments": {},
   "cell_type": "markdown",
   "id": "30738286",
   "metadata": {
    "papermill": {
     "duration": 0.001288,
     "end_time": "2023-04-13T15:21:26.669393",
     "exception": false,
     "start_time": "2023-04-13T15:21:26.668105",
     "status": "completed"
    },
    "tags": []
   },
   "source": []
  }
 ],
 "metadata": {
  "kernelspec": {
   "display_name": "typedspark",
   "language": "python",
   "name": "python3"
  },
  "language_info": {
   "codemirror_mode": {
    "name": "ipython",
    "version": 3
   },
   "file_extension": ".py",
   "mimetype": "text/x-python",
   "name": "python",
   "nbconvert_exporter": "python",
   "pygments_lexer": "ipython3",
   "version": "3.9.16"
  },
  "papermill": {
   "default_parameters": {},
   "duration": 10.775069,
   "end_time": "2023-04-13T15:21:27.393727",
   "environment_variables": {},
   "exception": null,
   "input_path": "docs/source/type_checking.ipynb",
   "output_path": "docs/source/type_checking.ipynb",
   "parameters": {},
   "start_time": "2023-04-13T15:21:16.618658",
   "version": "2.4.0"
  }
 },
 "nbformat": 4,
 "nbformat_minor": 5
}

{
 "cells": [
  {
   "attachments": {},
   "cell_type": "markdown",
   "id": "a836183d",
   "metadata": {
    "papermill": {
     "duration": 0.009794,
     "end_time": "2023-04-17T15:10:02.956164",
     "exception": false,
     "start_time": "2023-04-17T15:10:02.946370",
     "status": "completed"
    },
    "tags": []
   },
   "source": [
    "# Dealing with column ambiguity\n",
    "\n",
    "Sometimes columns can be ambiguous, for example:"
   ]
  },
  {
   "cell_type": "code",
   "execution_count": null,
   "id": "ee6a97e4",
   "metadata": {
    "execution": {
     "iopub.execute_input": "2023-04-17T15:10:02.973437Z",
     "iopub.status.busy": "2023-04-17T15:10:02.972844Z",
     "iopub.status.idle": "2023-04-17T15:10:09.572016Z",
     "shell.execute_reply": "2023-04-17T15:10:09.571664Z"
    },
    "papermill": {
     "duration": 6.606627,
     "end_time": "2023-04-17T15:10:09.573092",
     "exception": false,
     "start_time": "2023-04-17T15:10:02.966465",
     "status": "completed"
    },
    "tags": []
   },
   "outputs": [],
   "source": [
    "from pyspark.sql import SparkSession\n",
    "spark = SparkSession.Builder().config(\"spark.ui.showConsoleProgress\", \"false\").getOrCreate()\n",
    "spark.sparkContext.setLogLevel(\"ERROR\")"
   ]
  },
  {
   "cell_type": "code",
   "execution_count": 2,
   "id": "6206d284",
   "metadata": {
    "execution": {
     "iopub.execute_input": "2023-04-17T15:10:09.576125Z",
     "iopub.status.busy": "2023-04-17T15:10:09.575976Z",
     "iopub.status.idle": "2023-04-17T15:10:10.919986Z",
     "shell.execute_reply": "2023-04-17T15:10:10.919703Z"
    },
    "papermill": {
     "duration": 1.346473,
     "end_time": "2023-04-17T15:10:10.920890",
     "exception": false,
     "start_time": "2023-04-17T15:10:09.574417",
     "status": "completed"
    },
    "tags": []
   },
   "outputs": [
    {
     "name": "stdout",
     "output_type": "stream",
     "text": [
      "[AMBIGUOUS_REFERENCE] Reference `id` is ambiguous, could be: [`id`, `id`].\n"
     ]
    }
   ],
   "source": [
    "from typedspark import Column, Schema, create_partially_filled_dataset\n",
    "from pyspark.errors import AnalysisException\n",
    "from pyspark.sql.types import IntegerType, StringType\n",
    "\n",
    "class Person(Schema):\n",
    "    id: Column[IntegerType]\n",
    "    name: Column[StringType]\n",
    "    age: Column[IntegerType]\n",
    "\n",
    "class Job(Schema):\n",
    "    id: Column[IntegerType]\n",
    "    salary: Column[IntegerType]\n",
    "\n",
    "df_a = create_partially_filled_dataset(spark, Person, {Person.id: [1, 2, 3]})\n",
    "df_b = create_partially_filled_dataset(spark, Job, {Job.id: [1, 2, 3]})\n",
    "\n",
    "try:\n",
    "    df_a.join(df_b, Person.id == Job.id)\n",
    "except AnalysisException as e:\n",
    "    print(e)"
   ]
  },
  {
   "attachments": {},
   "cell_type": "markdown",
   "id": "09be224a",
   "metadata": {
    "papermill": {
     "duration": 0.001013,
     "end_time": "2023-04-17T15:10:10.923275",
     "exception": false,
     "start_time": "2023-04-17T15:10:10.922262",
     "status": "completed"
    },
    "tags": []
   },
   "source": [
    "The above resulted in a `AnalysisException`, because Spark can't figure out whether `id` belongs to `df_a` or `df_b`. To deal with this, you need to register your `Schema` to the `DataSet`."
   ]
  },
  {
   "cell_type": "code",
   "execution_count": 3,
   "id": "459a5e06",
   "metadata": {
    "execution": {
     "iopub.execute_input": "2023-04-17T15:10:10.925735Z",
     "iopub.status.busy": "2023-04-17T15:10:10.925615Z",
     "iopub.status.idle": "2023-04-17T15:10:12.413634Z",
     "shell.execute_reply": "2023-04-17T15:10:12.413313Z"
    },
    "papermill": {
     "duration": 1.490591,
     "end_time": "2023-04-17T15:10:12.414770",
     "exception": false,
     "start_time": "2023-04-17T15:10:10.924179",
     "status": "completed"
    },
    "tags": []
   },
   "outputs": [
    {
     "name": "stdout",
     "output_type": "stream",
     "text": [
      "+---+----+----+---+------+\n",
      "| id|name| age| id|salary|\n",
      "+---+----+----+---+------+\n",
      "|  1|null|null|  1|  null|\n",
      "|  2|null|null|  2|  null|\n",
      "|  3|null|null|  3|  null|\n",
      "+---+----+----+---+------+\n",
      "\n"
     ]
    }
   ],
   "source": [
    "from typedspark import register_schema_to_dataset\n",
    "\n",
    "person = register_schema_to_dataset(df_a, Person)\n",
    "job = register_schema_to_dataset(df_b, Job)\n",
    "(\n",
    "    df_a\n",
    "    .join(df_b, person.id == job.id)\n",
    "    .show()\n",
    ")"
   ]
  },
  {
   "attachments": {},
   "cell_type": "markdown",
   "id": "8359bd08",
   "metadata": {
    "papermill": {
     "duration": 0.00105,
     "end_time": "2023-04-17T15:10:12.417208",
     "exception": false,
     "start_time": "2023-04-17T15:10:12.416158",
     "status": "completed"
    },
    "tags": []
   },
   "source": [
    "It is often a good idea to drop the ambiguous column, for example:"
   ]
  },
  {
   "cell_type": "code",
   "execution_count": 4,
   "id": "e0f1a644",
   "metadata": {
    "execution": {
     "iopub.execute_input": "2023-04-17T15:10:12.420283Z",
     "iopub.status.busy": "2023-04-17T15:10:12.420163Z",
     "iopub.status.idle": "2023-04-17T15:10:12.731812Z",
     "shell.execute_reply": "2023-04-17T15:10:12.731538Z"
    },
    "papermill": {
     "duration": 0.314389,
     "end_time": "2023-04-17T15:10:12.732922",
     "exception": false,
     "start_time": "2023-04-17T15:10:12.418533",
     "status": "completed"
    },
    "tags": []
   },
   "outputs": [
    {
     "name": "stdout",
     "output_type": "stream",
     "text": [
      "+---+------+----+----+\n",
      "| id|salary|name| age|\n",
      "+---+------+----+----+\n",
      "|  1|  null|null|null|\n",
      "|  2|  null|null|null|\n",
      "|  3|  null|null|null|\n",
      "+---+------+----+----+\n",
      "\n"
     ]
    }
   ],
   "source": [
    "from typedspark import transform_to_schema\n",
    "\n",
    "class PersonWithJob(Person, Job):\n",
    "    pass\n",
    "\n",
    "(\n",
    "    transform_to_schema(\n",
    "        df_a\n",
    "        .join(df_b, person.id == job.id)\n",
    "        .drop(job.id),\n",
    "        PersonWithJob\n",
    "    )\n",
    "    .show()\n",
    ")"
   ]
  },
  {
   "cell_type": "markdown",
   "id": "5b08a13f",
   "metadata": {
    "papermill": {
     "duration": 0.001079,
     "end_time": "2023-04-17T15:10:12.735433",
     "exception": false,
     "start_time": "2023-04-17T15:10:12.734354",
     "status": "completed"
    },
    "tags": []
   },
   "source": []
  }
 ],
 "metadata": {
  "kernelspec": {
   "display_name": "typedspark",
   "language": "python",
   "name": "python3"
  },
  "language_info": {
   "codemirror_mode": {
    "name": "ipython",
    "version": 3
   },
   "file_extension": ".py",
   "mimetype": "text/x-python",
   "name": "python",
   "nbconvert_exporter": "python",
   "pygments_lexer": "ipython3",
   "version": "3.11.2"
  },
  "papermill": {
   "default_parameters": {},
   "duration": 11.417202,
   "end_time": "2023-04-17T15:10:13.472736",
   "environment_variables": {},
   "exception": null,
   "input_path": "docs/source/column_ambiguity.ipynb",
   "output_path": "docs/source/column_ambiguity.ipynb",
   "parameters": {},
   "start_time": "2023-04-17T15:10:02.055534",
   "version": "2.4.0"
  }
 },
 "nbformat": 4,
 "nbformat_minor": 5
}

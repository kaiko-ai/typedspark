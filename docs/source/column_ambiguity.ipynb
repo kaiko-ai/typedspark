{
 "cells": [
  {
   "attachments": {},
   "cell_type": "markdown",
   "id": "a836183d",
   "metadata": {
    "papermill": {
     "duration": 0.002461,
     "end_time": "2023-04-13T15:29:51.388542",
     "exception": false,
     "start_time": "2023-04-13T15:29:51.386081",
     "status": "completed"
    },
    "tags": []
   },
   "source": [
    "# Dealing with column ambiguity\n",
    "\n",
    "Sometimes columns can be ambiguous, for example:"
   ]
  },
  {
   "cell_type": "code",
   "execution_count": null,
   "id": "ee6a97e4",
   "metadata": {
    "execution": {
     "iopub.execute_input": "2023-04-13T15:29:51.393406Z",
     "iopub.status.busy": "2023-04-13T15:29:51.393024Z",
     "iopub.status.idle": "2023-04-13T15:29:58.000980Z",
     "shell.execute_reply": "2023-04-13T15:29:58.000609Z"
    },
    "papermill": {
     "duration": 6.612131,
     "end_time": "2023-04-13T15:29:58.002168",
     "exception": false,
     "start_time": "2023-04-13T15:29:51.390037",
     "status": "completed"
    },
    "tags": []
   },
   "outputs": [],
   "source": [
    "from pyspark.sql import SparkSession\n",
    "spark = SparkSession.Builder().config(\"spark.ui.showConsoleProgress\", \"false\").getOrCreate()\n",
    "spark.sparkContext.setLogLevel(\"ERROR\")"
   ]
  },
  {
   "cell_type": "code",
   "execution_count": 2,
   "id": "6206d284",
   "metadata": {
    "execution": {
     "iopub.execute_input": "2023-04-13T15:29:58.005521Z",
     "iopub.status.busy": "2023-04-13T15:29:58.005181Z",
     "iopub.status.idle": "2023-04-13T15:29:59.344053Z",
     "shell.execute_reply": "2023-04-13T15:29:59.343570Z"
    },
    "papermill": {
     "duration": 1.34187,
     "end_time": "2023-04-13T15:29:59.345429",
     "exception": false,
     "start_time": "2023-04-13T15:29:58.003559",
     "status": "completed"
    },
    "tags": []
   },
   "outputs": [
    {
     "name": "stdout",
     "output_type": "stream",
     "text": [
      "Reference 'id' is ambiguous, could be: id, id.\n"
     ]
    }
   ],
   "source": [
    "from typedspark import Column, Schema, create_partially_filled_dataset\n",
    "from pyspark.errors import AnalysisException\n",
    "from pyspark.sql.types import IntegerType, StringType\n",
    "\n",
    "class Person(Schema):\n",
    "    id: Column[IntegerType]\n",
    "    name: Column[StringType]\n",
    "    age: Column[IntegerType]\n",
    "\n",
    "class Job(Schema):\n",
    "    id: Column[IntegerType]\n",
    "    salary: Column[IntegerType]\n",
    "\n",
    "df_a = create_partially_filled_dataset(spark, Person, {Person.id: [1, 2, 3]})\n",
    "df_b = create_partially_filled_dataset(spark, Job, {Job.id: [1, 2, 3]})\n",
    "\n",
    "try:\n",
    "    df_a.join(df_b, Person.id == Job.id)\n",
    "except AnalysisException as e:\n",
    "    print(e)"
   ]
  },
  {
   "attachments": {},
   "cell_type": "markdown",
   "id": "09be224a",
   "metadata": {
    "papermill": {
     "duration": 0.001152,
     "end_time": "2023-04-13T15:29:59.348134",
     "exception": false,
     "start_time": "2023-04-13T15:29:59.346982",
     "status": "completed"
    },
    "tags": []
   },
   "source": [
    "The above resulted in a `AnalysisException`, because Spark can't figure out whether `id` belongs to `df_a` or `df_b`. To deal with this, you need to register your `Schema` to the `DataSet`."
   ]
  },
  {
   "cell_type": "code",
   "execution_count": 3,
   "id": "459a5e06",
   "metadata": {
    "execution": {
     "iopub.execute_input": "2023-04-13T15:29:59.351141Z",
     "iopub.status.busy": "2023-04-13T15:29:59.350996Z",
     "iopub.status.idle": "2023-04-13T15:30:00.778375Z",
     "shell.execute_reply": "2023-04-13T15:30:00.777982Z"
    },
    "papermill": {
     "duration": 1.430365,
     "end_time": "2023-04-13T15:30:00.779747",
     "exception": false,
     "start_time": "2023-04-13T15:29:59.349382",
     "status": "completed"
    },
    "tags": []
   },
   "outputs": [
    {
     "name": "stdout",
     "output_type": "stream",
     "text": [
      "+---+----+----+---+------+\n",
      "| id|name| age| id|salary|\n",
      "+---+----+----+---+------+\n",
      "|  1|null|null|  1|  null|\n",
      "|  2|null|null|  2|  null|\n",
      "|  3|null|null|  3|  null|\n",
      "+---+----+----+---+------+\n",
      "\n"
     ]
    }
   ],
   "source": [
    "from typedspark import register_schema_to_dataset\n",
    "\n",
    "person = register_schema_to_dataset(df_a, Person)\n",
    "job = register_schema_to_dataset(df_b, Job)\n",
    "(\n",
    "    df_a\n",
    "    .join(df_b, person.id == job.id)\n",
    "    .show()\n",
    ")"
   ]
  },
  {
   "attachments": {},
   "cell_type": "markdown",
   "id": "8359bd08",
   "metadata": {
    "papermill": {
     "duration": 0.001269,
     "end_time": "2023-04-13T15:30:00.782528",
     "exception": false,
     "start_time": "2023-04-13T15:30:00.781259",
     "status": "completed"
    },
    "tags": []
   },
   "source": [
    "It is often a good idea to drop the ambiguous column, for example:"
   ]
  },
  {
   "cell_type": "code",
   "execution_count": 4,
   "id": "e0f1a644",
   "metadata": {
    "execution": {
     "iopub.execute_input": "2023-04-13T15:30:00.785593Z",
     "iopub.status.busy": "2023-04-13T15:30:00.785414Z",
     "iopub.status.idle": "2023-04-13T15:30:01.045593Z",
     "shell.execute_reply": "2023-04-13T15:30:01.045096Z"
    },
    "papermill": {
     "duration": 0.263291,
     "end_time": "2023-04-13T15:30:01.046975",
     "exception": false,
     "start_time": "2023-04-13T15:30:00.783684",
     "status": "completed"
    },
    "tags": []
   },
   "outputs": [
    {
     "name": "stdout",
     "output_type": "stream",
     "text": [
      "+---+------+----+----+\n",
      "| id|salary|name| age|\n",
      "+---+------+----+----+\n",
      "|  1|  null|null|null|\n",
      "|  2|  null|null|null|\n",
      "|  3|  null|null|null|\n",
      "+---+------+----+----+\n",
      "\n"
     ]
    }
   ],
   "source": [
    "from typedspark import transform_to_schema\n",
    "\n",
    "class PersonWithJob(Person, Job):\n",
    "    pass\n",
    "\n",
    "(\n",
    "    transform_to_schema(\n",
    "        df_a\n",
    "        .join(df_b, person.id == job.id)\n",
    "        .drop(job.id),\n",
    "        PersonWithJob\n",
    "    )\n",
    "    .show()\n",
    ")"
   ]
  },
  {
   "cell_type": "markdown",
   "id": "5b08a13f",
   "metadata": {
    "papermill": {
     "duration": 0.001377,
     "end_time": "2023-04-13T15:30:01.049894",
     "exception": false,
     "start_time": "2023-04-13T15:30:01.048517",
     "status": "completed"
    },
    "tags": []
   },
   "source": []
  }
 ],
 "metadata": {
  "kernelspec": {
   "display_name": "typedspark",
   "language": "python",
   "name": "python3"
  },
  "language_info": {
   "codemirror_mode": {
    "name": "ipython",
    "version": 3
   },
   "file_extension": ".py",
   "mimetype": "text/x-python",
   "name": "python",
   "nbconvert_exporter": "python",
   "pygments_lexer": "ipython3",
   "version": "3.9.16"
  },
  "papermill": {
   "default_parameters": {},
   "duration": 11.181015,
   "end_time": "2023-04-13T15:30:01.673306",
   "environment_variables": {},
   "exception": null,
   "input_path": "docs/source/column_ambiguity.ipynb",
   "output_path": "docs/source/column_ambiguity.ipynb",
   "parameters": {},
   "start_time": "2023-04-13T15:29:50.492291",
   "version": "2.4.0"
  }
 },
 "nbformat": 4,
 "nbformat_minor": 5
}

{
 "cells": [
  {
   "attachments": {},
   "cell_type": "markdown",
   "id": "c3322756",
   "metadata": {
    "papermill": {
     "duration": 0.005963,
     "end_time": "2023-04-13T15:20:05.605215",
     "exception": false,
     "start_time": "2023-04-13T15:20:05.599252",
     "status": "completed"
    },
    "tags": []
   },
   "source": [
    "# Autocomplete in Databricks notebooks\n",
    "When we use `load_table()` on Databricks, it also offers autocomplete on the column names. No more looking at `df.columns` every minute to remember the column names!\n",
    "\n",
    "To illustrate this, let us first generate a table that we'll write to the table `person_table`."
   ]
  },
  {
   "cell_type": "code",
   "execution_count": null,
   "id": "87752202",
   "metadata": {
    "execution": {
     "iopub.execute_input": "2023-04-13T15:20:05.612451Z",
     "iopub.status.busy": "2023-04-13T15:20:05.612125Z",
     "iopub.status.idle": "2023-04-13T15:20:12.112115Z",
     "shell.execute_reply": "2023-04-13T15:20:12.111760Z"
    },
    "papermill": {
     "duration": 6.504683,
     "end_time": "2023-04-13T15:20:12.113325",
     "exception": false,
     "start_time": "2023-04-13T15:20:05.608642",
     "status": "completed"
    },
    "tags": []
   },
   "outputs": [],
   "source": [
    "import warnings\n",
    "from pyspark.sql import SparkSession \n",
    "warnings.filterwarnings('ignore')\n",
    "spark = SparkSession.Builder().getOrCreate()\n",
    "spark.sparkContext.setLogLevel(\"ERROR\")"
   ]
  },
  {
   "cell_type": "code",
   "execution_count": 2,
   "id": "6c1e5acc",
   "metadata": {
    "execution": {
     "iopub.execute_input": "2023-04-13T15:20:12.116656Z",
     "iopub.status.busy": "2023-04-13T15:20:12.116401Z",
     "iopub.status.idle": "2023-04-13T15:20:13.504748Z",
     "shell.execute_reply": "2023-04-13T15:20:13.504416Z"
    },
    "papermill": {
     "duration": 1.391122,
     "end_time": "2023-04-13T15:20:13.505881",
     "exception": false,
     "start_time": "2023-04-13T15:20:12.114759",
     "status": "completed"
    },
    "tags": []
   },
   "outputs": [],
   "source": [
    "import pandas as pd\n",
    "\n",
    "(\n",
    "    spark.createDataFrame(\n",
    "        pd.DataFrame(\n",
    "            dict(\n",
    "                name=[\"Jack\", \"John\", \"Jane\"],\n",
    "                age=[20, 30, 40],\n",
    "            )\n",
    "        )\n",
    "    )\n",
    "    .createOrReplaceTempView(\"person_table\")\n",
    ")\n"
   ]
  },
  {
   "attachments": {},
   "cell_type": "markdown",
   "id": "4bd96763",
   "metadata": {
    "papermill": {
     "duration": 0.001021,
     "end_time": "2023-04-13T15:20:13.508357",
     "exception": false,
     "start_time": "2023-04-13T15:20:13.507336",
     "status": "completed"
    },
    "tags": []
   },
   "source": [
    "We can now load these data using `load_table()`. Note that the `Schema` is inferred: it doesn't need to have been serialized using `typedspark`."
   ]
  },
  {
   "cell_type": "code",
   "execution_count": 3,
   "id": "3003dea9",
   "metadata": {
    "execution": {
     "iopub.execute_input": "2023-04-13T15:20:13.511122Z",
     "iopub.status.busy": "2023-04-13T15:20:13.510977Z",
     "iopub.status.idle": "2023-04-13T15:20:13.537299Z",
     "shell.execute_reply": "2023-04-13T15:20:13.536994Z"
    },
    "papermill": {
     "duration": 0.029109,
     "end_time": "2023-04-13T15:20:13.538427",
     "exception": false,
     "start_time": "2023-04-13T15:20:13.509318",
     "status": "completed"
    },
    "tags": []
   },
   "outputs": [],
   "source": [
    "from typedspark import load_table\n",
    "\n",
    "df, Person = load_table(spark, \"person_table\")"
   ]
  },
  {
   "attachments": {},
   "cell_type": "markdown",
   "id": "65c183c1",
   "metadata": {
    "papermill": {
     "duration": 0.000989,
     "end_time": "2023-04-13T15:20:13.540683",
     "exception": false,
     "start_time": "2023-04-13T15:20:13.539694",
     "status": "completed"
    },
    "tags": []
   },
   "source": [
    "You can now use `df` and `Person` just like you would in your IDE, including autocomplete!"
   ]
  },
  {
   "cell_type": "code",
   "execution_count": 4,
   "id": "f38e0e20",
   "metadata": {
    "execution": {
     "iopub.execute_input": "2023-04-13T15:20:13.543766Z",
     "iopub.status.busy": "2023-04-13T15:20:13.543611Z",
     "iopub.status.idle": "2023-04-13T15:20:14.339209Z",
     "shell.execute_reply": "2023-04-13T15:20:14.338848Z"
    },
    "papermill": {
     "duration": 0.798418,
     "end_time": "2023-04-13T15:20:14.340278",
     "exception": false,
     "start_time": "2023-04-13T15:20:13.541860",
     "status": "completed"
    },
    "tags": []
   },
   "outputs": [
    {
     "name": "stdout",
     "output_type": "stream",
     "text": [
      "+----+---+\n",
      "|name|age|\n",
      "+----+---+\n",
      "|John| 30|\n",
      "|Jane| 40|\n",
      "+----+---+\n",
      "\n"
     ]
    }
   ],
   "source": [
    "(\n",
    "    df\n",
    "    .filter(Person.age > 25)\n",
    "    .show()\n",
    ")"
   ]
  },
  {
   "attachments": {},
   "cell_type": "markdown",
   "id": "08f247d1",
   "metadata": {
    "papermill": {
     "duration": 0.001065,
     "end_time": "2023-04-13T15:20:14.342835",
     "exception": false,
     "start_time": "2023-04-13T15:20:14.341770",
     "status": "completed"
    },
    "tags": []
   },
   "source": [
    "Of note, `load_table()` automatically runs `register_schema_to_dataset()` on the resulting `DataSet` and `Schema`, hence resolving potential column disambiguities.\n",
    "\n",
    "The above has been tested on Databricks, but may also work in other types of notebooks. Best way to find out is to try!"
   ]
  },
  {
   "cell_type": "markdown",
   "id": "534ee9d9",
   "metadata": {
    "papermill": {
     "duration": 0.00113,
     "end_time": "2023-04-13T15:20:14.345003",
     "exception": false,
     "start_time": "2023-04-13T15:20:14.343873",
     "status": "completed"
    },
    "tags": []
   },
   "source": []
  }
 ],
 "metadata": {
  "kernelspec": {
   "display_name": "typedspark",
   "language": "python",
   "name": "python3"
  },
  "language_info": {
   "codemirror_mode": {
    "name": "ipython",
    "version": 3
   },
   "file_extension": ".py",
   "mimetype": "text/x-python",
   "name": "python",
   "nbconvert_exporter": "python",
   "pygments_lexer": "ipython3",
   "version": "3.9.16"
  },
  "papermill": {
   "default_parameters": {},
   "duration": 10.376197,
   "end_time": "2023-04-13T15:20:15.068092",
   "environment_variables": {},
   "exception": null,
   "input_path": "docs/source/autocomplete_in_databricks.ipynb",
   "output_path": "docs/source/autocomplete_in_databricks.ipynb",
   "parameters": {},
   "start_time": "2023-04-13T15:20:04.691895",
   "version": "2.4.0"
  }
 },
 "nbformat": 4,
 "nbformat_minor": 5
}

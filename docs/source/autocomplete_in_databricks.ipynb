{
 "cells": [
  {
   "cell_type": "markdown",
   "id": "c3322756",
   "metadata": {},
   "source": [
    "# Autocomplete in Databricks notebooks\n",
    "When we use `load_table()` on Databricks, it also offers autocomplete on the column names. No more looking at `df.columns` every minute to remember the column names!\n",
    "\n",
    "To illustrate this, let us first generate a table that we'll write to the table `person_table`."
   ]
  },
  {
   "cell_type": "code",
   "execution_count": 1,
   "id": "87752202",
   "metadata": {},
   "outputs": [],
   "source": [
    "from pyspark.sql import SparkSession\n",
    "spark = SparkSession.Builder().config(\"spark.ui.showConsoleProgress\", \"false\").getOrCreate()\n",
    "spark.sparkContext.setLogLevel(\"ERROR\")"
   ]
  },
  {
   "cell_type": "code",
   "execution_count": 2,
   "id": "6c1e5acc",
   "metadata": {},
   "outputs": [],
   "source": [
    "import pandas as pd\n",
    "\n",
    "(\n",
    "    spark.createDataFrame(\n",
    "        pd.DataFrame(\n",
    "            dict(\n",
    "                name=[\"Jack\", \"John\", \"Jane\"],\n",
    "                age=[20, 30, 40],\n",
    "            )\n",
    "        )\n",
    "    )\n",
    "    .createOrReplaceTempView(\"person_table\")\n",
    ")\n"
   ]
  },
  {
   "cell_type": "markdown",
   "id": "4bd96763",
   "metadata": {},
   "source": [
    "We can now load these data using `load_table()`. Note that the `Schema` is inferred: it doesn't need to have been serialized using `typedspark`."
   ]
  },
  {
   "cell_type": "code",
   "execution_count": 3,
   "id": "3003dea9",
   "metadata": {},
   "outputs": [],
   "source": [
    "from typedspark import load_table\n",
    "\n",
    "df, Person = load_table(spark, \"person_table\")"
   ]
  },
  {
   "cell_type": "markdown",
   "id": "65c183c1",
   "metadata": {},
   "source": [
    "You can now use `df` and `Person` just like you would in your IDE, including autocomplete!"
   ]
  },
  {
   "cell_type": "code",
   "execution_count": 4,
   "id": "f38e0e20",
   "metadata": {},
   "outputs": [
    {
     "name": "stdout",
     "output_type": "stream",
     "text": [
      "+----+---+\n",
      "|name|age|\n",
      "+----+---+\n",
      "|John| 30|\n",
      "|Jane| 40|\n",
      "+----+---+\n",
      "\n"
     ]
    }
   ],
   "source": [
    "(\n",
    "    df\n",
    "    .filter(Person.age > 25)\n",
    "    .show()\n",
    ")"
   ]
  },
  {
   "cell_type": "markdown",
   "id": "08f247d1",
   "metadata": {},
   "source": [
    "Of note, `load_table()` automatically runs `register_schema_to_dataset()` on the resulting `DataSet` and `Schema`, hence resolving potential column disambiguities.\n",
    "\n",
    "The above has been tested on Databricks, but may also work in other types of notebooks. Best way to find out is to try!"
   ]
  },
  {
   "cell_type": "markdown",
   "id": "77feef54",
   "metadata": {},
   "source": [
    "Next to using the Schema in your next query, there can also be reasons you want the code representation of the Schema."
   ]
  },
  {
   "cell_type": "code",
   "execution_count": 5,
   "id": "517e5481",
   "metadata": {},
   "outputs": [],
   "source": [
    "Person"
   ]
  },
  {
   "cell_type": "markdown",
   "id": "534ee9d9",
   "metadata": {},
   "source": [
    "To use this to define the schema in your codebase, the Schema name needs to be changed. One can do this by defining the `schema_name` in the `load_table` function."
   ]
  },
  {
   "cell_type": "code",
   "execution_count": 6,
   "id": "28d60ba8",
   "metadata": {},
   "outputs": [],
   "source": [
    "df, Person = load_table(spark, \"person_table\", schema_name=\"Person\")\n",
    "Person"
   ]
  }
 ],
 "metadata": {
  "kernelspec": {
   "display_name": "Python 3 (ipykernel)",
   "language": "python",
   "name": "python3"
  },
  "language_info": {
   "codemirror_mode": {
    "name": "ipython",
    "version": 3
   },
   "file_extension": ".py",
   "mimetype": "text/x-python",
   "name": "python",
   "nbconvert_exporter": "python",
   "pygments_lexer": "ipython3",
   "version": "3.11.2"
  }
 },
 "nbformat": 4,
 "nbformat_minor": 5
}

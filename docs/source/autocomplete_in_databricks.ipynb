{
 "cells": [
  {
   "attachments": {},
   "cell_type": "markdown",
   "id": "c3322756",
   "metadata": {
    "papermill": {
     "duration": 0.017565,
     "end_time": "2023-04-17T15:09:51.912957",
     "exception": false,
     "start_time": "2023-04-17T15:09:51.895392",
     "status": "completed"
    },
    "tags": []
   },
   "source": [
    "# Autocomplete in Databricks notebooks\n",
    "When we use `load_table()` on Databricks, it also offers autocomplete on the column names. No more looking at `df.columns` every minute to remember the column names!\n",
    "\n",
    "To illustrate this, let us first generate a table that we'll write to the table `person_table`."
   ]
  },
  {
   "cell_type": "code",
   "execution_count": null,
   "id": "87752202",
   "metadata": {
    "execution": {
     "iopub.execute_input": "2023-04-17T15:09:51.922229Z",
     "iopub.status.busy": "2023-04-17T15:09:51.921644Z",
     "iopub.status.idle": "2023-04-17T15:09:58.460913Z",
     "shell.execute_reply": "2023-04-17T15:09:58.460604Z"
    },
    "papermill": {
     "duration": 6.545568,
     "end_time": "2023-04-17T15:09:58.461991",
     "exception": false,
     "start_time": "2023-04-17T15:09:51.916423",
     "status": "completed"
    },
    "tags": []
   },
   "outputs": [],
   "source": [
    "from pyspark.sql import SparkSession\n",
    "spark = SparkSession.Builder().config(\"spark.ui.showConsoleProgress\", \"false\").getOrCreate()\n",
    "spark.sparkContext.setLogLevel(\"ERROR\")"
   ]
  },
  {
   "cell_type": "code",
   "execution_count": 2,
   "id": "6c1e5acc",
   "metadata": {
    "execution": {
     "iopub.execute_input": "2023-04-17T15:09:58.465082Z",
     "iopub.status.busy": "2023-04-17T15:09:58.464940Z",
     "iopub.status.idle": "2023-04-17T15:09:59.896245Z",
     "shell.execute_reply": "2023-04-17T15:09:59.895956Z"
    },
    "papermill": {
     "duration": 1.43395,
     "end_time": "2023-04-17T15:09:59.897319",
     "exception": false,
     "start_time": "2023-04-17T15:09:58.463369",
     "status": "completed"
    },
    "tags": []
   },
   "outputs": [],
   "source": [
    "import pandas as pd\n",
    "\n",
    "(\n",
    "    spark.createDataFrame(\n",
    "        pd.DataFrame(\n",
    "            dict(\n",
    "                name=[\"Jack\", \"John\", \"Jane\"],\n",
    "                age=[20, 30, 40],\n",
    "            )\n",
    "        )\n",
    "    )\n",
    "    .createOrReplaceTempView(\"person_table\")\n",
    ")\n"
   ]
  },
  {
   "attachments": {},
   "cell_type": "markdown",
   "id": "4bd96763",
   "metadata": {
    "papermill": {
     "duration": 0.000993,
     "end_time": "2023-04-17T15:09:59.899654",
     "exception": false,
     "start_time": "2023-04-17T15:09:59.898661",
     "status": "completed"
    },
    "tags": []
   },
   "source": [
    "We can now load these data using `load_table()`. Note that the `Schema` is inferred: it doesn't need to have been serialized using `typedspark`."
   ]
  },
  {
   "cell_type": "code",
   "execution_count": 3,
   "id": "3003dea9",
   "metadata": {
    "execution": {
     "iopub.execute_input": "2023-04-17T15:09:59.902125Z",
     "iopub.status.busy": "2023-04-17T15:09:59.901954Z",
     "iopub.status.idle": "2023-04-17T15:09:59.923886Z",
     "shell.execute_reply": "2023-04-17T15:09:59.923576Z"
    },
    "papermill": {
     "duration": 0.024223,
     "end_time": "2023-04-17T15:09:59.924794",
     "exception": false,
     "start_time": "2023-04-17T15:09:59.900571",
     "status": "completed"
    },
    "tags": []
   },
   "outputs": [],
   "source": [
    "from typedspark import load_table\n",
    "\n",
    "df, Person = load_table(spark, \"person_table\")"
   ]
  },
  {
   "attachments": {},
   "cell_type": "markdown",
   "id": "65c183c1",
   "metadata": {
    "papermill": {
     "duration": 0.000942,
     "end_time": "2023-04-17T15:09:59.926932",
     "exception": false,
     "start_time": "2023-04-17T15:09:59.925990",
     "status": "completed"
    },
    "tags": []
   },
   "source": [
    "You can now use `df` and `Person` just like you would in your IDE, including autocomplete!"
   ]
  },
  {
   "cell_type": "code",
   "execution_count": 4,
   "id": "f38e0e20",
   "metadata": {
    "execution": {
     "iopub.execute_input": "2023-04-17T15:09:59.929491Z",
     "iopub.status.busy": "2023-04-17T15:09:59.929384Z",
     "iopub.status.idle": "2023-04-17T15:10:01.004126Z",
     "shell.execute_reply": "2023-04-17T15:10:01.003842Z"
    },
    "papermill": {
     "duration": 1.077009,
     "end_time": "2023-04-17T15:10:01.004973",
     "exception": false,
     "start_time": "2023-04-17T15:09:59.927964",
     "status": "completed"
    },
    "tags": []
   },
   "outputs": [
    {
     "name": "stdout",
     "output_type": "stream",
     "text": [
      "+----+---+\n",
      "|name|age|\n",
      "+----+---+\n",
      "|John| 30|\n",
      "|Jane| 40|\n",
      "+----+---+\n",
      "\n"
     ]
    }
   ],
   "source": [
    "(\n",
    "    df\n",
    "    .filter(Person.age > 25)\n",
    "    .show()\n",
    ")"
   ]
  },
  {
   "attachments": {},
   "cell_type": "markdown",
   "id": "08f247d1",
   "metadata": {
    "papermill": {
     "duration": 0.001017,
     "end_time": "2023-04-17T15:10:01.007359",
     "exception": false,
     "start_time": "2023-04-17T15:10:01.006342",
     "status": "completed"
    },
    "tags": []
   },
   "source": [
    "Of note, `load_table()` automatically runs `register_schema_to_dataset()` on the resulting `DataSet` and `Schema`, hence resolving potential column disambiguities.\n",
    "\n",
    "The above has been tested on Databricks, but may also work in other types of notebooks. Best way to find out is to try!"
   ]
  },
  {
   "cell_type": "markdown",
   "id": "534ee9d9",
   "metadata": {
    "papermill": {
     "duration": 0.000962,
     "end_time": "2023-04-17T15:10:01.009246",
     "exception": false,
     "start_time": "2023-04-17T15:10:01.008284",
     "status": "completed"
    },
    "tags": []
   },
   "source": []
  }
 ],
 "metadata": {
  "kernelspec": {
   "display_name": "typedspark",
   "language": "python",
   "name": "python3"
  },
  "language_info": {
   "codemirror_mode": {
    "name": "ipython",
    "version": 3
   },
   "file_extension": ".py",
   "mimetype": "text/x-python",
   "name": "python",
   "nbconvert_exporter": "python",
   "pygments_lexer": "ipython3",
   "version": "3.11.2"
  },
  "papermill": {
   "default_parameters": {},
   "duration": 10.738206,
   "end_time": "2023-04-17T15:10:01.747534",
   "environment_variables": {},
   "exception": null,
   "input_path": "docs/source/autocomplete_in_databricks.ipynb",
   "output_path": "docs/source/autocomplete_in_databricks.ipynb",
   "parameters": {},
   "start_time": "2023-04-17T15:09:51.009328",
   "version": "2.4.0"
  }
 },
 "nbformat": 4,
 "nbformat_minor": 5
}

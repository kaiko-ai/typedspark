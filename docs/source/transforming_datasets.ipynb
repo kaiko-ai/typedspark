{
 "cells": [
  {
   "attachments": {},
   "cell_type": "markdown",
   "id": "ab6cce16",
   "metadata": {
    "papermill": {
     "duration": 0.010763,
     "end_time": "2023-04-17T15:10:56.636361",
     "exception": false,
     "start_time": "2023-04-17T15:10:56.625598",
     "status": "completed"
    },
    "tags": []
   },
   "source": [
    "# Transforming a DataSet to another schema\n",
    "\n",
    "We often come across the following pattern:"
   ]
  },
  {
   "cell_type": "code",
   "execution_count": 1,
   "id": "44b1c3bb",
   "metadata": {
    "execution": {
     "iopub.execute_input": "2023-04-17T15:10:56.650075Z",
     "iopub.status.busy": "2023-04-17T15:10:56.649564Z",
     "iopub.status.idle": "2023-04-17T15:10:56.760635Z",
     "shell.execute_reply": "2023-04-17T15:10:56.759769Z"
    },
    "papermill": {
     "duration": 0.12125,
     "end_time": "2023-04-17T15:10:56.763587",
     "exception": false,
     "start_time": "2023-04-17T15:10:56.642337",
     "status": "completed"
    },
    "tags": []
   },
   "outputs": [],
   "source": [
    "from pyspark.sql.types import IntegerType\n",
    "from typedspark import Column, Schema, DataSet\n",
    "\n",
    "class A(Schema):\n",
    "    a: Column[IntegerType]\n",
    "    b: Column[IntegerType]\n",
    "    c: Column[IntegerType]\n",
    "    d: Column[IntegerType]\n",
    "    e: Column[IntegerType]\n",
    "\n",
    "class B(Schema):\n",
    "    f: Column[IntegerType]\n",
    "    g: Column[IntegerType]\n",
    "    h: Column[IntegerType]\n",
    "    i: Column[IntegerType]\n",
    "    j: Column[IntegerType]\n",
    "\n",
    "class AB(Schema):\n",
    "    a: Column[IntegerType]\n",
    "    b: Column[IntegerType]\n",
    "    i: Column[IntegerType]\n",
    "    j: Column[IntegerType]\n",
    "\n",
    "def foo(df_a: DataSet[A], df_b: DataSet[B]) -> DataSet[AB]:\n",
    "    return DataSet[AB](\n",
    "        df_a.join(df_b, A.a == B.f)\n",
    "        .withColumn(AB.a.str, A.a + 3)\n",
    "        .withColumn(AB.b.str, A.b + 7)\n",
    "        .withColumn(AB.i.str, B.i - 5)\n",
    "        .withColumn(AB.j.str, B.j + 1)\n",
    "        .select(*AB.all_column_names())\n",
    "    )"
   ]
  },
  {
   "attachments": {},
   "cell_type": "markdown",
   "id": "2ba1ded0",
   "metadata": {
    "papermill": {
     "duration": 0.003207,
     "end_time": "2023-04-17T15:10:56.770753",
     "exception": false,
     "start_time": "2023-04-17T15:10:56.767546",
     "status": "completed"
    },
    "tags": []
   },
   "source": [
    "We can make that quite a bit more condensed:"
   ]
  },
  {
   "cell_type": "code",
   "execution_count": 2,
   "id": "a08d2a1f",
   "metadata": {
    "execution": {
     "iopub.execute_input": "2023-04-17T15:10:56.776935Z",
     "iopub.status.busy": "2023-04-17T15:10:56.776578Z",
     "iopub.status.idle": "2023-04-17T15:10:56.783441Z",
     "shell.execute_reply": "2023-04-17T15:10:56.782801Z"
    },
    "papermill": {
     "duration": 0.011824,
     "end_time": "2023-04-17T15:10:56.785842",
     "exception": false,
     "start_time": "2023-04-17T15:10:56.774018",
     "status": "completed"
    },
    "tags": []
   },
   "outputs": [],
   "source": [
    "from typedspark import transform_to_schema\n",
    "\n",
    "def foo(df_a: DataSet[A], df_b: DataSet[B]) -> DataSet[AB]:\n",
    "    return transform_to_schema(\n",
    "        df_a.join(df_b, A.a == B.f),\n",
    "        AB,\n",
    "        {\n",
    "            AB.a: A.a + 3,\n",
    "            AB.b: A.b + 7,\n",
    "            AB.i: B.i - 5,\n",
    "            AB.j: B.j + 1,\n",
    "        }\n",
    "    )"
   ]
  },
  {
   "attachments": {},
   "cell_type": "markdown",
   "id": "bb3fb301",
   "metadata": {
    "papermill": {
     "duration": 0.003438,
     "end_time": "2023-04-17T15:10:56.792707",
     "exception": false,
     "start_time": "2023-04-17T15:10:56.789269",
     "status": "completed"
    },
    "tags": []
   },
   "source": [
    "This function can also be used to just select the subset of columns used in the schema, simply omit the third argument."
   ]
  },
  {
   "cell_type": "code",
   "execution_count": 3,
   "id": "1e13a30f",
   "metadata": {
    "execution": {
     "iopub.execute_input": "2023-04-17T15:10:56.800286Z",
     "iopub.status.busy": "2023-04-17T15:10:56.800015Z",
     "iopub.status.idle": "2023-04-17T15:10:56.806886Z",
     "shell.execute_reply": "2023-04-17T15:10:56.806173Z"
    },
    "papermill": {
     "duration": 0.013541,
     "end_time": "2023-04-17T15:10:56.809302",
     "exception": false,
     "start_time": "2023-04-17T15:10:56.795761",
     "status": "completed"
    },
    "tags": []
   },
   "outputs": [],
   "source": [
    "class A(Schema):\n",
    "    a: Column[IntegerType]\n",
    "    b: Column[IntegerType]\n",
    "    c: Column[IntegerType]\n",
    "    d: Column[IntegerType]\n",
    "    e: Column[IntegerType]\n",
    "\n",
    "class B(Schema):\n",
    "    a: Column[IntegerType]\n",
    "    b: Column[IntegerType]\n",
    "\n",
    "def foo(df: DataSet[A]) -> DataSet[B]:\n",
    "    return transform_to_schema(df, B)"
   ]
  },
  {
   "attachments": {},
   "cell_type": "markdown",
   "id": "98d00a0f",
   "metadata": {
    "papermill": {
     "duration": 0.003052,
     "end_time": "2023-04-17T15:10:56.815670",
     "exception": false,
     "start_time": "2023-04-17T15:10:56.812618",
     "status": "completed"
    },
    "tags": []
   },
   "source": [
    "The `transformations` dictionary in `transform_to_schema(..., transformations)` requires columns with unique names as keys. The following pattern will throw an exception."
   ]
  },
  {
   "cell_type": "code",
   "execution_count": null,
   "id": "916f8122",
   "metadata": {
    "execution": {
     "iopub.execute_input": "2023-04-17T15:10:56.823106Z",
     "iopub.status.busy": "2023-04-17T15:10:56.822677Z",
     "iopub.status.idle": "2023-04-17T15:11:03.253329Z",
     "shell.execute_reply": "2023-04-17T15:11:03.252971Z"
    },
    "papermill": {
     "duration": 6.435576,
     "end_time": "2023-04-17T15:11:03.254308",
     "exception": false,
     "start_time": "2023-04-17T15:10:56.818732",
     "status": "completed"
    },
    "tags": []
   },
   "outputs": [],
   "source": [
    "from pyspark.sql import SparkSession\n",
    "spark = SparkSession.Builder().config(\"spark.ui.showConsoleProgress\", \"false\").getOrCreate()\n",
    "spark.sparkContext.setLogLevel(\"ERROR\")"
   ]
  },
  {
   "cell_type": "code",
   "execution_count": 5,
   "id": "756995ae",
   "metadata": {
    "execution": {
     "iopub.execute_input": "2023-04-17T15:11:03.257519Z",
     "iopub.status.busy": "2023-04-17T15:11:03.257399Z",
     "iopub.status.idle": "2023-04-17T15:11:04.525800Z",
     "shell.execute_reply": "2023-04-17T15:11:04.525509Z"
    },
    "papermill": {
     "duration": 1.270931,
     "end_time": "2023-04-17T15:11:04.526677",
     "exception": false,
     "start_time": "2023-04-17T15:11:03.255746",
     "status": "completed"
    },
    "tags": []
   },
   "outputs": [
    {
     "name": "stdout",
     "output_type": "stream",
     "text": [
      "Cannot convert column into bool: please use '&' for 'and', '|' for 'or', '~' for 'not' when building DataFrame boolean expressions.\n"
     ]
    }
   ],
   "source": [
    "from typedspark import create_partially_filled_dataset\n",
    "\n",
    "df = create_partially_filled_dataset(spark, A, {A.a: [1, 2, 3]})\n",
    "\n",
    "try:\n",
    "    transform_to_schema(\n",
    "        df,\n",
    "        B,\n",
    "        {\n",
    "            B.a: A.a + 3,\n",
    "            B.a: B.a * 2,\n",
    "        }\n",
    "    )\n",
    "except ValueError as e:\n",
    "    print(e)"
   ]
  },
  {
   "attachments": {},
   "cell_type": "markdown",
   "id": "67b9285c",
   "metadata": {
    "papermill": {
     "duration": 0.001192,
     "end_time": "2023-04-17T15:11:04.529353",
     "exception": false,
     "start_time": "2023-04-17T15:11:04.528161",
     "status": "completed"
    },
    "tags": []
   },
   "source": [
    "Instead, use one line per column"
   ]
  },
  {
   "cell_type": "code",
   "execution_count": 6,
   "id": "46c8833f",
   "metadata": {
    "execution": {
     "iopub.execute_input": "2023-04-17T15:11:04.532062Z",
     "iopub.status.busy": "2023-04-17T15:11:04.531954Z",
     "iopub.status.idle": "2023-04-17T15:11:05.754605Z",
     "shell.execute_reply": "2023-04-17T15:11:05.754302Z"
    },
    "papermill": {
     "duration": 1.225345,
     "end_time": "2023-04-17T15:11:05.755754",
     "exception": false,
     "start_time": "2023-04-17T15:11:04.530409",
     "status": "completed"
    },
    "tags": []
   },
   "outputs": [
    {
     "name": "stdout",
     "output_type": "stream",
     "text": [
      "+---+----+\n",
      "|  a|   b|\n",
      "+---+----+\n",
      "|  8|null|\n",
      "| 10|null|\n",
      "| 12|null|\n",
      "+---+----+\n",
      "\n"
     ]
    }
   ],
   "source": [
    "transform_to_schema(\n",
    "    df,\n",
    "    B,\n",
    "    {\n",
    "        B.a: (A.a + 3) * 2,\n",
    "    }\n",
    ").show()"
   ]
  },
  {
   "cell_type": "markdown",
   "id": "6546f023",
   "metadata": {
    "papermill": {
     "duration": 0.00115,
     "end_time": "2023-04-17T15:11:05.758396",
     "exception": false,
     "start_time": "2023-04-17T15:11:05.757246",
     "status": "completed"
    },
    "tags": []
   },
   "source": []
  }
 ],
 "metadata": {
  "kernelspec": {
   "display_name": "typedspark",
   "language": "python",
   "name": "python3"
  },
  "language_info": {
   "codemirror_mode": {
    "name": "ipython",
    "version": 3
   },
   "file_extension": ".py",
   "mimetype": "text/x-python",
   "name": "python",
   "nbconvert_exporter": "python",
   "pygments_lexer": "ipython3",
   "version": "3.11.2"
  },
  "papermill": {
   "default_parameters": {},
   "duration": 10.75566,
   "end_time": "2023-04-17T15:11:06.488335",
   "environment_variables": {},
   "exception": null,
   "input_path": "docs/source/transforming_datasets.ipynb",
   "output_path": "docs/source/transforming_datasets.ipynb",
   "parameters": {},
   "start_time": "2023-04-17T15:10:55.732675",
   "version": "2.4.0"
  }
 },
 "nbformat": 4,
 "nbformat_minor": 5
}

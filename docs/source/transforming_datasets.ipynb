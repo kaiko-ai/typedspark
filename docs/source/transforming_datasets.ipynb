{
 "cells": [
  {
   "attachments": {},
   "cell_type": "markdown",
   "id": "ab6cce16",
   "metadata": {
    "papermill": {
     "duration": 0.002946,
     "end_time": "2023-04-13T15:03:24.221011",
     "exception": false,
     "start_time": "2023-04-13T15:03:24.218065",
     "status": "completed"
    },
    "tags": []
   },
   "source": [
    "# Transforming a DataSet to another schema\n",
    "\n",
    "We often come across the following pattern:"
   ]
  },
  {
   "cell_type": "code",
   "execution_count": 1,
   "id": "44b1c3bb",
   "metadata": {
    "execution": {
     "iopub.execute_input": "2023-04-13T15:03:24.226100Z",
     "iopub.status.busy": "2023-04-13T15:03:24.225881Z",
     "iopub.status.idle": "2023-04-13T15:03:24.306167Z",
     "shell.execute_reply": "2023-04-13T15:03:24.304172Z"
    },
    "papermill": {
     "duration": 0.08633,
     "end_time": "2023-04-13T15:03:24.309507",
     "exception": false,
     "start_time": "2023-04-13T15:03:24.223177",
     "status": "completed"
    },
    "tags": []
   },
   "outputs": [],
   "source": [
    "from pyspark.sql.types import IntegerType\n",
    "from typedspark import Column, Schema, DataSet\n",
    "\n",
    "class A(Schema):\n",
    "    a: Column[IntegerType]\n",
    "    b: Column[IntegerType]\n",
    "    c: Column[IntegerType]\n",
    "    d: Column[IntegerType]\n",
    "    e: Column[IntegerType]\n",
    "\n",
    "class B(Schema):\n",
    "    f: Column[IntegerType]\n",
    "    g: Column[IntegerType]\n",
    "    h: Column[IntegerType]\n",
    "    i: Column[IntegerType]\n",
    "    j: Column[IntegerType]\n",
    "\n",
    "class AB(Schema):\n",
    "    a: Column[IntegerType]\n",
    "    b: Column[IntegerType]\n",
    "    i: Column[IntegerType]\n",
    "    j: Column[IntegerType]\n",
    "\n",
    "def foo(df_a: DataSet[A], df_b: DataSet[B]) -> DataSet[AB]:\n",
    "    return DataSet[AB](\n",
    "        df_a.join(df_b, A.a == B.f)\n",
    "        .withColumn(AB.a.str, A.a + 3)\n",
    "        .withColumn(AB.b.str, A.b + 7)\n",
    "        .withColumn(AB.i.str, B.i - 5)\n",
    "        .withColumn(AB.j.str, B.j + 1)\n",
    "        .select(*AB.all_column_names())\n",
    "    )"
   ]
  },
  {
   "attachments": {},
   "cell_type": "markdown",
   "id": "2ba1ded0",
   "metadata": {
    "papermill": {
     "duration": 0.006545,
     "end_time": "2023-04-13T15:03:24.319882",
     "exception": false,
     "start_time": "2023-04-13T15:03:24.313337",
     "status": "completed"
    },
    "tags": []
   },
   "source": [
    "We can make that quite a bit more condensed:"
   ]
  },
  {
   "cell_type": "code",
   "execution_count": 2,
   "id": "a08d2a1f",
   "metadata": {
    "execution": {
     "iopub.execute_input": "2023-04-13T15:03:24.327772Z",
     "iopub.status.busy": "2023-04-13T15:03:24.327433Z",
     "iopub.status.idle": "2023-04-13T15:03:24.357490Z",
     "shell.execute_reply": "2023-04-13T15:03:24.343256Z"
    },
    "papermill": {
     "duration": 0.042434,
     "end_time": "2023-04-13T15:03:24.364466",
     "exception": false,
     "start_time": "2023-04-13T15:03:24.322032",
     "status": "completed"
    },
    "tags": []
   },
   "outputs": [],
   "source": [
    "from typedspark import transform_to_schema\n",
    "\n",
    "def foo(df_a: DataSet[A], df_b: DataSet[B]) -> DataSet[AB]:\n",
    "    return transform_to_schema(\n",
    "        df_a.join(df_b, A.a == B.f),\n",
    "        AB,\n",
    "        {\n",
    "            AB.a: A.a + 3,\n",
    "            AB.b: A.b + 7,\n",
    "            AB.i: B.i - 5,\n",
    "            AB.j: B.j + 1,\n",
    "        }\n",
    "    )"
   ]
  },
  {
   "attachments": {},
   "cell_type": "markdown",
   "id": "bb3fb301",
   "metadata": {
    "papermill": {
     "duration": 0.003426,
     "end_time": "2023-04-13T15:03:24.372125",
     "exception": false,
     "start_time": "2023-04-13T15:03:24.368699",
     "status": "completed"
    },
    "tags": []
   },
   "source": [
    "This function can also be used to just select the subset of columns used in the schema, simply omit the third argument."
   ]
  },
  {
   "cell_type": "code",
   "execution_count": 3,
   "id": "1e13a30f",
   "metadata": {
    "execution": {
     "iopub.execute_input": "2023-04-13T15:03:24.378031Z",
     "iopub.status.busy": "2023-04-13T15:03:24.377625Z",
     "iopub.status.idle": "2023-04-13T15:03:24.384186Z",
     "shell.execute_reply": "2023-04-13T15:03:24.383359Z"
    },
    "papermill": {
     "duration": 0.012828,
     "end_time": "2023-04-13T15:03:24.387328",
     "exception": false,
     "start_time": "2023-04-13T15:03:24.374500",
     "status": "completed"
    },
    "tags": []
   },
   "outputs": [],
   "source": [
    "class A(Schema):\n",
    "    a: Column[IntegerType]\n",
    "    b: Column[IntegerType]\n",
    "    c: Column[IntegerType]\n",
    "    d: Column[IntegerType]\n",
    "    e: Column[IntegerType]\n",
    "\n",
    "class B(Schema):\n",
    "    a: Column[IntegerType]\n",
    "    b: Column[IntegerType]\n",
    "\n",
    "def foo(df: DataSet[A]) -> DataSet[B]:\n",
    "    return transform_to_schema(df, B)"
   ]
  },
  {
   "attachments": {},
   "cell_type": "markdown",
   "id": "98d00a0f",
   "metadata": {
    "papermill": {
     "duration": 0.001276,
     "end_time": "2023-04-13T15:03:24.390610",
     "exception": false,
     "start_time": "2023-04-13T15:03:24.389334",
     "status": "completed"
    },
    "tags": []
   },
   "source": [
    "The `transformations` dictionary in `transform_to_schema(..., transformations)` requires columns with unique names as keys. The following pattern will throw an exception."
   ]
  },
  {
   "cell_type": "code",
   "execution_count": null,
   "id": "916f8122",
   "metadata": {
    "execution": {
     "iopub.execute_input": "2023-04-13T15:03:24.400119Z",
     "iopub.status.busy": "2023-04-13T15:03:24.399579Z",
     "iopub.status.idle": "2023-04-13T15:03:30.930802Z",
     "shell.execute_reply": "2023-04-13T15:03:30.930452Z"
    },
    "papermill": {
     "duration": 6.537529,
     "end_time": "2023-04-13T15:03:30.931968",
     "exception": false,
     "start_time": "2023-04-13T15:03:24.394439",
     "status": "completed"
    },
    "tags": []
   },
   "outputs": [],
   "source": [
    "from pyspark.sql import SparkSession\n",
    "spark = SparkSession.Builder().getOrCreate()\n",
    "spark.sparkContext.setLogLevel(\"ERROR\")"
   ]
  },
  {
   "cell_type": "code",
   "execution_count": 5,
   "id": "756995ae",
   "metadata": {
    "execution": {
     "iopub.execute_input": "2023-04-13T15:03:30.936255Z",
     "iopub.status.busy": "2023-04-13T15:03:30.936065Z",
     "iopub.status.idle": "2023-04-13T15:03:32.218543Z",
     "shell.execute_reply": "2023-04-13T15:03:32.218208Z"
    },
    "papermill": {
     "duration": 1.285295,
     "end_time": "2023-04-13T15:03:32.219533",
     "exception": false,
     "start_time": "2023-04-13T15:03:30.934238",
     "status": "completed"
    },
    "tags": []
   },
   "outputs": [
    {
     "name": "stdout",
     "output_type": "stream",
     "text": [
      "Cannot convert column into bool: please use '&' for 'and', '|' for 'or', '~' for 'not' when building DataFrame boolean expressions.\n"
     ]
    }
   ],
   "source": [
    "from typedspark import create_partially_filled_dataset\n",
    "\n",
    "df = create_partially_filled_dataset(spark, A, {A.a: [1, 2, 3]})\n",
    "\n",
    "try:\n",
    "    transform_to_schema(\n",
    "        df,\n",
    "        B,\n",
    "        {\n",
    "            B.a: A.a + 3,\n",
    "            B.a: B.a * 2,\n",
    "        }\n",
    "    )\n",
    "except ValueError as e:\n",
    "    print(e)"
   ]
  },
  {
   "attachments": {},
   "cell_type": "markdown",
   "id": "67b9285c",
   "metadata": {
    "papermill": {
     "duration": 0.001233,
     "end_time": "2023-04-13T15:03:32.222317",
     "exception": false,
     "start_time": "2023-04-13T15:03:32.221084",
     "status": "completed"
    },
    "tags": []
   },
   "source": [
    "Instead, use one line per column"
   ]
  },
  {
   "cell_type": "code",
   "execution_count": 6,
   "id": "46c8833f",
   "metadata": {
    "execution": {
     "iopub.execute_input": "2023-04-13T15:03:32.225322Z",
     "iopub.status.busy": "2023-04-13T15:03:32.225186Z",
     "iopub.status.idle": "2023-04-13T15:03:33.163806Z",
     "shell.execute_reply": "2023-04-13T15:03:33.163513Z"
    },
    "papermill": {
     "duration": 0.941458,
     "end_time": "2023-04-13T15:03:33.164943",
     "exception": false,
     "start_time": "2023-04-13T15:03:32.223485",
     "status": "completed"
    },
    "tags": []
   },
   "outputs": [
    {
     "name": "stdout",
     "output_type": "stream",
     "text": [
      "+---+----+\n",
      "|  a|   b|\n",
      "+---+----+\n",
      "|  8|null|\n",
      "| 10|null|\n",
      "| 12|null|\n",
      "+---+----+\n",
      "\n"
     ]
    }
   ],
   "source": [
    "transform_to_schema(\n",
    "    df,\n",
    "    B,\n",
    "    {\n",
    "        B.a: (A.a + 3) * 2,\n",
    "    }\n",
    ").show()"
   ]
  },
  {
   "cell_type": "markdown",
   "id": "6546f023",
   "metadata": {
    "papermill": {
     "duration": 0.001306,
     "end_time": "2023-04-13T15:03:33.181123",
     "exception": false,
     "start_time": "2023-04-13T15:03:33.179817",
     "status": "completed"
    },
    "tags": []
   },
   "source": []
  }
 ],
 "metadata": {
  "kernelspec": {
   "display_name": "typedspark",
   "language": "python",
   "name": "python3"
  },
  "language_info": {
   "codemirror_mode": {
    "name": "ipython",
    "version": 3
   },
   "file_extension": ".py",
   "mimetype": "text/x-python",
   "name": "python",
   "nbconvert_exporter": "python",
   "pygments_lexer": "ipython3",
   "version": "3.9.16"
  },
  "papermill": {
   "default_parameters": {},
   "duration": 10.474924,
   "end_time": "2023-04-13T15:03:33.803982",
   "environment_variables": {},
   "exception": null,
   "input_path": "docs/source/transforming_datasets.ipynb",
   "output_path": "docs/source/transforming_datasets.ipynb",
   "parameters": {},
   "start_time": "2023-04-13T15:03:23.329058",
   "version": "2.4.0"
  }
 },
 "nbformat": 4,
 "nbformat_minor": 5
}

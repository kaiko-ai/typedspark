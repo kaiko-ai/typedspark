{
 "cells": [
  {
   "attachments": {},
   "cell_type": "markdown",
   "id": "ab6cce16",
   "metadata": {
    "papermill": {
     "duration": 0.010896,
     "end_time": "2023-04-13T15:21:06.538150",
     "exception": false,
     "start_time": "2023-04-13T15:21:06.527254",
     "status": "completed"
    },
    "tags": []
   },
   "source": [
    "# Transforming a DataSet to another schema\n",
    "\n",
    "We often come across the following pattern:"
   ]
  },
  {
   "cell_type": "code",
   "execution_count": 1,
   "id": "44b1c3bb",
   "metadata": {
    "execution": {
     "iopub.execute_input": "2023-04-13T15:21:06.553578Z",
     "iopub.status.busy": "2023-04-13T15:21:06.552996Z",
     "iopub.status.idle": "2023-04-13T15:21:06.656732Z",
     "shell.execute_reply": "2023-04-13T15:21:06.651324Z"
    },
    "papermill": {
     "duration": 0.116379,
     "end_time": "2023-04-13T15:21:06.661678",
     "exception": false,
     "start_time": "2023-04-13T15:21:06.545299",
     "status": "completed"
    },
    "tags": []
   },
   "outputs": [],
   "source": [
    "from pyspark.sql.types import IntegerType\n",
    "from typedspark import Column, Schema, DataSet\n",
    "\n",
    "class A(Schema):\n",
    "    a: Column[IntegerType]\n",
    "    b: Column[IntegerType]\n",
    "    c: Column[IntegerType]\n",
    "    d: Column[IntegerType]\n",
    "    e: Column[IntegerType]\n",
    "\n",
    "class B(Schema):\n",
    "    f: Column[IntegerType]\n",
    "    g: Column[IntegerType]\n",
    "    h: Column[IntegerType]\n",
    "    i: Column[IntegerType]\n",
    "    j: Column[IntegerType]\n",
    "\n",
    "class AB(Schema):\n",
    "    a: Column[IntegerType]\n",
    "    b: Column[IntegerType]\n",
    "    i: Column[IntegerType]\n",
    "    j: Column[IntegerType]\n",
    "\n",
    "def foo(df_a: DataSet[A], df_b: DataSet[B]) -> DataSet[AB]:\n",
    "    return DataSet[AB](\n",
    "        df_a.join(df_b, A.a == B.f)\n",
    "        .withColumn(AB.a.str, A.a + 3)\n",
    "        .withColumn(AB.b.str, A.b + 7)\n",
    "        .withColumn(AB.i.str, B.i - 5)\n",
    "        .withColumn(AB.j.str, B.j + 1)\n",
    "        .select(*AB.all_column_names())\n",
    "    )"
   ]
  },
  {
   "attachments": {},
   "cell_type": "markdown",
   "id": "2ba1ded0",
   "metadata": {
    "papermill": {
     "duration": 0.006911,
     "end_time": "2023-04-13T15:21:06.673195",
     "exception": false,
     "start_time": "2023-04-13T15:21:06.666284",
     "status": "completed"
    },
    "tags": []
   },
   "source": [
    "We can make that quite a bit more condensed:"
   ]
  },
  {
   "cell_type": "code",
   "execution_count": 2,
   "id": "a08d2a1f",
   "metadata": {
    "execution": {
     "iopub.execute_input": "2023-04-13T15:21:06.681737Z",
     "iopub.status.busy": "2023-04-13T15:21:06.681343Z",
     "iopub.status.idle": "2023-04-13T15:21:06.701261Z",
     "shell.execute_reply": "2023-04-13T15:21:06.695237Z"
    },
    "papermill": {
     "duration": 0.031466,
     "end_time": "2023-04-13T15:21:06.708723",
     "exception": false,
     "start_time": "2023-04-13T15:21:06.677257",
     "status": "completed"
    },
    "tags": []
   },
   "outputs": [],
   "source": [
    "from typedspark import transform_to_schema\n",
    "\n",
    "def foo(df_a: DataSet[A], df_b: DataSet[B]) -> DataSet[AB]:\n",
    "    return transform_to_schema(\n",
    "        df_a.join(df_b, A.a == B.f),\n",
    "        AB,\n",
    "        {\n",
    "            AB.a: A.a + 3,\n",
    "            AB.b: A.b + 7,\n",
    "            AB.i: B.i - 5,\n",
    "            AB.j: B.j + 1,\n",
    "        }\n",
    "    )"
   ]
  },
  {
   "attachments": {},
   "cell_type": "markdown",
   "id": "bb3fb301",
   "metadata": {
    "papermill": {
     "duration": 0.001487,
     "end_time": "2023-04-13T15:21:06.714456",
     "exception": false,
     "start_time": "2023-04-13T15:21:06.712969",
     "status": "completed"
    },
    "tags": []
   },
   "source": [
    "This function can also be used to just select the subset of columns used in the schema, simply omit the third argument."
   ]
  },
  {
   "cell_type": "code",
   "execution_count": 3,
   "id": "1e13a30f",
   "metadata": {
    "execution": {
     "iopub.execute_input": "2023-04-13T15:21:06.719154Z",
     "iopub.status.busy": "2023-04-13T15:21:06.718732Z",
     "iopub.status.idle": "2023-04-13T15:21:06.725912Z",
     "shell.execute_reply": "2023-04-13T15:21:06.725146Z"
    },
    "papermill": {
     "duration": 0.012548,
     "end_time": "2023-04-13T15:21:06.728424",
     "exception": false,
     "start_time": "2023-04-13T15:21:06.715876",
     "status": "completed"
    },
    "tags": []
   },
   "outputs": [],
   "source": [
    "class A(Schema):\n",
    "    a: Column[IntegerType]\n",
    "    b: Column[IntegerType]\n",
    "    c: Column[IntegerType]\n",
    "    d: Column[IntegerType]\n",
    "    e: Column[IntegerType]\n",
    "\n",
    "class B(Schema):\n",
    "    a: Column[IntegerType]\n",
    "    b: Column[IntegerType]\n",
    "\n",
    "def foo(df: DataSet[A]) -> DataSet[B]:\n",
    "    return transform_to_schema(df, B)"
   ]
  },
  {
   "attachments": {},
   "cell_type": "markdown",
   "id": "98d00a0f",
   "metadata": {
    "papermill": {
     "duration": 0.003317,
     "end_time": "2023-04-13T15:21:06.735433",
     "exception": false,
     "start_time": "2023-04-13T15:21:06.732116",
     "status": "completed"
    },
    "tags": []
   },
   "source": [
    "The `transformations` dictionary in `transform_to_schema(..., transformations)` requires columns with unique names as keys. The following pattern will throw an exception."
   ]
  },
  {
   "cell_type": "code",
   "execution_count": null,
   "id": "916f8122",
   "metadata": {
    "execution": {
     "iopub.execute_input": "2023-04-13T15:21:06.744348Z",
     "iopub.status.busy": "2023-04-13T15:21:06.743756Z",
     "iopub.status.idle": "2023-04-13T15:21:13.292705Z",
     "shell.execute_reply": "2023-04-13T15:21:13.292307Z"
    },
    "papermill": {
     "duration": 6.55503,
     "end_time": "2023-04-13T15:21:13.293883",
     "exception": false,
     "start_time": "2023-04-13T15:21:06.738853",
     "status": "completed"
    },
    "tags": []
   },
   "outputs": [],
   "source": [
    "from pyspark.sql import SparkSession\n",
    "spark = SparkSession.Builder().getOrCreate()\n",
    "spark.sparkContext.setLogLevel(\"ERROR\")"
   ]
  },
  {
   "cell_type": "code",
   "execution_count": 5,
   "id": "756995ae",
   "metadata": {
    "execution": {
     "iopub.execute_input": "2023-04-13T15:21:13.298209Z",
     "iopub.status.busy": "2023-04-13T15:21:13.298003Z",
     "iopub.status.idle": "2023-04-13T15:21:14.597676Z",
     "shell.execute_reply": "2023-04-13T15:21:14.597350Z"
    },
    "papermill": {
     "duration": 1.302618,
     "end_time": "2023-04-13T15:21:14.598790",
     "exception": false,
     "start_time": "2023-04-13T15:21:13.296172",
     "status": "completed"
    },
    "tags": []
   },
   "outputs": [
    {
     "name": "stdout",
     "output_type": "stream",
     "text": [
      "Cannot convert column into bool: please use '&' for 'and', '|' for 'or', '~' for 'not' when building DataFrame boolean expressions.\n"
     ]
    }
   ],
   "source": [
    "from typedspark import create_partially_filled_dataset\n",
    "\n",
    "df = create_partially_filled_dataset(spark, A, {A.a: [1, 2, 3]})\n",
    "\n",
    "try:\n",
    "    transform_to_schema(\n",
    "        df,\n",
    "        B,\n",
    "        {\n",
    "            B.a: A.a + 3,\n",
    "            B.a: B.a * 2,\n",
    "        }\n",
    "    )\n",
    "except ValueError as e:\n",
    "    print(e)"
   ]
  },
  {
   "attachments": {},
   "cell_type": "markdown",
   "id": "67b9285c",
   "metadata": {
    "papermill": {
     "duration": 0.001309,
     "end_time": "2023-04-13T15:21:14.601775",
     "exception": false,
     "start_time": "2023-04-13T15:21:14.600466",
     "status": "completed"
    },
    "tags": []
   },
   "source": [
    "Instead, use one line per column"
   ]
  },
  {
   "cell_type": "code",
   "execution_count": 6,
   "id": "46c8833f",
   "metadata": {
    "execution": {
     "iopub.execute_input": "2023-04-13T15:21:14.605063Z",
     "iopub.status.busy": "2023-04-13T15:21:14.604910Z",
     "iopub.status.idle": "2023-04-13T15:21:15.529311Z",
     "shell.execute_reply": "2023-04-13T15:21:15.528871Z"
    },
    "papermill": {
     "duration": 0.927715,
     "end_time": "2023-04-13T15:21:15.530740",
     "exception": false,
     "start_time": "2023-04-13T15:21:14.603025",
     "status": "completed"
    },
    "tags": []
   },
   "outputs": [
    {
     "name": "stdout",
     "output_type": "stream",
     "text": [
      "+---+----+\n",
      "|  a|   b|\n",
      "+---+----+\n",
      "|  8|null|\n",
      "| 10|null|\n",
      "| 12|null|\n",
      "+---+----+\n",
      "\n"
     ]
    }
   ],
   "source": [
    "transform_to_schema(\n",
    "    df,\n",
    "    B,\n",
    "    {\n",
    "        B.a: (A.a + 3) * 2,\n",
    "    }\n",
    ").show()"
   ]
  },
  {
   "cell_type": "markdown",
   "id": "6546f023",
   "metadata": {
    "papermill": {
     "duration": 0.001353,
     "end_time": "2023-04-13T15:21:15.548960",
     "exception": false,
     "start_time": "2023-04-13T15:21:15.547607",
     "status": "completed"
    },
    "tags": []
   },
   "source": []
  }
 ],
 "metadata": {
  "kernelspec": {
   "display_name": "typedspark",
   "language": "python",
   "name": "python3"
  },
  "language_info": {
   "codemirror_mode": {
    "name": "ipython",
    "version": 3
   },
   "file_extension": ".py",
   "mimetype": "text/x-python",
   "name": "python",
   "nbconvert_exporter": "python",
   "pygments_lexer": "ipython3",
   "version": "3.9.16"
  },
  "papermill": {
   "default_parameters": {},
   "duration": 10.634813,
   "end_time": "2023-04-13T15:21:16.272981",
   "environment_variables": {},
   "exception": null,
   "input_path": "docs/source/transforming_datasets.ipynb",
   "output_path": "docs/source/transforming_datasets.ipynb",
   "parameters": {},
   "start_time": "2023-04-13T15:21:05.638168",
   "version": "2.4.0"
  }
 },
 "nbformat": 4,
 "nbformat_minor": 5
}

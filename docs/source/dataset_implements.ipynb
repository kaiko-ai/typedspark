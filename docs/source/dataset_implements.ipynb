{
 "cells": [
  {
   "cell_type": "markdown",
   "id": "5a932698",
   "metadata": {},
   "source": [
    "<span style=\"color:red; font-family:Helvetica Neue, Helvetica, Arial, sans-serif; font-size:2em;\">An Exception was encountered at '<a href=\"#papermill-error-cell\">In [5]</a>'.</span>"
   ]
  },
  {
   "cell_type": "markdown",
   "id": "d3c03896",
   "metadata": {},
   "source": [
    "# Transformations for all schemas with a given column using DataSetImplements\n",
    "\n",
    "Let's illustrate this with an example! First, we'll define some data."
   ]
  },
  {
   "cell_type": "code",
   "execution_count": 1,
   "id": "91c48423",
   "metadata": {},
   "outputs": [],
   "source": [
    "from pyspark.sql import SparkSession\n",
    "\n",
    "spark = SparkSession.Builder().config(\"spark.ui.showConsoleProgress\", \"false\").getOrCreate()\n",
    "spark.sparkContext.setLogLevel(\"ERROR\")"
   ]
  },
  {
   "cell_type": "code",
   "execution_count": 2,
   "id": "99c453be",
   "metadata": {},
   "outputs": [],
   "source": [
    "from pyspark.sql.types import LongType, StringType\n",
    "from typedspark import (\n",
    "    Schema,\n",
    "    Column,\n",
    "    create_empty_dataset,\n",
    ")\n",
    "\n",
    "\n",
    "class Person(Schema):\n",
    "    name: Column[StringType]\n",
    "    age: Column[LongType]\n",
    "    job: Column[StringType]\n",
    "\n",
    "\n",
    "class Pet(Schema):\n",
    "    name: Column[StringType]\n",
    "    age: Column[LongType]\n",
    "    type: Column[StringType]\n",
    "\n",
    "\n",
    "class Fruit(Schema):\n",
    "    type: Column[StringType]\n",
    "\n",
    "\n",
    "person = create_empty_dataset(spark, Person)\n",
    "pet = create_empty_dataset(spark, Pet)\n",
    "fruit = create_empty_dataset(spark, Fruit)"
   ]
  },
  {
   "cell_type": "markdown",
   "id": "ca634c83",
   "metadata": {},
   "source": [
    "Now, suppose we want to define a function `birthday()` that works on all schemas that contain the column `age`. With `DataSet`, we'd have to specifically indicate which schemas contain the `age` column. We could do this with for example:"
   ]
  },
  {
   "cell_type": "code",
   "execution_count": 3,
   "id": "c948c8d3",
   "metadata": {},
   "outputs": [],
   "source": [
    "from typing import TypeVar, Union\n",
    "\n",
    "from typedspark import DataSet\n",
    "from typedspark._transforms import transform_to_schema\n",
    "\n",
    "T = TypeVar(\"T\", bound=Union[Person, Pet])\n",
    "\n",
    "\n",
    "def birthday(df: DataSet[T]) -> DataSet[T]:\n",
    "    return transform_to_schema(\n",
    "        df,\n",
    "        df.typedspark_schema,  # type: ignore\n",
    "        {Person.age: Person.age + 1},\n",
    "    )"
   ]
  },
  {
   "cell_type": "markdown",
   "id": "9784804d",
   "metadata": {},
   "source": [
    "This can get tedious if the list of schemas with the column `age` changes, for example because new schemas are added, or because the `age` column is removed from a schema! It's also not great that we're using `Person.age` here to define the `age` column...\n",
    "\n",
    "Fortunately, we can do better! Consider the following example:"
   ]
  },
  {
   "cell_type": "code",
   "execution_count": 4,
   "id": "b2436106",
   "metadata": {},
   "outputs": [],
   "source": [
    "from typing import Protocol\n",
    "\n",
    "from typedspark import DataSetImplements\n",
    "\n",
    "\n",
    "class Age(Schema, Protocol):\n",
    "    age: Column[LongType]\n",
    "\n",
    "\n",
    "T = TypeVar(\"T\", bound=Schema)\n",
    "\n",
    "\n",
    "def birthday(df: DataSetImplements[Age, T]) -> DataSet[T]:\n",
    "    return transform_to_schema(\n",
    "        df,\n",
    "        df.typedspark_schema,  # type: ignore\n",
    "        {Age.age: Age.age + 1},\n",
    "    )\n"
   ]
  },
  {
   "cell_type": "markdown",
   "id": "2088742c",
   "metadata": {},
   "source": [
    "Here, we define `Age` to be both a `Schema` and a `Protocol` ([PEP-0544](https://peps.python.org/pep-0544/)). \n",
    "\n",
    "We then define `birthday()` to:\n",
    "1. Take as an input `DataSetImplements[Age, T]`: a `DataSet` that implements the protocol `Age` as `T`. \n",
    "2. Return a `DataSet[T]`: a `DataSet` of the same type as the one that was provided.\n",
    "\n",
    "Let's see this in action!"
   ]
  },
  {
   "cell_type": "markdown",
   "id": "05b4c2e5",
   "metadata": {},
   "source": [
    "<span id=\"papermill-error-cell\" style=\"color:red; font-family:Helvetica Neue, Helvetica, Arial, sans-serif; font-size:2em;\">Execution using papermill encountered an exception here and stopped:</span>"
   ]
  },
  {
   "cell_type": "code",
   "execution_count": 5,
   "id": "5658210f",
   "metadata": {},
   "outputs": [
    {
     "ename": "TypeError",
     "evalue": "'module' object is not callable",
     "output_type": "error",
     "traceback": [
      "\u001b[0;31m---------------------------------------------------------------------------\u001b[0m",
      "\u001b[0;31mTypeError\u001b[0m                                 Traceback (most recent call last)",
      "Cell \u001b[0;32mIn[5], line 1\u001b[0m\n\u001b[0;32m----> 1\u001b[0m happy_person \u001b[38;5;241m=\u001b[39m \u001b[43mbirthday\u001b[49m\u001b[43m(\u001b[49m\u001b[43mperson\u001b[49m\u001b[43m)\u001b[49m  \u001b[38;5;66;03m# returns a DataSet[Person]\u001b[39;00m\n\u001b[1;32m      2\u001b[0m happy_pet \u001b[38;5;241m=\u001b[39m birthday(pet)  \u001b[38;5;66;03m# returns a DataSet[Pet]\u001b[39;00m\n\u001b[1;32m      3\u001b[0m \u001b[38;5;28;01mtry\u001b[39;00m:\n\u001b[1;32m      4\u001b[0m     \u001b[38;5;66;03m# Raises a linting error:\u001b[39;00m\n\u001b[1;32m      5\u001b[0m     \u001b[38;5;66;03m# Argument of type \"DataSet[Fruit]\" cannot be assigned to\u001b[39;00m\n\u001b[1;32m      6\u001b[0m     \u001b[38;5;66;03m# parameter \"df\" of type \"DataSetImplements[Age, T@birthday]\"\u001b[39;00m\n",
      "Cell \u001b[0;32mIn[4], line 14\u001b[0m, in \u001b[0;36mbirthday\u001b[0;34m(df)\u001b[0m\n\u001b[1;32m     13\u001b[0m \u001b[38;5;28;01mdef\u001b[39;00m \u001b[38;5;21mbirthday\u001b[39m(df: DataSetImplements[Age, T]) \u001b[38;5;241m-\u001b[39m\u001b[38;5;241m>\u001b[39m DataSet[T]:\n\u001b[0;32m---> 14\u001b[0m     \u001b[38;5;28;01mreturn\u001b[39;00m \u001b[43mtransform_to_schema\u001b[49m\u001b[43m(\u001b[49m\n\u001b[1;32m     15\u001b[0m \u001b[43m        \u001b[49m\u001b[43mdf\u001b[49m\u001b[43m,\u001b[49m\n\u001b[1;32m     16\u001b[0m \u001b[43m        \u001b[49m\u001b[43mdf\u001b[49m\u001b[38;5;241;43m.\u001b[39;49m\u001b[43mtypedspark_schema\u001b[49m\u001b[43m,\u001b[49m\u001b[43m  \u001b[49m\u001b[38;5;66;43;03m# type: ignore\u001b[39;49;00m\n\u001b[1;32m     17\u001b[0m \u001b[43m        \u001b[49m\u001b[43m{\u001b[49m\u001b[43mAge\u001b[49m\u001b[38;5;241;43m.\u001b[39;49m\u001b[43mage\u001b[49m\u001b[43m:\u001b[49m\u001b[43m \u001b[49m\u001b[43mAge\u001b[49m\u001b[38;5;241;43m.\u001b[39;49m\u001b[43mage\u001b[49m\u001b[43m \u001b[49m\u001b[38;5;241;43m+\u001b[39;49m\u001b[43m \u001b[49m\u001b[38;5;241;43m1\u001b[39;49m\u001b[43m}\u001b[49m\u001b[43m,\u001b[49m\n\u001b[1;32m     18\u001b[0m \u001b[43m    \u001b[49m\u001b[43m)\u001b[49m\n",
      "\u001b[0;31mTypeError\u001b[0m: 'module' object is not callable"
     ]
    }
   ],
   "source": [
    "happy_person = birthday(person)  # returns a DataSet[Person]\n",
    "happy_pet = birthday(pet)  # returns a DataSet[Pet]\n",
    "try:\n",
    "    # Raises a linting error:\n",
    "    # Argument of type \"DataSet[Fruit]\" cannot be assigned to\n",
    "    # parameter \"df\" of type \"DataSetImplements[Age, T@birthday]\"\n",
    "    birthday(fruit)\n",
    "except Exception as e:\n",
    "    pass"
   ]
  },
  {
   "cell_type": "code",
   "execution_count": null,
   "id": "f48d8f46",
   "metadata": {},
   "outputs": [],
   "source": []
  }
 ],
 "metadata": {
  "kernelspec": {
   "display_name": "typedspark",
   "language": "python",
   "name": "python3"
  },
  "language_info": {
   "codemirror_mode": {
    "name": "ipython",
    "version": 3
   },
   "file_extension": ".py",
   "mimetype": "text/x-python",
   "name": "python",
   "nbconvert_exporter": "python",
   "pygments_lexer": "ipython3",
   "version": "3.11.2"
  }
 },
 "nbformat": 4,
 "nbformat_minor": 5
}

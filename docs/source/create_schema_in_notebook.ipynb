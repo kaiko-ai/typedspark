{
 "cells": [
  {
   "attachments": {},
   "cell_type": "markdown",
   "id": "a006aaea",
   "metadata": {},
   "source": [
    "# Dynamically generate schemas from an existing DataFrame \n",
    "\n",
    "Besides loading a `DataSet` from an existing table, we also provide `create_schema()`, which generates a `Schema` from a `DataFrame` that you have in memory. This allows you to get autocomplete on `DataSets` that you create on-the-fly. A great example is a pivot table."
   ]
  },
  {
   "cell_type": "code",
   "execution_count": 1,
   "id": "5442cec0",
   "metadata": {},
   "outputs": [],
   "source": [
    "from pyspark.sql import SparkSession\n",
    "\n",
    "spark = SparkSession.Builder().config(\"spark.ui.showConsoleProgress\", \"false\").getOrCreate()\n",
    "spark.sparkContext.setLogLevel(\"ERROR\")"
   ]
  },
  {
   "cell_type": "code",
   "execution_count": 2,
   "id": "0df943fb",
   "metadata": {},
   "outputs": [
    {
     "data": {
      "text/plain": [
       "\n",
       "from pyspark.sql.types import IntegerType, StringType\n",
       "\n",
       "from typedspark import Column, Schema\n",
       "\n",
       "\n",
       "class PivotTable(Schema):\n",
       "    id: Column[IntegerType]\n",
       "    a: Column[StringType]\n",
       "    b__: Column[StringType]\n",
       "    c: Column[StringType]"
      ]
     },
     "execution_count": 2,
     "metadata": {},
     "output_type": "execute_result"
    }
   ],
   "source": [
    "from datetime import timedelta, datetime\n",
    "from pyspark.sql.functions import first\n",
    "from pyspark.sql.types import LongType, StringType\n",
    "from typedspark import Column, Schema, create_partially_filled_dataset, create_schema\n",
    "\n",
    "spark = SparkSession.builder.getOrCreate()\n",
    "date = datetime(2023, 10, 2)\n",
    "\n",
    "\n",
    "class Vaccinations(Schema):\n",
    "    vaccination_id: Column[LongType]\n",
    "    pet_id: Column[LongType]\n",
    "    vaccine_name: Column[StringType]\n",
    "    vaccine_date: Column[DateType]\n",
    "    next_due_date: Column[DateType]\n",
    "\n",
    "\n",
    "vaccinations = create_partially_filled_dataset(\n",
    "    spark,\n",
    "    Vaccinations,\n",
    "    {\n",
    "        Vaccinations.vaccination_id: [1, 2, 3, 4, 5, 6, 7],\n",
    "        Vaccinations.pet_id: [1, 2, 3, 1, 3, 2, 3],\n",
    "        Vaccinations.vaccine_name: [\n",
    "            \"rabies\",\n",
    "            \"rabies\",\n",
    "            \"rabies\",\n",
    "            \"lyme\",\n",
    "            \"lyme\",\n",
    "            \"influenza\",\n",
    "            \"influenza\",\n",
    "        ],\n",
    "        Vaccinations.next_due_date: [\n",
    "            date + timedelta(days=32),\n",
    "            date + timedelta(days=6),\n",
    "            date + timedelta(days=12),\n",
    "            date + timedelta(days=15),\n",
    "            date + timedelta(days=2),\n",
    "            date + timedelta(days=1),\n",
    "            date + timedelta(days=3),\n",
    "        ],\n",
    "        Vaccinations.vaccine_date: [\n",
    "            date + timedelta(days=32) - timedelta(days=365),\n",
    "            date + timedelta(days=6) - timedelta(days=365),\n",
    "            date + timedelta(days=12) - timedelta(days=365),\n",
    "            date + timedelta(days=15) - timedelta(days=365),\n",
    "            date + timedelta(days=2) - timedelta(days=365),\n",
    "            date + timedelta(days=1) - timedelta(days=365),\n",
    "            date + timedelta(days=3) - timedelta(days=365),\n",
    "        ],\n",
    "    },\n",
    ")\n",
    "vaccinations.show()"
   ]
  },
  {
   "attachments": {},
   "cell_type": "markdown",
   "id": "10524400",
   "metadata": {},
   "source": [
    "We can use this as a regular `Schema`:"
   ]
  },
  {
   "cell_type": "code",
   "execution_count": null,
   "id": "f29d8015",
   "metadata": {},
   "outputs": [],
   "source": [
    "pivot = (\n",
    "    vaccinations.groupby(Vaccinations.pet_id)\n",
    "    .pivot(Vaccinations.vaccine_name.str)\n",
    "    .agg(first(Vaccinations.next_due_date))\n",
    ")\n",
    "\n",
    "pivot, Pivot = create_schema(pivot)\n",
    "pivot.show()"
   ]
  },
  {
   "cell_type": "code",
   "execution_count": null,
   "id": "974459f3",
   "metadata": {},
   "outputs": [],
   "source": [
    "Pivot"
   ]
  },
  {
   "cell_type": "code",
   "execution_count": 3,
   "id": "b6c659c6",
   "metadata": {},
   "outputs": [
    {
     "name": "stdout",
     "output_type": "stream",
     "text": [
      "+---+-----+-----+-----+\n",
      "| id|    a|  b__|    c|\n",
      "+---+-----+-----+-----+\n",
      "|  1|alpha|alpha| beta|\n",
      "|  3|alpha| beta|gamma|\n",
      "+---+-----+-----+-----+\n",
      "\n"
     ]
    }
   ],
   "source": [
    "pivot.filter(Pivot.influenza.isNotNull()).show()"
   ]
  },
  {
   "attachments": {},
   "cell_type": "markdown",
   "id": "18ea295c",
   "metadata": {},
   "source": []
  }
 ],
 "metadata": {
  "kernelspec": {
   "display_name": "typedspark",
   "language": "python",
   "name": "python3"
  },
  "language_info": {
   "codemirror_mode": {
    "name": "ipython",
    "version": 3
   },
   "file_extension": ".py",
   "mimetype": "text/x-python",
   "name": "python",
   "nbconvert_exporter": "python",
   "pygments_lexer": "ipython3",
   "version": "3.11.2"
  }
 },
 "nbformat": 4,
 "nbformat_minor": 5
}

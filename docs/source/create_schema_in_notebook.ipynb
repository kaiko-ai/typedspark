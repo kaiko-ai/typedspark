{
 "cells": [
  {
   "attachments": {},
   "cell_type": "markdown",
   "id": "a006aaea",
   "metadata": {},
   "source": [
    "# Dynamically generate schemas from an existing DataFrame \n",
    "\n",
    "Besides `load_table()`, which generates a `Schema` from an existing table, we also provide `create_schema()`, which generates a `Schema` from a `DataFrame` that you have in memory. This allows you to get autocomplete on `DataSets` that you create on-the-fly. A great example is a pivot table."
   ]
  },
  {
   "cell_type": "code",
   "execution_count": 1,
   "id": "5442cec0",
   "metadata": {},
   "outputs": [],
   "source": [
    "from pyspark.sql import SparkSession\n",
    "spark = SparkSession.Builder().config(\"spark.ui.showConsoleProgress\", \"false\").getOrCreate()\n",
    "spark.sparkContext.setLogLevel(\"ERROR\")"
   ]
  },
  {
   "cell_type": "code",
   "execution_count": 2,
   "id": "0df943fb",
   "metadata": {},
   "outputs": [
    {
     "data": {
      "text/plain": [
       "\n",
       "from pyspark.sql.types import IntegerType, StringType\n",
       "\n",
       "from typedspark import Column, Schema\n",
       "\n",
       "\n",
       "class PivotTable(Schema):\n",
       "    id: Column[IntegerType]\n",
       "    a: Column[StringType]\n",
       "    b__: Column[StringType]\n",
       "    c: Column[StringType]"
      ]
     },
     "execution_count": 2,
     "metadata": {},
     "output_type": "execute_result"
    }
   ],
   "source": [
    "from pyspark.sql.functions import first\n",
    "from pyspark.sql.types import IntegerType, StringType\n",
    "from typedspark import Column, Schema, create_partially_filled_dataset, create_schema\n",
    "\n",
    "spark = SparkSession.builder.getOrCreate()\n",
    "\n",
    "class A(Schema):\n",
    "    id: Column[IntegerType]\n",
    "    key: Column[StringType]\n",
    "    value: Column[StringType]\n",
    "\n",
    "pivot_table = (\n",
    "    create_partially_filled_dataset(\n",
    "        spark, \n",
    "        A, \n",
    "        {\n",
    "            A.id: [1, 1, 1, 2, 2, 2, 3, 3, 3],\n",
    "            A.key: [\"a\", \"b!!\", \"c\", \"a\", \"b!!\", \"c\", \"a\", \"b!!\", \"c\"], \n",
    "            A.value: [\"alpha\", \"alpha\", \"beta\", \"beta\", \"gamma\", \"gamma\", \"alpha\", \"beta\", \"gamma\"]\n",
    "        }\n",
    "    )\n",
    "    .groupby(A.id)\n",
    "    .pivot(A.key.str)\n",
    "    .agg(first(A.value))\n",
    ")\n",
    "\n",
    "pivot_table, PivotTable = create_schema(pivot_table, \"PivotTable\")\n",
    "PivotTable"
   ]
  },
  {
   "attachments": {},
   "cell_type": "markdown",
   "id": "10524400",
   "metadata": {},
   "source": [
    "We can use this as a regular `Schema`:"
   ]
  },
  {
   "cell_type": "code",
   "execution_count": 3,
   "id": "b6c659c6",
   "metadata": {},
   "outputs": [
    {
     "name": "stdout",
     "output_type": "stream",
     "text": [
      "+---+-----+-----+-----+\n",
      "| id|    a|  b__|    c|\n",
      "+---+-----+-----+-----+\n",
      "|  1|alpha|alpha| beta|\n",
      "|  3|alpha| beta|gamma|\n",
      "+---+-----+-----+-----+\n",
      "\n"
     ]
    }
   ],
   "source": [
    "(\n",
    "    pivot_table\n",
    "    .filter(PivotTable.a == \"alpha\")\n",
    "    .show()\n",
    ")"
   ]
  },
  {
   "attachments": {},
   "cell_type": "markdown",
   "id": "18ea295c",
   "metadata": {},
   "source": []
  }
 ],
 "metadata": {
  "kernelspec": {
   "display_name": "typedspark",
   "language": "python",
   "name": "python3"
  },
  "language_info": {
   "codemirror_mode": {
    "name": "ipython",
    "version": 3
   },
   "file_extension": ".py",
   "mimetype": "text/x-python",
   "name": "python",
   "nbconvert_exporter": "python",
   "pygments_lexer": "ipython3",
   "version": "3.11.2"
  }
 },
 "nbformat": 4,
 "nbformat_minor": 5
}

{
 "cells": [
  {
   "attachments": {},
   "cell_type": "markdown",
   "id": "913f374b",
   "metadata": {
    "papermill": {
     "duration": 0.006632,
     "end_time": "2023-04-17T15:10:43.796516",
     "exception": false,
     "start_time": "2023-04-17T15:10:43.789884",
     "status": "completed"
    },
    "tags": []
   },
   "source": [
    "# Adding StructType columns\n",
    "\n",
    "You can use the following syntax to add `StructType` columns."
   ]
  },
  {
   "cell_type": "code",
   "execution_count": null,
   "id": "11cb3442",
   "metadata": {
    "execution": {
     "iopub.execute_input": "2023-04-17T15:10:43.806640Z",
     "iopub.status.busy": "2023-04-17T15:10:43.806235Z",
     "iopub.status.idle": "2023-04-17T15:10:50.380124Z",
     "shell.execute_reply": "2023-04-17T15:10:50.379809Z"
    },
    "papermill": {
     "duration": 6.580195,
     "end_time": "2023-04-17T15:10:50.381189",
     "exception": false,
     "start_time": "2023-04-17T15:10:43.800994",
     "status": "completed"
    },
    "tags": []
   },
   "outputs": [],
   "source": [
    "from pyspark.sql import SparkSession\n",
    "spark = SparkSession.Builder().config(\"spark.ui.showConsoleProgress\", \"false\").getOrCreate()\n",
    "spark.sparkContext.setLogLevel(\"ERROR\")"
   ]
  },
  {
   "cell_type": "code",
   "execution_count": 2,
   "id": "3e0bac9d",
   "metadata": {
    "execution": {
     "iopub.execute_input": "2023-04-17T15:10:50.384267Z",
     "iopub.status.busy": "2023-04-17T15:10:50.384113Z",
     "iopub.status.idle": "2023-04-17T15:10:52.825418Z",
     "shell.execute_reply": "2023-04-17T15:10:52.825139Z"
    },
    "papermill": {
     "duration": 2.443976,
     "end_time": "2023-04-17T15:10:52.826549",
     "exception": false,
     "start_time": "2023-04-17T15:10:50.382573",
     "status": "completed"
    },
    "tags": []
   },
   "outputs": [
    {
     "name": "stdout",
     "output_type": "stream",
     "text": [
      "+------+\n",
      "|values|\n",
      "+------+\n",
      "|{1, 2}|\n",
      "|{2, 3}|\n",
      "|{3, 4}|\n",
      "+------+\n",
      "\n"
     ]
    }
   ],
   "source": [
    "from typedspark import Schema, Column, StructType, transform_to_schema, structtype_column, create_partially_filled_dataset\n",
    "from pyspark.sql.types import IntegerType\n",
    "\n",
    "class Input(Schema):\n",
    "    a: Column[IntegerType]\n",
    "    b: Column[IntegerType]\n",
    "\n",
    "class Values(Schema):\n",
    "    a: Column[IntegerType]\n",
    "    b: Column[IntegerType]\n",
    "\n",
    "class Output(Schema):\n",
    "    values: Column[StructType[Values]]\n",
    "\n",
    "df = create_partially_filled_dataset(\n",
    "    spark, \n",
    "    Input, \n",
    "    {\n",
    "        Input.a: [1, 2, 3], \n",
    "        Input.b: [2, 3, 4],\n",
    "    }\n",
    ")\n",
    "\n",
    "transform_to_schema(\n",
    "    df,\n",
    "    Output,\n",
    "    {\n",
    "        Output.values: structtype_column(\n",
    "            Values,\n",
    "            {\n",
    "                Values.a: Input.a,\n",
    "                Values.b: Input.b,\n",
    "            }\n",
    "        )\n",
    "    }\n",
    ").show()"
   ]
  },
  {
   "attachments": {},
   "cell_type": "markdown",
   "id": "0bcea41d",
   "metadata": {
    "papermill": {
     "duration": 0.00099,
     "end_time": "2023-04-17T15:10:52.828898",
     "exception": false,
     "start_time": "2023-04-17T15:10:52.827908",
     "status": "completed"
    },
    "tags": []
   },
   "source": [
    "Just like in `transform_to_schema()`, the `transformations` dictionary in `structtype_column(..., transformations)` requires columns with unique names as keys."
   ]
  },
  {
   "cell_type": "code",
   "execution_count": 3,
   "id": "9c070a24",
   "metadata": {
    "execution": {
     "iopub.execute_input": "2023-04-17T15:10:52.831355Z",
     "iopub.status.busy": "2023-04-17T15:10:52.831216Z",
     "iopub.status.idle": "2023-04-17T15:10:52.850190Z",
     "shell.execute_reply": "2023-04-17T15:10:52.849924Z"
    },
    "papermill": {
     "duration": 0.02124,
     "end_time": "2023-04-17T15:10:52.851013",
     "exception": false,
     "start_time": "2023-04-17T15:10:52.829773",
     "status": "completed"
    },
    "tags": []
   },
   "outputs": [
    {
     "name": "stdout",
     "output_type": "stream",
     "text": [
      "Cannot convert column into bool: please use '&' for 'and', '|' for 'or', '~' for 'not' when building DataFrame boolean expressions.\n"
     ]
    }
   ],
   "source": [
    "try:\n",
    "    transform_to_schema(\n",
    "        df,\n",
    "        Output,\n",
    "        {\n",
    "            Output.values: structtype_column(\n",
    "                Values,\n",
    "                {\n",
    "                    Values.a: Input.a + 2,\n",
    "                    Values.a: Values.a * 3,\n",
    "                    Values.b: Input.b,\n",
    "                }\n",
    "            )\n",
    "        }\n",
    "    )\n",
    "except ValueError as e:\n",
    "    print(e)"
   ]
  },
  {
   "attachments": {},
   "cell_type": "markdown",
   "id": "10b43a86",
   "metadata": {
    "papermill": {
     "duration": 0.000967,
     "end_time": "2023-04-17T15:10:52.853223",
     "exception": false,
     "start_time": "2023-04-17T15:10:52.852256",
     "status": "completed"
    },
    "tags": []
   },
   "source": [
    "Instead, combine these into a single line:"
   ]
  },
  {
   "cell_type": "code",
   "execution_count": 4,
   "id": "b88b95b0",
   "metadata": {
    "execution": {
     "iopub.execute_input": "2023-04-17T15:10:52.855754Z",
     "iopub.status.busy": "2023-04-17T15:10:52.855575Z",
     "iopub.status.idle": "2023-04-17T15:10:53.094497Z",
     "shell.execute_reply": "2023-04-17T15:10:53.094212Z"
    },
    "papermill": {
     "duration": 0.241096,
     "end_time": "2023-04-17T15:10:53.095332",
     "exception": false,
     "start_time": "2023-04-17T15:10:52.854236",
     "status": "completed"
    },
    "tags": []
   },
   "outputs": [
    {
     "name": "stdout",
     "output_type": "stream",
     "text": [
      "+-------+\n",
      "| values|\n",
      "+-------+\n",
      "| {9, 2}|\n",
      "|{12, 3}|\n",
      "|{15, 4}|\n",
      "+-------+\n",
      "\n"
     ]
    }
   ],
   "source": [
    "transform_to_schema(\n",
    "    df,\n",
    "    Output,\n",
    "    {\n",
    "        Output.values: structtype_column(\n",
    "            Values,\n",
    "            {\n",
    "                Values.a: (Input.a + 2) * 3,\n",
    "                Values.b: Input.b,\n",
    "            }\n",
    "        )\n",
    "    }\n",
    ").show()\n"
   ]
  },
  {
   "cell_type": "markdown",
   "id": "acee3a29",
   "metadata": {
    "papermill": {
     "duration": 0.001016,
     "end_time": "2023-04-17T15:10:53.097685",
     "exception": false,
     "start_time": "2023-04-17T15:10:53.096669",
     "status": "completed"
    },
    "tags": []
   },
   "source": []
  }
 ],
 "metadata": {
  "kernelspec": {
   "display_name": "typedspark",
   "language": "python",
   "name": "python3"
  },
  "language_info": {
   "codemirror_mode": {
    "name": "ipython",
    "version": 3
   },
   "file_extension": ".py",
   "mimetype": "text/x-python",
   "name": "python",
   "nbconvert_exporter": "python",
   "pygments_lexer": "ipython3",
   "version": "3.11.2"
  },
  "papermill": {
   "default_parameters": {},
   "duration": 10.934442,
   "end_time": "2023-04-17T15:10:53.830839",
   "environment_variables": {},
   "exception": null,
   "input_path": "docs/source/structtype_columns.ipynb",
   "output_path": "docs/source/structtype_columns.ipynb",
   "parameters": {},
   "start_time": "2023-04-17T15:10:42.896397",
   "version": "2.4.0"
  }
 },
 "nbformat": 4,
 "nbformat_minor": 5
}

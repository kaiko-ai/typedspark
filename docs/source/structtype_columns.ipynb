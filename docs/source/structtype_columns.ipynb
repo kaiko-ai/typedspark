{
 "cells": [
  {
   "attachments": {},
   "cell_type": "markdown",
   "id": "913f374b",
   "metadata": {
    "papermill": {
     "duration": 0.006831,
     "end_time": "2023-04-13T15:20:54.156848",
     "exception": false,
     "start_time": "2023-04-13T15:20:54.150017",
     "status": "completed"
    },
    "tags": []
   },
   "source": [
    "# Adding StructType columns\n",
    "\n",
    "You can use the following syntax to add `StructType` columns."
   ]
  },
  {
   "cell_type": "code",
   "execution_count": null,
   "id": "11cb3442",
   "metadata": {
    "execution": {
     "iopub.execute_input": "2023-04-13T15:20:54.172343Z",
     "iopub.status.busy": "2023-04-13T15:20:54.171875Z",
     "iopub.status.idle": "2023-04-13T15:21:00.810349Z",
     "shell.execute_reply": "2023-04-13T15:21:00.809963Z"
    },
    "papermill": {
     "duration": 6.647458,
     "end_time": "2023-04-13T15:21:00.811631",
     "exception": false,
     "start_time": "2023-04-13T15:20:54.164173",
     "status": "completed"
    },
    "tags": []
   },
   "outputs": [],
   "source": [
    "from pyspark.sql import SparkSession\n",
    "spark = SparkSession.Builder().getOrCreate()\n",
    "spark.sparkContext.setLogLevel(\"ERROR\")"
   ]
  },
  {
   "cell_type": "code",
   "execution_count": 2,
   "id": "3e0bac9d",
   "metadata": {
    "execution": {
     "iopub.execute_input": "2023-04-13T15:21:00.814831Z",
     "iopub.status.busy": "2023-04-13T15:21:00.814641Z",
     "iopub.status.idle": "2023-04-13T15:21:03.010319Z",
     "shell.execute_reply": "2023-04-13T15:21:03.009924Z"
    },
    "papermill": {
     "duration": 2.198578,
     "end_time": "2023-04-13T15:21:03.011595",
     "exception": false,
     "start_time": "2023-04-13T15:21:00.813017",
     "status": "completed"
    },
    "tags": []
   },
   "outputs": [
    {
     "name": "stdout",
     "output_type": "stream",
     "text": [
      "+------+\n",
      "|values|\n",
      "+------+\n",
      "|{1, 2}|\n",
      "|{2, 3}|\n",
      "|{3, 4}|\n",
      "+------+\n",
      "\n"
     ]
    }
   ],
   "source": [
    "from typedspark import Schema, Column, StructType, transform_to_schema, structtype_column, create_partially_filled_dataset\n",
    "from pyspark.sql.types import IntegerType\n",
    "\n",
    "class Input(Schema):\n",
    "    a: Column[IntegerType]\n",
    "    b: Column[IntegerType]\n",
    "\n",
    "class Values(Schema):\n",
    "    a: Column[IntegerType]\n",
    "    b: Column[IntegerType]\n",
    "\n",
    "class Output(Schema):\n",
    "    values: Column[StructType[Values]]\n",
    "\n",
    "df = create_partially_filled_dataset(\n",
    "    spark, \n",
    "    Input, \n",
    "    {\n",
    "        Input.a: [1, 2, 3], \n",
    "        Input.b: [2, 3, 4],\n",
    "    }\n",
    ")\n",
    "\n",
    "transform_to_schema(\n",
    "    df,\n",
    "    Output,\n",
    "    {\n",
    "        Output.values: structtype_column(\n",
    "            Values,\n",
    "            {\n",
    "                Values.a: Input.a,\n",
    "                Values.b: Input.b,\n",
    "            }\n",
    "        )\n",
    "    }\n",
    ").show()"
   ]
  },
  {
   "attachments": {},
   "cell_type": "markdown",
   "id": "0bcea41d",
   "metadata": {
    "papermill": {
     "duration": 0.001034,
     "end_time": "2023-04-13T15:21:03.014097",
     "exception": false,
     "start_time": "2023-04-13T15:21:03.013063",
     "status": "completed"
    },
    "tags": []
   },
   "source": [
    "Just like in `transform_to_schema()`, the `transformations` dictionary in `structtype_column(..., transformations)` requires columns with unique names as keys."
   ]
  },
  {
   "cell_type": "code",
   "execution_count": 3,
   "id": "9c070a24",
   "metadata": {
    "execution": {
     "iopub.execute_input": "2023-04-13T15:21:03.016955Z",
     "iopub.status.busy": "2023-04-13T15:21:03.016806Z",
     "iopub.status.idle": "2023-04-13T15:21:03.041522Z",
     "shell.execute_reply": "2023-04-13T15:21:03.041165Z"
    },
    "papermill": {
     "duration": 0.027532,
     "end_time": "2023-04-13T15:21:03.042612",
     "exception": false,
     "start_time": "2023-04-13T15:21:03.015080",
     "status": "completed"
    },
    "tags": []
   },
   "outputs": [
    {
     "name": "stdout",
     "output_type": "stream",
     "text": [
      "Cannot convert column into bool: please use '&' for 'and', '|' for 'or', '~' for 'not' when building DataFrame boolean expressions.\n"
     ]
    }
   ],
   "source": [
    "try:\n",
    "    transform_to_schema(\n",
    "        df,\n",
    "        Output,\n",
    "        {\n",
    "            Output.values: structtype_column(\n",
    "                Values,\n",
    "                {\n",
    "                    Values.a: Input.a + 2,\n",
    "                    Values.a: Values.a * 3,\n",
    "                    Values.b: Input.b,\n",
    "                }\n",
    "            )\n",
    "        }\n",
    "    )\n",
    "except ValueError as e:\n",
    "    print(e)"
   ]
  },
  {
   "attachments": {},
   "cell_type": "markdown",
   "id": "10b43a86",
   "metadata": {
    "papermill": {
     "duration": 0.001144,
     "end_time": "2023-04-13T15:21:03.045047",
     "exception": false,
     "start_time": "2023-04-13T15:21:03.043903",
     "status": "completed"
    },
    "tags": []
   },
   "source": [
    "Instead, combine these into a single line:"
   ]
  },
  {
   "cell_type": "code",
   "execution_count": 4,
   "id": "b88b95b0",
   "metadata": {
    "execution": {
     "iopub.execute_input": "2023-04-13T15:21:03.048185Z",
     "iopub.status.busy": "2023-04-13T15:21:03.048013Z",
     "iopub.status.idle": "2023-04-13T15:21:03.165840Z",
     "shell.execute_reply": "2023-04-13T15:21:03.165452Z"
    },
    "papermill": {
     "duration": 0.120962,
     "end_time": "2023-04-13T15:21:03.167082",
     "exception": false,
     "start_time": "2023-04-13T15:21:03.046120",
     "status": "completed"
    },
    "tags": []
   },
   "outputs": [
    {
     "name": "stdout",
     "output_type": "stream",
     "text": [
      "+-------+\n",
      "| values|\n",
      "+-------+\n",
      "| {9, 2}|\n",
      "|{12, 3}|\n",
      "|{15, 4}|\n",
      "+-------+\n",
      "\n"
     ]
    }
   ],
   "source": [
    "transform_to_schema(\n",
    "    df,\n",
    "    Output,\n",
    "    {\n",
    "        Output.values: structtype_column(\n",
    "            Values,\n",
    "            {\n",
    "                Values.a: (Input.a + 2) * 3,\n",
    "                Values.b: Input.b,\n",
    "            }\n",
    "        )\n",
    "    }\n",
    ").show()\n"
   ]
  },
  {
   "cell_type": "markdown",
   "id": "acee3a29",
   "metadata": {
    "papermill": {
     "duration": 0.001104,
     "end_time": "2023-04-13T15:21:03.169645",
     "exception": false,
     "start_time": "2023-04-13T15:21:03.168541",
     "status": "completed"
    },
    "tags": []
   },
   "source": []
  }
 ],
 "metadata": {
  "kernelspec": {
   "display_name": "typedspark",
   "language": "python",
   "name": "python3"
  },
  "language_info": {
   "codemirror_mode": {
    "name": "ipython",
    "version": 3
   },
   "file_extension": ".py",
   "mimetype": "text/x-python",
   "name": "python",
   "nbconvert_exporter": "python",
   "pygments_lexer": "ipython3",
   "version": "3.9.16"
  },
  "papermill": {
   "default_parameters": {},
   "duration": 10.546448,
   "end_time": "2023-04-13T15:21:03.792724",
   "environment_variables": {},
   "exception": null,
   "input_path": "docs/source/structtype_columns.ipynb",
   "output_path": "docs/source/structtype_columns.ipynb",
   "parameters": {},
   "start_time": "2023-04-13T15:20:53.246276",
   "version": "2.4.0"
  }
 },
 "nbformat": 4,
 "nbformat_minor": 5
}

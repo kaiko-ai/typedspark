{
 "cells": [
  {
   "attachments": {},
   "cell_type": "markdown",
   "id": "011002f2",
   "metadata": {
    "papermill": {
     "duration": 0.008318,
     "end_time": "2023-04-17T15:10:42.197464",
     "exception": false,
     "start_time": "2023-04-17T15:10:42.189146",
     "status": "completed"
    },
    "tags": []
   },
   "source": [
    "# Auto-complete & easier refactoring using schema attributes \n",
    "Schemas allow us to replaces the numerous strings throughout the code by schema attributes. Consider the following example:"
   ]
  },
  {
   "cell_type": "code",
   "execution_count": 1,
   "id": "6379b38b",
   "metadata": {
    "execution": {
     "iopub.execute_input": "2023-04-17T15:10:42.206992Z",
     "iopub.status.busy": "2023-04-17T15:10:42.206640Z",
     "iopub.status.idle": "2023-04-17T15:10:42.322804Z",
     "shell.execute_reply": "2023-04-17T15:10:42.322016Z"
    },
    "papermill": {
     "duration": 0.124042,
     "end_time": "2023-04-17T15:10:42.325715",
     "exception": false,
     "start_time": "2023-04-17T15:10:42.201673",
     "status": "completed"
    },
    "tags": []
   },
   "outputs": [],
   "source": [
    "from typedspark import Column, DataSet, Schema\n",
    "from pyspark.sql.types import LongType, StringType\n",
    "from pyspark.sql.functions import col\n",
    "\n",
    "class Person(Schema):\n",
    "    id: Column[LongType]\n",
    "    name: Column[StringType]\n",
    "    age: Column[LongType]\n",
    "\n",
    "def birthday(df: DataSet[Person]) -> DataSet[Person]:\n",
    "    return DataSet[Person](\n",
    "        df.withColumn(\"age\", col(\"age\") + 1)\n",
    "    )"
   ]
  },
  {
   "attachments": {},
   "cell_type": "markdown",
   "id": "a03a164a",
   "metadata": {
    "papermill": {
     "duration": 0.002122,
     "end_time": "2023-04-17T15:10:42.330745",
     "exception": false,
     "start_time": "2023-04-17T15:10:42.328623",
     "status": "completed"
    },
    "tags": []
   },
   "source": [
    "We can replace this with:"
   ]
  },
  {
   "cell_type": "code",
   "execution_count": 2,
   "id": "1e6fa606",
   "metadata": {
    "execution": {
     "iopub.execute_input": "2023-04-17T15:10:42.336519Z",
     "iopub.status.busy": "2023-04-17T15:10:42.336140Z",
     "iopub.status.idle": "2023-04-17T15:10:42.341981Z",
     "shell.execute_reply": "2023-04-17T15:10:42.341284Z"
    },
    "papermill": {
     "duration": 0.0116,
     "end_time": "2023-04-17T15:10:42.344396",
     "exception": false,
     "start_time": "2023-04-17T15:10:42.332796",
     "status": "completed"
    },
    "tags": []
   },
   "outputs": [],
   "source": [
    "def birthday(df: DataSet[Person]) -> DataSet[Person]:\n",
    "    return DataSet[Person](\n",
    "        df.withColumn(Person.age.str, Person.age + 1)\n",
    "    )"
   ]
  },
  {
   "attachments": {},
   "cell_type": "markdown",
   "id": "4232e8ce",
   "metadata": {
    "papermill": {
     "duration": 0.002038,
     "end_time": "2023-04-17T15:10:42.348694",
     "exception": false,
     "start_time": "2023-04-17T15:10:42.346656",
     "status": "completed"
    },
    "tags": []
   },
   "source": [
    "Which allows:\n",
    "\n",
    "* Autocomplete of column names during coding\n",
    "* Easy refactoring of column names\n",
    "\n",
    "Note that we have two options when using schema attributes:\n",
    "\n",
    "* `Person.age`, which is similar to a Spark `Column` object (i.e. `col(\"age\")`)\n",
    "* `Person.age.str`, which is just the column name (i.e. `\"age\"`)\n",
    "\n",
    "It is usually fairly obvious which one to use. For instance, in the above example, `withColumn()` expects a string as the first argument and a `Column` object as the second argument."
   ]
  },
  {
   "cell_type": "markdown",
   "id": "4a56cffb",
   "metadata": {
    "papermill": {
     "duration": 0.001914,
     "end_time": "2023-04-17T15:10:42.352691",
     "exception": false,
     "start_time": "2023-04-17T15:10:42.350777",
     "status": "completed"
    },
    "tags": []
   },
   "source": []
  }
 ],
 "metadata": {
  "kernelspec": {
   "display_name": "typedspark",
   "language": "python",
   "name": "python3"
  },
  "language_info": {
   "codemirror_mode": {
    "name": "ipython",
    "version": 3
   },
   "file_extension": ".py",
   "mimetype": "text/x-python",
   "name": "python",
   "nbconvert_exporter": "python",
   "pygments_lexer": "ipython3",
   "version": "3.11.2"
  },
  "papermill": {
   "default_parameters": {},
   "duration": 1.283542,
   "end_time": "2023-04-17T15:10:42.577770",
   "environment_variables": {},
   "exception": null,
   "input_path": "docs/source/schema_attributes.ipynb",
   "output_path": "docs/source/schema_attributes.ipynb",
   "parameters": {},
   "start_time": "2023-04-17T15:10:41.294228",
   "version": "2.4.0"
  }
 },
 "nbformat": 4,
 "nbformat_minor": 5
}
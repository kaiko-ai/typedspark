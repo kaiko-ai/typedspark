{
 "cells": [
  {
   "attachments": {},
   "cell_type": "markdown",
   "metadata": {},
   "source": [
    "# Using typedspark in Databricks notebooks\n",
    "You can dynamically load a `DataSet` and its corresponding `Schema` from a table in Databricks. To illustrate this, let us first make a temporary table that we can load later."
   ]
  },
  {
   "cell_type": "code",
   "execution_count": 5,
   "metadata": {},
   "outputs": [],
   "source": [
    "import warnings\n",
    "from pyspark.sql import SparkSession \n",
    "warnings.filterwarnings('ignore')\n",
    "spark = SparkSession.Builder().getOrCreate()"
   ]
  },
  {
   "cell_type": "code",
   "execution_count": 6,
   "metadata": {},
   "outputs": [],
   "source": [
    "import pandas as pd\n",
    "\n",
    "(\n",
    "    spark.createDataFrame(\n",
    "        pd.DataFrame(\n",
    "            dict(\n",
    "                name=[\"Jack\", \"John\", \"Jane\"],\n",
    "                age=[20, 30, 40],\n",
    "            )\n",
    "        )\n",
    "    )\n",
    "    .createOrReplaceTempView(\"person_table\")\n",
    ")\n"
   ]
  },
  {
   "attachments": {},
   "cell_type": "markdown",
   "metadata": {},
   "source": [
    "We can now load these data using `load_table()`. Note that the `Schema` is inferred: it doesn't need to have been serialized using `typedspark`."
   ]
  },
  {
   "cell_type": "code",
   "execution_count": 6,
   "metadata": {},
   "outputs": [],
   "source": [
    "from typedspark import load_table\n",
    "\n",
    "df, Person = load_table(spark, \"person_table\")"
   ]
  },
  {
   "attachments": {},
   "cell_type": "markdown",
   "metadata": {},
   "source": [
    "You can now use `df` and `Person` just like you would in your IDE. One of the advantages is that this provides auto-complete on column names. No more looking at `df.columns` every minute to remember the column names!"
   ]
  },
  {
   "cell_type": "code",
   "execution_count": 7,
   "metadata": {},
   "outputs": [
    {
     "name": "stdout",
     "output_type": "stream",
     "text": [
      "+----+---+\n",
      "|name|age|\n",
      "+----+---+\n",
      "|John| 30|\n",
      "|Jane| 40|\n",
      "+----+---+\n",
      "\n"
     ]
    }
   ],
   "source": [
    "(\n",
    "    df\n",
    "    .filter(Person.age > 25)\n",
    "    .show()\n",
    ")"
   ]
  },
  {
   "attachments": {},
   "cell_type": "markdown",
   "metadata": {},
   "source": [
    "Of note, `load_table()` automatically runs `register_schema_to_dataset()` on the resulting `DataSet` and `Schema`, hence resolving potential column disambiguities.\n",
    "\n",
    "A second situation in which `load_table()` is helpful is when you want to add schemas to existing tables. Simply run:"
   ]
  },
  {
   "cell_type": "code",
   "execution_count": 8,
   "metadata": {},
   "outputs": [
    {
     "data": {
      "text/plain": [
       "\n",
       "from pyspark.sql.types import LongType, StringType\n",
       "\n",
       "from typedspark import Column, Schema\n",
       "\n",
       "\n",
       "class DynamicallyLoadedSchema(Schema):\n",
       "    name: Column[StringType]\n",
       "    age: Column[LongType]"
      ]
     },
     "execution_count": 8,
     "metadata": {},
     "output_type": "execute_result"
    }
   ],
   "source": [
    "Person"
   ]
  },
  {
   "attachments": {},
   "cell_type": "markdown",
   "metadata": {},
   "source": [
    "To also generate documentation, run:"
   ]
  },
  {
   "cell_type": "code",
   "execution_count": 9,
   "metadata": {},
   "outputs": [
    {
     "name": "stdout",
     "output_type": "stream",
     "text": [
      "from typing import Annotated\n",
      "\n",
      "from pyspark.sql.types import LongType, StringType\n",
      "\n",
      "from typedspark import Column, ColumnMeta, Schema\n",
      "\n",
      "\n",
      "class Person(Schema):\n",
      "    \"\"\"Add documentation here.\"\"\"\n",
      "\n",
      "    name: Annotated[Column[StringType], ColumnMeta(comment=\"\")]\n",
      "    age: Annotated[Column[LongType], ColumnMeta(comment=\"\")]\n",
      "\n"
     ]
    }
   ],
   "source": [
    "Person.print_schema(schema_name=\"Person\", include_documentation=True)"
   ]
  },
  {
   "cell_type": "markdown",
   "metadata": {},
   "source": []
  }
 ],
 "metadata": {
  "kernelspec": {
   "display_name": "typedspark",
   "language": "python",
   "name": "python3"
  },
  "language_info": {
   "codemirror_mode": {
    "name": "ipython",
    "version": 3
   },
   "file_extension": ".py",
   "mimetype": "text/x-python",
   "name": "python",
   "nbconvert_exporter": "python",
   "pygments_lexer": "ipython3",
   "version": "3.9.16"
  },
  "orig_nbformat": 4
 },
 "nbformat": 4,
 "nbformat_minor": 2
}

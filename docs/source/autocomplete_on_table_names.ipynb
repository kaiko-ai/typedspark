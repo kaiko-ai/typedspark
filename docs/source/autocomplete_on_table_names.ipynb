{
 "cells": [
  {
   "attachments": {},
   "cell_type": "markdown",
   "id": "0bac925e",
   "metadata": {},
   "source": [
    "# Autocomplete on table names\n",
    "\n",
    "With `load_table()` we can dynamically load `DataSets` and their `Schemas`. However, we still need to type the table name as a string, which can be cumbersome because of typos or because we forgot the exact name. The `Databases` class gives you autocomplete on table names and hence alleviates these problems. To illustrate this, let's first generate some data."
   ]
  },
  {
   "cell_type": "code",
   "execution_count": 1,
   "id": "88feb784",
   "metadata": {},
   "outputs": [],
   "source": [
    "from pyspark.sql import SparkSession\n",
    "spark = SparkSession.Builder().config(\"spark.ui.showConsoleProgress\", \"false\").getOrCreate()\n",
    "spark.sparkContext.setLogLevel(\"ERROR\")"
   ]
  },
  {
   "cell_type": "code",
   "execution_count": 2,
   "id": "d56535f4",
   "metadata": {},
   "outputs": [],
   "source": [
    "import pandas as pd\n",
    "\n",
    "(\n",
    "    spark.createDataFrame(\n",
    "        pd.DataFrame(\n",
    "            dict(\n",
    "                name=[\"Jack\", \"John\", \"Jane\"],\n",
    "                age=[20, 30, 40],\n",
    "            )\n",
    "        )\n",
    "    )\n",
    "    .createOrReplaceTempView(\"person_table\")\n",
    ")"
   ]
  },
  {
   "attachments": {},
   "cell_type": "markdown",
   "id": "aa94840a",
   "metadata": {},
   "source": [
    "Now, we create the `Database` object."
   ]
  },
  {
   "cell_type": "code",
   "execution_count": 3,
   "id": "3ae12618",
   "metadata": {},
   "outputs": [],
   "source": [
    "from typedspark import Databases\n",
    "\n",
    "DBs = Databases(spark)"
   ]
  },
  {
   "attachments": {},
   "cell_type": "markdown",
   "id": "033c28d6",
   "metadata": {},
   "source": [
    "We can use `DBs` to load our table. Notice that you'll get autocomplete here!"
   ]
  },
  {
   "cell_type": "code",
   "execution_count": 4,
   "id": "4adf417f",
   "metadata": {},
   "outputs": [],
   "source": [
    "persons, Person = DBs.default.person_table.load()"
   ]
  },
  {
   "attachments": {},
   "cell_type": "markdown",
   "id": "03140ede",
   "metadata": {},
   "source": [
    "We can use the `DataSet` and `Schema` just as we would before."
   ]
  },
  {
   "cell_type": "code",
   "execution_count": 5,
   "id": "74e81f87",
   "metadata": {},
   "outputs": [
    {
     "name": "stdout",
     "output_type": "stream",
     "text": [
      "+----+---+\n",
      "|name|age|\n",
      "+----+---+\n",
      "|Jack| 20|\n",
      "|John| 30|\n",
      "|Jane| 40|\n",
      "+----+---+\n",
      "\n"
     ]
    }
   ],
   "source": [
    "persons.show()"
   ]
  },
  {
   "cell_type": "code",
   "execution_count": 6,
   "id": "f54ef94a",
   "metadata": {},
   "outputs": [
    {
     "data": {
      "text/plain": [
       "\n",
       "from pyspark.sql.types import LongType, StringType\n",
       "\n",
       "from typedspark import Column, Schema\n",
       "\n",
       "\n",
       "class PersonTable(Schema):\n",
       "    name: Column[StringType]\n",
       "    age: Column[LongType]"
      ]
     },
     "execution_count": 6,
     "metadata": {},
     "output_type": "execute_result"
    }
   ],
   "source": [
    "Person"
   ]
  }
 ],
 "metadata": {
  "kernelspec": {
   "display_name": "typedspark",
   "language": "python",
   "name": "python3"
  },
  "language_info": {
   "codemirror_mode": {
    "name": "ipython",
    "version": 3
   },
   "file_extension": ".py",
   "mimetype": "text/x-python",
   "name": "python",
   "nbconvert_exporter": "python",
   "pygments_lexer": "ipython3",
   "version": "3.11.2"
  }
 },
 "nbformat": 4,
 "nbformat_minor": 5
}

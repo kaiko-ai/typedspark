{
 "cells": [
  {
   "attachments": {},
   "cell_type": "markdown",
   "id": "72077ffb",
   "metadata": {},
   "source": [
    "# Complex datatypes\n",
    "Spark contains several data types that are slightly more complex. \n",
    "\n",
    "## MapType, ArrayType and StructType\n",
    "These can be used in `typedspark` as follows:"
   ]
  },
  {
   "cell_type": "code",
   "execution_count": 1,
   "id": "934c2a2d",
   "metadata": {},
   "outputs": [],
   "source": [
    "from pyspark.sql.types import StringType\n",
    "from typedspark import ArrayType, MapType, StructType, Schema, Column\n",
    "\n",
    "class Values(Schema):\n",
    "    a: Column[StringType]\n",
    "    b: Column[StringType]\n",
    "\n",
    "class Answer(Schema):\n",
    "    value: Column[StructType[Values]]\n",
    "    items: Column[ArrayType[StringType]]\n",
    "    consequeces: Column[MapType[StringType, StringType]]"
   ]
  },
  {
   "attachments": {},
   "cell_type": "markdown",
   "id": "271da325",
   "metadata": {},
   "source": [
    "## DecimalType\n",
    "\n",
    "The `DecimalType` allows you to define precision and scale as parameters. You can define them as follows:"
   ]
  },
  {
   "cell_type": "code",
   "execution_count": 2,
   "id": "3ccb56ff",
   "metadata": {},
   "outputs": [],
   "source": [
    "from typing import Literal\n",
    "from typedspark import DecimalType\n",
    "\n",
    "class Values(Schema):\n",
    "    decimal: Column[DecimalType[Literal[38], Literal[18]]]"
   ]
  },
  {
   "attachments": {},
   "cell_type": "markdown",
   "id": "8a2232b3",
   "metadata": {},
   "source": [
    "## Did we miss a data type?\n",
    "\n",
    "Feel free to make an issue! We can extend the list of supported data types."
   ]
  },
  {
   "cell_type": "markdown",
   "id": "33d83e5f",
   "metadata": {},
   "source": []
  }
 ],
 "metadata": {
  "kernelspec": {
   "display_name": "typedspark",
   "language": "python",
   "name": "python3"
  },
  "language_info": {
   "codemirror_mode": {
    "name": "ipython",
    "version": 3
   },
   "file_extension": ".py",
   "mimetype": "text/x-python",
   "name": "python",
   "nbconvert_exporter": "python",
   "pygments_lexer": "ipython3",
   "version": "3.11.2"
  }
 },
 "nbformat": 4,
 "nbformat_minor": 5
}

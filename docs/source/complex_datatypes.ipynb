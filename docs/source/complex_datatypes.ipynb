{
 "cells": [
  {
   "attachments": {},
   "cell_type": "markdown",
   "id": "72077ffb",
   "metadata": {
    "papermill": {
     "duration": 0.008784,
     "end_time": "2023-04-17T15:10:14.688109",
     "exception": false,
     "start_time": "2023-04-17T15:10:14.679325",
     "status": "completed"
    },
    "tags": []
   },
   "source": [
    "# Complex datatypes\n",
    "Spark contains several data types that are slightly more complex. \n",
    "\n",
    "## MapType, ArrayType and StructType\n",
    "These can be used in `typedspark` as follows:"
   ]
  },
  {
   "cell_type": "code",
   "execution_count": 1,
   "id": "934c2a2d",
   "metadata": {
    "execution": {
     "iopub.execute_input": "2023-04-17T15:10:14.699374Z",
     "iopub.status.busy": "2023-04-17T15:10:14.698733Z",
     "iopub.status.idle": "2023-04-17T15:10:14.812485Z",
     "shell.execute_reply": "2023-04-17T15:10:14.811595Z"
    },
    "papermill": {
     "duration": 0.121928,
     "end_time": "2023-04-17T15:10:14.815230",
     "exception": false,
     "start_time": "2023-04-17T15:10:14.693302",
     "status": "completed"
    },
    "tags": []
   },
   "outputs": [],
   "source": [
    "from pyspark.sql.types import StringType\n",
    "from typedspark import ArrayType, MapType, StructType, Schema, Column\n",
    "\n",
    "class Values(Schema):\n",
    "    a: Column[StringType]\n",
    "    b: Column[StringType]\n",
    "\n",
    "class Answer(Schema):\n",
    "    value: Column[StructType[Values]]\n",
    "    items: Column[ArrayType[StringType]]\n",
    "    consequeces: Column[MapType[StringType, StringType]]"
   ]
  },
  {
   "attachments": {},
   "cell_type": "markdown",
   "id": "271da325",
   "metadata": {
    "papermill": {
     "duration": 0.002244,
     "end_time": "2023-04-17T15:10:14.820296",
     "exception": false,
     "start_time": "2023-04-17T15:10:14.818052",
     "status": "completed"
    },
    "tags": []
   },
   "source": [
    "## DecimalType\n",
    "\n",
    "The `DecimalType` allows you to define precision and scale as parameters. You can define them as follows:"
   ]
  },
  {
   "cell_type": "code",
   "execution_count": 2,
   "id": "3ccb56ff",
   "metadata": {
    "execution": {
     "iopub.execute_input": "2023-04-17T15:10:14.825444Z",
     "iopub.status.busy": "2023-04-17T15:10:14.825095Z",
     "iopub.status.idle": "2023-04-17T15:10:14.831345Z",
     "shell.execute_reply": "2023-04-17T15:10:14.830670Z"
    },
    "papermill": {
     "duration": 0.011211,
     "end_time": "2023-04-17T15:10:14.833799",
     "exception": false,
     "start_time": "2023-04-17T15:10:14.822588",
     "status": "completed"
    },
    "tags": []
   },
   "outputs": [],
   "source": [
    "from typing import Literal\n",
    "from typedspark import DecimalType\n",
    "\n",
    "class Values(Schema):\n",
    "    decimal: Column[DecimalType[Literal[38], Literal[18]]]"
   ]
  },
  {
   "attachments": {},
   "cell_type": "markdown",
   "id": "8a2232b3",
   "metadata": {
    "papermill": {
     "duration": 0.001922,
     "end_time": "2023-04-17T15:10:14.837978",
     "exception": false,
     "start_time": "2023-04-17T15:10:14.836056",
     "status": "completed"
    },
    "tags": []
   },
   "source": [
    "## Did we miss a data type?\n",
    "\n",
    "Feel free to make an issue! We can extend the list of supported data types."
   ]
  },
  {
   "cell_type": "markdown",
   "id": "33d83e5f",
   "metadata": {
    "papermill": {
     "duration": 0.002008,
     "end_time": "2023-04-17T15:10:14.841890",
     "exception": false,
     "start_time": "2023-04-17T15:10:14.839882",
     "status": "completed"
    },
    "tags": []
   },
   "source": []
  }
 ],
 "metadata": {
  "kernelspec": {
   "display_name": "typedspark",
   "language": "python",
   "name": "python3"
  },
  "language_info": {
   "codemirror_mode": {
    "name": "ipython",
    "version": 3
   },
   "file_extension": ".py",
   "mimetype": "text/x-python",
   "name": "python",
   "nbconvert_exporter": "python",
   "pygments_lexer": "ipython3",
   "version": "3.11.2"
  },
  "papermill": {
   "default_parameters": {},
   "duration": 1.278891,
   "end_time": "2023-04-17T15:10:15.067407",
   "environment_variables": {},
   "exception": null,
   "input_path": "docs/source/complex_datatypes.ipynb",
   "output_path": "docs/source/complex_datatypes.ipynb",
   "parameters": {},
   "start_time": "2023-04-17T15:10:13.788516",
   "version": "2.4.0"
  }
 },
 "nbformat": 4,
 "nbformat_minor": 5
}
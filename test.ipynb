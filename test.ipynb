{
 "cells": [
  {
   "cell_type": "code",
   "execution_count": 4,
   "metadata": {},
   "outputs": [
    {
     "name": "stdout",
     "output_type": "stream",
     "text": [
      "alpha\n",
      "bravo\n"
     ]
    }
   ],
   "source": [
    "from typedspark import Schema, Column, StructType\n",
    "from pyspark.sql.types import IntegerType, StringType\n",
    "\n",
    "class A(Schema):\n",
    "    alpha: Column[IntegerType]\n",
    "    bravo: Column[StringType]\n",
    "\n",
    "class B(Schema):\n",
    "    a: Column[StructType[A]]\n",
    "    b: Column[StringType]"
   ]
  },
  {
   "cell_type": "code",
   "execution_count": 5,
   "metadata": {},
   "outputs": [
    {
     "data": {
      "text/plain": [
       "\n",
       "from pyspark.sql.types import IntegerType, StringType\n",
       "\n",
       "from typedspark import Column, Schema, StructType\n",
       "\n",
       "\n",
       "class B(Schema):\n",
       "    a: Column[StructType[__main__.A]]\n",
       "    b: Column[StringType]\n",
       "\n",
       "\n",
       "class A(Schema):\n",
       "    alpha: Column[IntegerType]\n",
       "    bravo: Column[StringType]"
      ]
     },
     "execution_count": 5,
     "metadata": {},
     "output_type": "execute_result"
    }
   ],
   "source": [
    "B"
   ]
  },
  {
   "cell_type": "code",
   "execution_count": null,
   "metadata": {},
   "outputs": [],
   "source": []
  }
 ],
 "metadata": {
  "kernelspec": {
   "display_name": "typedspark",
   "language": "python",
   "name": "python3"
  },
  "language_info": {
   "codemirror_mode": {
    "name": "ipython",
    "version": 3
   },
   "file_extension": ".py",
   "mimetype": "text/x-python",
   "name": "python",
   "nbconvert_exporter": "python",
   "pygments_lexer": "ipython3",
   "version": "3.9.16"
  },
  "orig_nbformat": 4
 },
 "nbformat": 4,
 "nbformat_minor": 2
}

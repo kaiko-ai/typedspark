{
 "cells": [
  {
   "cell_type": "code",
   "execution_count": 1,
   "metadata": {},
   "outputs": [],
   "source": [
    "from dataclasses import dataclass\n",
    "from typing import Annotated, Any, Optional, get_origin, get_type_hints\n",
    "\n",
    "from typedspark._core.column import Column\n",
    "from typedspark._core.column_meta import ColumnMeta\n",
    "from typedspark._schema.schema import MetaSchema, Schema\n",
    "\n",
    "import pyspark.sql.types as T\n",
    "\n",
    "\n",
    "@dataclass\n",
    "class PartitionedColumnMeta(ColumnMeta):\n",
    "    is_partition_column: Optional[bool] = None\n",
    "\n",
    "\n",
    "class PartitionedSchema(MetaSchema):\n",
    "    def get_partitions(self) -> list[str | Any]:\n",
    "        return [\n",
    "            column_name\n",
    "            # this returns the column name and the column type\n",
    "            for column_name, column_type in get_type_hints(self, include_extras=True).items()\n",
    "            if get_origin(column_type) is Annotated\n",
    "            # for some reason the metadata returns a tuple instead of the actual class.\n",
    "            and column_type.__metadata__[0].is_partition_column\n",
    "        ]\n",
    "\n",
    "\n",
    "class PartitionedSubSchema(Schema):\n",
    "    \"\"\"Schema for the lineage table.\"\"\"\n",
    "\n",
    "    description: Annotated[\n",
    "        Column[T.StringType],\n",
    "        PartitionedColumnMeta(\n",
    "            comment=\"the description of the action\",\n",
    "            is_partition_column=True,\n",
    "        ),\n",
    "    ]\n",
    "    app: Annotated[\n",
    "        Column[T.StringType],\n",
    "        PartitionedColumnMeta(\n",
    "            comment=\"the name of the app\",\n",
    "            is_partition_column=True,\n",
    "        ),\n",
    "    ]\n",
    "    appVersion: Annotated[\n",
    "        Column[T.StringType],\n",
    "        PartitionedColumnMeta(\n",
    "            comment=\"the app version \",\n",
    "            is_partition_column=True,\n",
    "        ),\n",
    "    ]"
   ]
  },
  {
   "cell_type": "code",
   "execution_count": 2,
   "metadata": {},
   "outputs": [
    {
     "data": {
      "text/plain": [
       "{'comment': None, 'is_partition_column': True}"
      ]
     },
     "execution_count": 2,
     "metadata": {},
     "output_type": "execute_result"
    }
   ],
   "source": [
    "from dataclasses import asdict\n",
    "\n",
    "\n",
    "data = PartitionedColumnMeta(is_partition_column=True)\n",
    "data.get_metadata()"
   ]
  },
  {
   "cell_type": "code",
   "execution_count": 3,
   "metadata": {},
   "outputs": [
    {
     "data": {
      "text/plain": [
       "{'comment': 'the description of the action', 'is_partition_column': True}"
      ]
     },
     "execution_count": 3,
     "metadata": {},
     "output_type": "execute_result"
    }
   ],
   "source": [
    "PartitionedSubSchema.get_structtype()[0].metadata"
   ]
  },
  {
   "cell_type": "code",
   "execution_count": 4,
   "metadata": {},
   "outputs": [
    {
     "data": {
      "text/plain": [
       "{'description': {'comment': 'the description of the action',\n",
       "  'is_partition_column': True},\n",
       " 'app': {'comment': 'the name of the app', 'is_partition_column': True},\n",
       " 'appVersion': {'comment': 'the app version ', 'is_partition_column': True}}"
      ]
     },
     "execution_count": 4,
     "metadata": {},
     "output_type": "execute_result"
    }
   ],
   "source": [
    "{field.name: field.metadata for field in PartitionedSubSchema.get_structtype().fields}"
   ]
  },
  {
   "cell_type": "code",
   "execution_count": 26,
   "metadata": {},
   "outputs": [
    {
     "data": {
      "text/plain": [
       "{'description': {'comment': None},\n",
       " 'app': {'comment': None},\n",
       " 'appVersion': {'comment': None}}"
      ]
     },
     "execution_count": 26,
     "metadata": {},
     "output_type": "execute_result"
    }
   ],
   "source": [
    "{field.name: field.metadata for field in PartitionedSubSchema.get_structtype().fields}"
   ]
  },
  {
   "cell_type": "code",
   "execution_count": 23,
   "metadata": {},
   "outputs": [
    {
     "data": {
      "text/plain": [
       "0"
      ]
     },
     "execution_count": 23,
     "metadata": {},
     "output_type": "execute_result"
    }
   ],
   "source": [
    "@dataclass\n",
    "class A:\n",
    "    pass\n",
    "\n",
    "\n",
    "len(asdict(A()))"
   ]
  },
  {
   "cell_type": "code",
   "execution_count": 37,
   "metadata": {},
   "outputs": [
    {
     "data": {
      "text/plain": [
       "{'comment': 'hi', 'dog': None}"
      ]
     },
     "execution_count": 37,
     "metadata": {},
     "output_type": "execute_result"
    }
   ],
   "source": [
    "@dataclass\n",
    "class B:\n",
    "    comment: Optional[str] = None\n",
    "\n",
    "    def get_metadata(self):\n",
    "        \"\"\"Returns the metadata of this column.\"\"\"\n",
    "        res = asdict(self)\n",
    "        return res if len(res) > 0 else None\n",
    "\n",
    "\n",
    "@dataclass\n",
    "class C(B):\n",
    "    dog: Optional[bool] = None\n",
    "\n",
    "\n",
    "C(comment=\"hi\").get_metadata()"
   ]
  }
 ],
 "metadata": {
  "kernelspec": {
   "display_name": "typedspark-3.12.2",
   "language": "python",
   "name": "python3"
  },
  "language_info": {
   "codemirror_mode": {
    "name": "ipython",
    "version": 3
   },
   "file_extension": ".py",
   "mimetype": "text/x-python",
   "name": "python",
   "nbconvert_exporter": "python",
   "pygments_lexer": "ipython3",
   "version": "3.12.2"
  }
 },
 "nbformat": 4,
 "nbformat_minor": 2
}

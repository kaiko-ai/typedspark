{
 "cells": [
  {
   "cell_type": "code",
   "execution_count": 1,
   "metadata": {},
   "outputs": [
    {
     "name": "stderr",
     "output_type": "stream",
     "text": [
      "Setting default log level to \"WARN\".\n",
      "To adjust logging level use sc.setLogLevel(newLevel). For SparkR, use setLogLevel(newLevel).\n",
      "23/08/14 20:09:46 WARN NativeCodeLoader: Unable to load native-hadoop library for your platform... using builtin-java classes where applicable\n"
     ]
    }
   ],
   "source": [
    "from typing import Protocol, TypeVar\n",
    "from pyspark.sql import SparkSession\n",
    "from pyspark.sql.types import LongType, StringType\n",
    "from typedspark import (\n",
    "    Schema,\n",
    "    DataSet,\n",
    "    Column,\n",
    "    DataSetExtends,\n",
    "    DataSetImplements,\n",
    "    transform_to_schema,\n",
    "    create_empty_dataset,\n",
    ")\n",
    "\n",
    "\n",
    "class Person(Schema):\n",
    "    name: Column[StringType]\n",
    "    age: Column[LongType]\n",
    "\n",
    "\n",
    "class Job(Schema):\n",
    "    role: Column[StringType]\n",
    "\n",
    "\n",
    "class Age(Schema, Protocol):\n",
    "    age: Column[LongType]\n",
    "\n",
    "\n",
    "spark = SparkSession.builder.getOrCreate()\n",
    "\n",
    "person = create_empty_dataset(spark, Person)\n",
    "job = create_empty_dataset(spark, Job)"
   ]
  },
  {
   "cell_type": "code",
   "execution_count": 10,
   "metadata": {},
   "outputs": [],
   "source": [
    "def get_age(df: DataSetExtends[Age]) -> DataSet[Age]:\n",
    "    return transform_to_schema(df, Age)\n",
    "\n",
    "\n",
    "get_age(person)\n",
    "try:\n",
    "    get_age(job)  # linting error: Job is not a subtype of Age\n",
    "except:\n",
    "    pass"
   ]
  },
  {
   "cell_type": "code",
   "execution_count": 11,
   "metadata": {},
   "outputs": [],
   "source": [
    "T = TypeVar(\"T\", bound=Schema)\n",
    "\n",
    "\n",
    "def birthday(\n",
    "    df: DataSetImplements[Age, T],\n",
    ") -> DataSet[T]:\n",
    "    return transform_to_schema(\n",
    "        df,\n",
    "        df.typedspark_schema,  # type: ignore\n",
    "        {\n",
    "            Age.age: Age.age + 1,\n",
    "        },\n",
    "    )\n",
    "\n",
    "\n",
    "res = birthday(person)\n",
    "try:\n",
    "    res = birthday(job)  # linting error: Job is not a subtype of Age\n",
    "except:\n",
    "    pass"
   ]
  },
  {
   "cell_type": "code",
   "execution_count": null,
   "metadata": {},
   "outputs": [],
   "source": []
  }
 ],
 "metadata": {
  "kernelspec": {
   "display_name": "typedspark",
   "language": "python",
   "name": "python3"
  },
  "language_info": {
   "codemirror_mode": {
    "name": "ipython",
    "version": 3
   },
   "file_extension": ".py",
   "mimetype": "text/x-python",
   "name": "python",
   "nbconvert_exporter": "python",
   "pygments_lexer": "ipython3",
   "version": "3.11.2"
  },
  "orig_nbformat": 4
 },
 "nbformat": 4,
 "nbformat_minor": 2
}

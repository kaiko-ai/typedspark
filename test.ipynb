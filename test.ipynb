{
 "cells": [
  {
   "cell_type": "code",
   "execution_count": 11,
   "metadata": {},
   "outputs": [
    {
     "ename": "ImportError",
     "evalue": "cannot import name 'create_schema' from 'typedspark' (/Users/nanneaben/Documents/projects/2022/typedspark/typedspark/__init__.py)",
     "output_type": "error",
     "traceback": [
      "\u001b[0;31m---------------------------------------------------------------------------\u001b[0m",
      "\u001b[0;31mImportError\u001b[0m                               Traceback (most recent call last)",
      "Cell \u001b[0;32mIn[11], line 4\u001b[0m\n\u001b[1;32m      2\u001b[0m \u001b[39mfrom\u001b[39;00m \u001b[39mpyspark\u001b[39;00m\u001b[39m.\u001b[39;00m\u001b[39msql\u001b[39;00m\u001b[39m.\u001b[39;00m\u001b[39mfunctions\u001b[39;00m \u001b[39mimport\u001b[39;00m first\n\u001b[1;32m      3\u001b[0m \u001b[39mfrom\u001b[39;00m \u001b[39mpyspark\u001b[39;00m\u001b[39m.\u001b[39;00m\u001b[39msql\u001b[39;00m\u001b[39m.\u001b[39;00m\u001b[39mtypes\u001b[39;00m \u001b[39mimport\u001b[39;00m IntegerType, StringType\n\u001b[0;32m----> 4\u001b[0m \u001b[39mfrom\u001b[39;00m \u001b[39mtypedspark\u001b[39;00m \u001b[39mimport\u001b[39;00m Column, Schema, create_partially_filled_dataset, create_schema\n\u001b[1;32m      6\u001b[0m spark \u001b[39m=\u001b[39m SparkSession\u001b[39m.\u001b[39mbuilder\u001b[39m.\u001b[39mgetOrCreate()\n\u001b[1;32m      8\u001b[0m \u001b[39mclass\u001b[39;00m \u001b[39mA\u001b[39;00m(Schema):\n",
      "\u001b[0;31mImportError\u001b[0m: cannot import name 'create_schema' from 'typedspark' (/Users/nanneaben/Documents/projects/2022/typedspark/typedspark/__init__.py)"
     ]
    }
   ],
   "source": [
    "from pyspark.sql import SparkSession\n",
    "from pyspark.sql.functions import first\n",
    "from pyspark.sql.types import IntegerType, StringType\n",
    "from typedspark import Column, Schema, create_partially_filled_dataset, create_schema\n",
    "\n",
    "spark = SparkSession.builder.getOrCreate()\n",
    "\n",
    "class A(Schema):\n",
    "    id: Column[IntegerType]\n",
    "    key: Column[StringType]\n",
    "    value: Column[StringType]\n",
    "\n",
    "df = (\n",
    "    create_partially_filled_dataset(\n",
    "        spark, \n",
    "        A, \n",
    "        {\n",
    "            A.id: [1, 1, 1, 2, 2, 2, 3, 3, 3],\n",
    "            A.key: [\"a\", \"b__\", \"c\", \"a\", \"b!!\", \"c\", \"a\", \"b!!\", \"c\"], \n",
    "            A.value: [\"alpha\", \"beta\", \"gamma\", \"alpha\", \"beta\", \"gamma\", \"alpha\", \"beta\", \"gamma\"]\n",
    "        }\n",
    "    )\n",
    "    .groupby(A.id)\n",
    "    .pivot(A.key.str)\n",
    "    .agg(first(A.value))\n",
    ")\n",
    "\n",
    "df, MySchema = create_schema(df, \"A\")\n",
    "MySchema"
   ]
  },
  {
   "cell_type": "code",
   "execution_count": null,
   "metadata": {},
   "outputs": [],
   "source": []
  }
 ],
 "metadata": {
  "language_info": {
   "name": "python"
  },
  "orig_nbformat": 4
 },
 "nbformat": 4,
 "nbformat_minor": 2
}

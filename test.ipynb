{
 "cells": [
  {
   "cell_type": "code",
   "execution_count": 6,
   "metadata": {},
   "outputs": [
    {
     "data": {
      "text/plain": [
       "\n",
       "from pyspark.sql.types import IntegerType\n",
       "\n",
       "from typedspark import Column, Schema\n",
       "\n",
       "\n",
       "class A(Schema):\n",
       "    a: Column[IntegerType]"
      ]
     },
     "execution_count": 6,
     "metadata": {},
     "output_type": "execute_result"
    }
   ],
   "source": [
    "from pyspark.sql.types import IntegerType\n",
    "from typedspark import Column, Schema\n",
    "from typedspark._core.datatypes import StructType\n",
    "\n",
    "class A(Schema):\n",
    "    a: Column[IntegerType]\n",
    "\n",
    "class B(Schema):\n",
    "    a: Column[IntegerType]\n",
    "    b: Column[StructType[A]]\n",
    "\n",
    "B.b.dtype.schema"
   ]
  },
  {
   "cell_type": "code",
   "execution_count": null,
   "metadata": {},
   "outputs": [],
   "source": []
  }
 ],
 "metadata": {
  "kernelspec": {
   "display_name": "typedspark",
   "language": "python",
   "name": "python3"
  },
  "language_info": {
   "codemirror_mode": {
    "name": "ipython",
    "version": 3
   },
   "file_extension": ".py",
   "mimetype": "text/x-python",
   "name": "python",
   "nbconvert_exporter": "python",
   "pygments_lexer": "ipython3",
   "version": "3.9.16"
  },
  "orig_nbformat": 4
 },
 "nbformat": 4,
 "nbformat_minor": 2
}
